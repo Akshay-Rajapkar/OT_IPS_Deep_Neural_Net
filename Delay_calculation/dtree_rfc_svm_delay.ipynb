{
 "cells": [
  {
   "cell_type": "code",
   "execution_count": 1,
   "metadata": {},
   "outputs": [],
   "source": [
    "import pandas as pd"
   ]
  },
  {
   "cell_type": "code",
   "execution_count": 2,
   "metadata": {},
   "outputs": [
    {
     "data": {
      "text/html": [
       "<div>\n",
       "<style scoped>\n",
       "    .dataframe tbody tr th:only-of-type {\n",
       "        vertical-align: middle;\n",
       "    }\n",
       "\n",
       "    .dataframe tbody tr th {\n",
       "        vertical-align: top;\n",
       "    }\n",
       "\n",
       "    .dataframe thead th {\n",
       "        text-align: right;\n",
       "    }\n",
       "</style>\n",
       "<table border=\"1\" class=\"dataframe\">\n",
       "  <thead>\n",
       "    <tr style=\"text-align: right;\">\n",
       "      <th></th>\n",
       "      <th>Date &amp; Time</th>\n",
       "      <th>Source IP</th>\n",
       "      <th>Destination IP</th>\n",
       "      <th>Source MAC</th>\n",
       "      <th>Destination MAC</th>\n",
       "      <th>Protocol</th>\n",
       "      <th>Flags</th>\n",
       "      <th>Src Port</th>\n",
       "      <th>Dst Port</th>\n",
       "      <th>Length</th>\n",
       "      <th>Class</th>\n",
       "    </tr>\n",
       "  </thead>\n",
       "  <tbody>\n",
       "    <tr>\n",
       "      <th>0</th>\n",
       "      <td>27-02-2020 11:34</td>\n",
       "      <td>192.168.0.50</td>\n",
       "      <td>192.168.0.20</td>\n",
       "      <td>40:f2:e9:9d:44:6b</td>\n",
       "      <td>00:90:e8:5e:d1:66</td>\n",
       "      <td>TCP</td>\n",
       "      <td>AP</td>\n",
       "      <td>60394</td>\n",
       "      <td>502</td>\n",
       "      <td>64</td>\n",
       "      <td>Normal</td>\n",
       "    </tr>\n",
       "    <tr>\n",
       "      <th>1</th>\n",
       "      <td>27-02-2020 11:34</td>\n",
       "      <td>192.168.0.20</td>\n",
       "      <td>192.168.0.50</td>\n",
       "      <td>00:90:e8:5e:d1:66</td>\n",
       "      <td>40:f2:e9:9d:44:6b</td>\n",
       "      <td>TCP</td>\n",
       "      <td>A</td>\n",
       "      <td>502</td>\n",
       "      <td>60394</td>\n",
       "      <td>40</td>\n",
       "      <td>Normal</td>\n",
       "    </tr>\n",
       "    <tr>\n",
       "      <th>2</th>\n",
       "      <td>27-02-2020 11:34</td>\n",
       "      <td>192.168.0.50</td>\n",
       "      <td>192.168.0.20</td>\n",
       "      <td>40:f2:e9:9d:44:6b</td>\n",
       "      <td>00:90:e8:5e:d1:66</td>\n",
       "      <td>TCP</td>\n",
       "      <td>AP</td>\n",
       "      <td>60394</td>\n",
       "      <td>502</td>\n",
       "      <td>52</td>\n",
       "      <td>Normal</td>\n",
       "    </tr>\n",
       "    <tr>\n",
       "      <th>3</th>\n",
       "      <td>27-02-2020 11:34</td>\n",
       "      <td>192.168.0.21</td>\n",
       "      <td>192.168.0.5</td>\n",
       "      <td>20:47:47:87:d4:96</td>\n",
       "      <td>00:1d:9c:a1:89:a4</td>\n",
       "      <td>TCP</td>\n",
       "      <td>S</td>\n",
       "      <td>59170</td>\n",
       "      <td>20000</td>\n",
       "      <td>48</td>\n",
       "      <td>Normal</td>\n",
       "    </tr>\n",
       "    <tr>\n",
       "      <th>4</th>\n",
       "      <td>27-02-2020 11:34</td>\n",
       "      <td>192.168.0.21</td>\n",
       "      <td>192.168.0.5</td>\n",
       "      <td>20:47:47:87:d4:96</td>\n",
       "      <td>00:1d:9c:a1:89:a4</td>\n",
       "      <td>TCP</td>\n",
       "      <td>A</td>\n",
       "      <td>59170</td>\n",
       "      <td>20000</td>\n",
       "      <td>40</td>\n",
       "      <td>Normal</td>\n",
       "    </tr>\n",
       "  </tbody>\n",
       "</table>\n",
       "</div>"
      ],
      "text/plain": [
       "        Date & Time     Source IP Destination IP         Source MAC  \\\n",
       "0  27-02-2020 11:34  192.168.0.50   192.168.0.20  40:f2:e9:9d:44:6b   \n",
       "1  27-02-2020 11:34  192.168.0.20   192.168.0.50  00:90:e8:5e:d1:66   \n",
       "2  27-02-2020 11:34  192.168.0.50   192.168.0.20  40:f2:e9:9d:44:6b   \n",
       "3  27-02-2020 11:34  192.168.0.21    192.168.0.5  20:47:47:87:d4:96   \n",
       "4  27-02-2020 11:34  192.168.0.21    192.168.0.5  20:47:47:87:d4:96   \n",
       "\n",
       "     Destination MAC Protocol Flags  Src Port  Dst Port  Length   Class  \n",
       "0  00:90:e8:5e:d1:66      TCP    AP     60394       502      64  Normal  \n",
       "1  40:f2:e9:9d:44:6b      TCP     A       502     60394      40  Normal  \n",
       "2  00:90:e8:5e:d1:66      TCP    AP     60394       502      52  Normal  \n",
       "3  00:1d:9c:a1:89:a4      TCP     S     59170     20000      48  Normal  \n",
       "4  00:1d:9c:a1:89:a4      TCP     A     59170     20000      40  Normal  "
      ]
     },
     "execution_count": 2,
     "metadata": {},
     "output_type": "execute_result"
    }
   ],
   "source": [
    "df = pd.read_csv(\"category_dataset.csv\", index_col = False)\n",
    "df.head()"
   ]
  },
  {
   "cell_type": "code",
   "execution_count": 3,
   "metadata": {},
   "outputs": [],
   "source": [
    "def change_class(data):\n",
    "    lst = ['TCP port & service discovery','Stealth scan OS & version detection','Malware']\n",
    "    if data in lst:\n",
    "        return \"Malware stealth scan\"\n",
    "    else:\n",
    "        return data"
   ]
  },
  {
   "cell_type": "code",
   "execution_count": 4,
   "metadata": {},
   "outputs": [],
   "source": [
    "df[\"Class\"] = df[\"Class\"].apply(change_class)"
   ]
  },
  {
   "cell_type": "code",
   "execution_count": 6,
   "metadata": {},
   "outputs": [],
   "source": [
    "from joblib import dump, load\n",
    "enc_bin = load('enc_bin.joblib')\n",
    "sc_enc = load('sc_enc.joblib')\n",
    "dtree = load('dtree.joblib')\n",
    "rfc = load('rfc.joblib')\n",
    "svm = load('svm.joblib')"
   ]
  },
  {
   "cell_type": "code",
   "execution_count": 15,
   "metadata": {},
   "outputs": [],
   "source": [
    "from datetime import datetime\n",
    "start1, start2, start3 = [], [], []\n",
    "stop1, stop2, stop3 = [], [], []\n",
    "true_class = []\n",
    "pred_class1, pred_class2, pred_class3 = [], [], []"
   ]
  },
  {
   "cell_type": "code",
   "execution_count": 16,
   "metadata": {},
   "outputs": [],
   "source": [
    "for i in range(10000):\n",
    "    test = df.sample(n=1)\n",
    "    true_class.append(*list(test[\"Class\"].values))\n",
    "    test = test[['Source IP', 'Destination IP', 'Source MAC', 'Destination MAC', 'Protocol', 'Flags', 'Src Port', 'Dst Port',\n",
    "           'Length']].values\n",
    "    start_time = datetime.now()\n",
    "    test_bin = enc_bin.transform(test)\n",
    "    test_scale = sc_enc.transform(test_bin)\n",
    "    prediction_test = dtree.predict(test_scale)\n",
    "    stop_time = datetime.now()\n",
    "    start1.append(start_time)\n",
    "    stop1.append(stop_time)\n",
    "    pred_class1.extend(prediction_test)\n",
    "    \n",
    "    start_time = datetime.now()\n",
    "    test_bin = enc_bin.transform(test)\n",
    "    test_scale = sc_enc.transform(test_bin)\n",
    "    prediction_test = rfc.predict(test_scale)\n",
    "    stop_time = datetime.now()\n",
    "    start2.append(start_time)\n",
    "    stop2.append(stop_time)\n",
    "    pred_class2.extend(prediction_test)\n",
    "    \n",
    "    start_time = datetime.now()\n",
    "    test_bin = enc_bin.transform(test)\n",
    "    test_scale = sc_enc.transform(test_bin)\n",
    "    prediction_test = svm.predict(test_scale)\n",
    "    stop_time = datetime.now()\n",
    "    start3.append(start_time)\n",
    "    stop3.append(stop_time)\n",
    "    pred_class3.extend(prediction_test)\n",
    "    "
   ]
  },
  {
   "cell_type": "code",
   "execution_count": 17,
   "metadata": {},
   "outputs": [],
   "source": [
    "def find_delay(timestamp):\n",
    "    start_ms = timestamp[0].microsecond\n",
    "    stop_ms = timestamp[1].microsecond\n",
    "    delay = stop_ms - start_ms\n",
    "    if delay > 0:\n",
    "        return delay\n",
    "    else:\n",
    "        return 1000000+delay"
   ]
  },
  {
   "cell_type": "code",
   "execution_count": 18,
   "metadata": {},
   "outputs": [
    {
     "data": {
      "text/html": [
       "<div>\n",
       "<style scoped>\n",
       "    .dataframe tbody tr th:only-of-type {\n",
       "        vertical-align: middle;\n",
       "    }\n",
       "\n",
       "    .dataframe tbody tr th {\n",
       "        vertical-align: top;\n",
       "    }\n",
       "\n",
       "    .dataframe thead th {\n",
       "        text-align: right;\n",
       "    }\n",
       "</style>\n",
       "<table border=\"1\" class=\"dataframe\">\n",
       "  <thead>\n",
       "    <tr style=\"text-align: right;\">\n",
       "      <th></th>\n",
       "      <th>Start time</th>\n",
       "      <th>Stop time</th>\n",
       "      <th>True Class</th>\n",
       "      <th>Predicted Class</th>\n",
       "      <th>Delay</th>\n",
       "    </tr>\n",
       "  </thead>\n",
       "  <tbody>\n",
       "    <tr>\n",
       "      <th>0</th>\n",
       "      <td>2020-05-20 18:13:26.757217</td>\n",
       "      <td>2020-05-20 18:13:26.789132</td>\n",
       "      <td>UDP port &amp; service scan</td>\n",
       "      <td>UDP port &amp; service scan</td>\n",
       "      <td>31915</td>\n",
       "    </tr>\n",
       "    <tr>\n",
       "      <th>1</th>\n",
       "      <td>2020-05-20 18:13:26.977865</td>\n",
       "      <td>2020-05-20 18:13:27.019995</td>\n",
       "      <td>Malware stealth scan</td>\n",
       "      <td>Malware stealth scan</td>\n",
       "      <td>42130</td>\n",
       "    </tr>\n",
       "    <tr>\n",
       "      <th>2</th>\n",
       "      <td>2020-05-20 18:13:27.222703</td>\n",
       "      <td>2020-05-20 18:13:27.255357</td>\n",
       "      <td>MITM</td>\n",
       "      <td>MITM</td>\n",
       "      <td>32654</td>\n",
       "    </tr>\n",
       "    <tr>\n",
       "      <th>3</th>\n",
       "      <td>2020-05-20 18:13:27.471681</td>\n",
       "      <td>2020-05-20 18:13:27.506795</td>\n",
       "      <td>Malware stealth scan</td>\n",
       "      <td>Malware stealth scan</td>\n",
       "      <td>35114</td>\n",
       "    </tr>\n",
       "    <tr>\n",
       "      <th>4</th>\n",
       "      <td>2020-05-20 18:13:27.751153</td>\n",
       "      <td>2020-05-20 18:13:27.794776</td>\n",
       "      <td>Malware stealth scan</td>\n",
       "      <td>Malware stealth scan</td>\n",
       "      <td>43623</td>\n",
       "    </tr>\n",
       "  </tbody>\n",
       "</table>\n",
       "</div>"
      ],
      "text/plain": [
       "                  Start time                  Stop time  \\\n",
       "0 2020-05-20 18:13:26.757217 2020-05-20 18:13:26.789132   \n",
       "1 2020-05-20 18:13:26.977865 2020-05-20 18:13:27.019995   \n",
       "2 2020-05-20 18:13:27.222703 2020-05-20 18:13:27.255357   \n",
       "3 2020-05-20 18:13:27.471681 2020-05-20 18:13:27.506795   \n",
       "4 2020-05-20 18:13:27.751153 2020-05-20 18:13:27.794776   \n",
       "\n",
       "                True Class          Predicted Class  Delay  \n",
       "0  UDP port & service scan  UDP port & service scan  31915  \n",
       "1     Malware stealth scan     Malware stealth scan  42130  \n",
       "2                     MITM                     MITM  32654  \n",
       "3     Malware stealth scan     Malware stealth scan  35114  \n",
       "4     Malware stealth scan     Malware stealth scan  43623  "
      ]
     },
     "execution_count": 18,
     "metadata": {},
     "output_type": "execute_result"
    }
   ],
   "source": [
    "test_dtree_df = pd.DataFrame({\"Start time\":start1, \"Stop time\":stop1, \"True Class\":true_class, \"Predicted Class\":pred_class1})\n",
    "test_dtree_df[\"Delay\"] = test_dtree_df[[\"Start time\",\"Stop time\"]].apply(find_delay,axis=1)\n",
    "test_dtree_df.head()"
   ]
  },
  {
   "cell_type": "code",
   "execution_count": 19,
   "metadata": {},
   "outputs": [
    {
     "data": {
      "text/html": [
       "<div>\n",
       "<style scoped>\n",
       "    .dataframe tbody tr th:only-of-type {\n",
       "        vertical-align: middle;\n",
       "    }\n",
       "\n",
       "    .dataframe tbody tr th {\n",
       "        vertical-align: top;\n",
       "    }\n",
       "\n",
       "    .dataframe thead th {\n",
       "        text-align: right;\n",
       "    }\n",
       "</style>\n",
       "<table border=\"1\" class=\"dataframe\">\n",
       "  <thead>\n",
       "    <tr style=\"text-align: right;\">\n",
       "      <th></th>\n",
       "      <th>Start time</th>\n",
       "      <th>Stop time</th>\n",
       "      <th>True Class</th>\n",
       "      <th>Predicted Class</th>\n",
       "      <th>Delay</th>\n",
       "    </tr>\n",
       "  </thead>\n",
       "  <tbody>\n",
       "    <tr>\n",
       "      <th>0</th>\n",
       "      <td>2020-05-20 18:13:26.789132</td>\n",
       "      <td>2020-05-20 18:13:26.935034</td>\n",
       "      <td>UDP port &amp; service scan</td>\n",
       "      <td>UDP port &amp; service scan</td>\n",
       "      <td>145902</td>\n",
       "    </tr>\n",
       "    <tr>\n",
       "      <th>1</th>\n",
       "      <td>2020-05-20 18:13:27.019995</td>\n",
       "      <td>2020-05-20 18:13:27.175810</td>\n",
       "      <td>Malware stealth scan</td>\n",
       "      <td>Malware stealth scan</td>\n",
       "      <td>155815</td>\n",
       "    </tr>\n",
       "    <tr>\n",
       "      <th>2</th>\n",
       "      <td>2020-05-20 18:13:27.255357</td>\n",
       "      <td>2020-05-20 18:13:27.419808</td>\n",
       "      <td>MITM</td>\n",
       "      <td>MITM</td>\n",
       "      <td>164451</td>\n",
       "    </tr>\n",
       "    <tr>\n",
       "      <th>3</th>\n",
       "      <td>2020-05-20 18:13:27.506795</td>\n",
       "      <td>2020-05-20 18:13:27.683487</td>\n",
       "      <td>Malware stealth scan</td>\n",
       "      <td>Malware stealth scan</td>\n",
       "      <td>176692</td>\n",
       "    </tr>\n",
       "    <tr>\n",
       "      <th>4</th>\n",
       "      <td>2020-05-20 18:13:27.794776</td>\n",
       "      <td>2020-05-20 18:13:27.975384</td>\n",
       "      <td>Malware stealth scan</td>\n",
       "      <td>Malware stealth scan</td>\n",
       "      <td>180608</td>\n",
       "    </tr>\n",
       "  </tbody>\n",
       "</table>\n",
       "</div>"
      ],
      "text/plain": [
       "                  Start time                  Stop time  \\\n",
       "0 2020-05-20 18:13:26.789132 2020-05-20 18:13:26.935034   \n",
       "1 2020-05-20 18:13:27.019995 2020-05-20 18:13:27.175810   \n",
       "2 2020-05-20 18:13:27.255357 2020-05-20 18:13:27.419808   \n",
       "3 2020-05-20 18:13:27.506795 2020-05-20 18:13:27.683487   \n",
       "4 2020-05-20 18:13:27.794776 2020-05-20 18:13:27.975384   \n",
       "\n",
       "                True Class          Predicted Class   Delay  \n",
       "0  UDP port & service scan  UDP port & service scan  145902  \n",
       "1     Malware stealth scan     Malware stealth scan  155815  \n",
       "2                     MITM                     MITM  164451  \n",
       "3     Malware stealth scan     Malware stealth scan  176692  \n",
       "4     Malware stealth scan     Malware stealth scan  180608  "
      ]
     },
     "execution_count": 19,
     "metadata": {},
     "output_type": "execute_result"
    }
   ],
   "source": [
    "test_rfc_df = pd.DataFrame({\"Start time\":start2, \"Stop time\":stop2, \"True Class\":true_class, \"Predicted Class\":pred_class2})\n",
    "test_rfc_df[\"Delay\"] = test_rfc_df[[\"Start time\",\"Stop time\"]].apply(find_delay,axis=1)\n",
    "test_rfc_df.head()"
   ]
  },
  {
   "cell_type": "code",
   "execution_count": 20,
   "metadata": {},
   "outputs": [
    {
     "data": {
      "text/html": [
       "<div>\n",
       "<style scoped>\n",
       "    .dataframe tbody tr th:only-of-type {\n",
       "        vertical-align: middle;\n",
       "    }\n",
       "\n",
       "    .dataframe tbody tr th {\n",
       "        vertical-align: top;\n",
       "    }\n",
       "\n",
       "    .dataframe thead th {\n",
       "        text-align: right;\n",
       "    }\n",
       "</style>\n",
       "<table border=\"1\" class=\"dataframe\">\n",
       "  <thead>\n",
       "    <tr style=\"text-align: right;\">\n",
       "      <th></th>\n",
       "      <th>Start time</th>\n",
       "      <th>Stop time</th>\n",
       "      <th>True Class</th>\n",
       "      <th>Predicted Class</th>\n",
       "      <th>Delay</th>\n",
       "    </tr>\n",
       "  </thead>\n",
       "  <tbody>\n",
       "    <tr>\n",
       "      <th>0</th>\n",
       "      <td>2020-05-20 18:13:26.935034</td>\n",
       "      <td>2020-05-20 18:13:26.977865</td>\n",
       "      <td>UDP port &amp; service scan</td>\n",
       "      <td>UDP port &amp; service scan</td>\n",
       "      <td>42831</td>\n",
       "    </tr>\n",
       "    <tr>\n",
       "      <th>1</th>\n",
       "      <td>2020-05-20 18:13:27.175810</td>\n",
       "      <td>2020-05-20 18:13:27.207092</td>\n",
       "      <td>Malware stealth scan</td>\n",
       "      <td>Malware stealth scan</td>\n",
       "      <td>31282</td>\n",
       "    </tr>\n",
       "    <tr>\n",
       "      <th>2</th>\n",
       "      <td>2020-05-20 18:13:27.419808</td>\n",
       "      <td>2020-05-20 18:13:27.457119</td>\n",
       "      <td>MITM</td>\n",
       "      <td>MITM</td>\n",
       "      <td>37311</td>\n",
       "    </tr>\n",
       "    <tr>\n",
       "      <th>3</th>\n",
       "      <td>2020-05-20 18:13:27.683487</td>\n",
       "      <td>2020-05-20 18:13:27.742118</td>\n",
       "      <td>Malware stealth scan</td>\n",
       "      <td>Malware stealth scan</td>\n",
       "      <td>58631</td>\n",
       "    </tr>\n",
       "    <tr>\n",
       "      <th>4</th>\n",
       "      <td>2020-05-20 18:13:27.975384</td>\n",
       "      <td>2020-05-20 18:13:28.025724</td>\n",
       "      <td>Malware stealth scan</td>\n",
       "      <td>Malware stealth scan</td>\n",
       "      <td>50340</td>\n",
       "    </tr>\n",
       "  </tbody>\n",
       "</table>\n",
       "</div>"
      ],
      "text/plain": [
       "                  Start time                  Stop time  \\\n",
       "0 2020-05-20 18:13:26.935034 2020-05-20 18:13:26.977865   \n",
       "1 2020-05-20 18:13:27.175810 2020-05-20 18:13:27.207092   \n",
       "2 2020-05-20 18:13:27.419808 2020-05-20 18:13:27.457119   \n",
       "3 2020-05-20 18:13:27.683487 2020-05-20 18:13:27.742118   \n",
       "4 2020-05-20 18:13:27.975384 2020-05-20 18:13:28.025724   \n",
       "\n",
       "                True Class          Predicted Class  Delay  \n",
       "0  UDP port & service scan  UDP port & service scan  42831  \n",
       "1     Malware stealth scan     Malware stealth scan  31282  \n",
       "2                     MITM                     MITM  37311  \n",
       "3     Malware stealth scan     Malware stealth scan  58631  \n",
       "4     Malware stealth scan     Malware stealth scan  50340  "
      ]
     },
     "execution_count": 20,
     "metadata": {},
     "output_type": "execute_result"
    }
   ],
   "source": [
    "test_svm_df = pd.DataFrame({\"Start time\":start3, \"Stop time\":stop3, \"True Class\":true_class, \"Predicted Class\":pred_class3})\n",
    "test_svm_df[\"Delay\"] = test_svm_df[[\"Start time\",\"Stop time\"]].apply(find_delay,axis=1)\n",
    "test_svm_df.head()"
   ]
  },
  {
   "cell_type": "code",
   "execution_count": 21,
   "metadata": {},
   "outputs": [
    {
     "data": {
      "text/plain": [
       "count     10000.000000\n",
       "mean      42631.215400\n",
       "std        8327.920571\n",
       "min       11870.000000\n",
       "25%       34114.250000\n",
       "50%       46405.500000\n",
       "75%       48240.000000\n",
       "max      120390.000000\n",
       "Name: Delay, dtype: float64"
      ]
     },
     "execution_count": 21,
     "metadata": {},
     "output_type": "execute_result"
    }
   ],
   "source": [
    "test_dtree_df[\"Delay\"].describe()"
   ]
  },
  {
   "cell_type": "code",
   "execution_count": 22,
   "metadata": {},
   "outputs": [
    {
     "data": {
      "text/plain": [
       "count     10000.000000\n",
       "mean     149546.912100\n",
       "std       14768.470791\n",
       "min       60383.000000\n",
       "25%      141947.500000\n",
       "50%      148034.500000\n",
       "75%      156859.750000\n",
       "max      365281.000000\n",
       "Name: Delay, dtype: float64"
      ]
     },
     "execution_count": 22,
     "metadata": {},
     "output_type": "execute_result"
    }
   ],
   "source": [
    "test_rfc_df[\"Delay\"].describe()"
   ]
  },
  {
   "cell_type": "code",
   "execution_count": 23,
   "metadata": {},
   "outputs": [
    {
     "data": {
      "text/plain": [
       "count     10000.00000\n",
       "mean      43038.20410\n",
       "std        8344.69859\n",
       "min        8589.00000\n",
       "25%       34748.75000\n",
       "50%       46858.00000\n",
       "75%       48288.00000\n",
       "max      135520.00000\n",
       "Name: Delay, dtype: float64"
      ]
     },
     "execution_count": 23,
     "metadata": {},
     "output_type": "execute_result"
    }
   ],
   "source": [
    "test_svm_df[\"Delay\"].describe()"
   ]
  },
  {
   "cell_type": "code",
   "execution_count": 24,
   "metadata": {},
   "outputs": [],
   "source": [
    "test_dtree_df.to_csv(\"dtree_dealy.csv\", index=False)\n",
    "test_rfc_df.to_csv(\"rfc_dealy.csv\", index=False)\n",
    "test_svm_df.to_csv(\"svm_dealy.csv\", index=False)"
   ]
  },
  {
   "cell_type": "code",
   "execution_count": null,
   "metadata": {},
   "outputs": [],
   "source": []
  }
 ],
 "metadata": {
  "kernelspec": {
   "display_name": "Python 3",
   "language": "python",
   "name": "python3"
  },
  "language_info": {
   "codemirror_mode": {
    "name": "ipython",
    "version": 3
   },
   "file_extension": ".py",
   "mimetype": "text/x-python",
   "name": "python",
   "nbconvert_exporter": "python",
   "pygments_lexer": "ipython3",
   "version": "3.7.5"
  }
 },
 "nbformat": 4,
 "nbformat_minor": 4
}
