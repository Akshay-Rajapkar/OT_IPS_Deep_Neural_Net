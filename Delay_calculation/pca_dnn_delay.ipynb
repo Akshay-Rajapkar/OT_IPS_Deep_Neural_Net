{
 "cells": [
  {
   "cell_type": "code",
   "execution_count": 1,
   "metadata": {},
   "outputs": [],
   "source": [
    "import pandas as pd"
   ]
  },
  {
   "cell_type": "code",
   "execution_count": 2,
   "metadata": {},
   "outputs": [
    {
     "data": {
      "text/html": [
       "<div>\n",
       "<style scoped>\n",
       "    .dataframe tbody tr th:only-of-type {\n",
       "        vertical-align: middle;\n",
       "    }\n",
       "\n",
       "    .dataframe tbody tr th {\n",
       "        vertical-align: top;\n",
       "    }\n",
       "\n",
       "    .dataframe thead th {\n",
       "        text-align: right;\n",
       "    }\n",
       "</style>\n",
       "<table border=\"1\" class=\"dataframe\">\n",
       "  <thead>\n",
       "    <tr style=\"text-align: right;\">\n",
       "      <th></th>\n",
       "      <th>Date &amp; Time</th>\n",
       "      <th>Source IP</th>\n",
       "      <th>Destination IP</th>\n",
       "      <th>Source MAC</th>\n",
       "      <th>Destination MAC</th>\n",
       "      <th>Protocol</th>\n",
       "      <th>Flags</th>\n",
       "      <th>Src Port</th>\n",
       "      <th>Dst Port</th>\n",
       "      <th>Length</th>\n",
       "      <th>Class</th>\n",
       "    </tr>\n",
       "  </thead>\n",
       "  <tbody>\n",
       "    <tr>\n",
       "      <th>0</th>\n",
       "      <td>27-02-2020 11:34</td>\n",
       "      <td>192.168.0.50</td>\n",
       "      <td>192.168.0.20</td>\n",
       "      <td>40:f2:e9:9d:44:6b</td>\n",
       "      <td>00:90:e8:5e:d1:66</td>\n",
       "      <td>TCP</td>\n",
       "      <td>AP</td>\n",
       "      <td>60394</td>\n",
       "      <td>502</td>\n",
       "      <td>64</td>\n",
       "      <td>Normal</td>\n",
       "    </tr>\n",
       "    <tr>\n",
       "      <th>1</th>\n",
       "      <td>27-02-2020 11:34</td>\n",
       "      <td>192.168.0.20</td>\n",
       "      <td>192.168.0.50</td>\n",
       "      <td>00:90:e8:5e:d1:66</td>\n",
       "      <td>40:f2:e9:9d:44:6b</td>\n",
       "      <td>TCP</td>\n",
       "      <td>A</td>\n",
       "      <td>502</td>\n",
       "      <td>60394</td>\n",
       "      <td>40</td>\n",
       "      <td>Normal</td>\n",
       "    </tr>\n",
       "    <tr>\n",
       "      <th>2</th>\n",
       "      <td>27-02-2020 11:34</td>\n",
       "      <td>192.168.0.50</td>\n",
       "      <td>192.168.0.20</td>\n",
       "      <td>40:f2:e9:9d:44:6b</td>\n",
       "      <td>00:90:e8:5e:d1:66</td>\n",
       "      <td>TCP</td>\n",
       "      <td>AP</td>\n",
       "      <td>60394</td>\n",
       "      <td>502</td>\n",
       "      <td>52</td>\n",
       "      <td>Normal</td>\n",
       "    </tr>\n",
       "    <tr>\n",
       "      <th>3</th>\n",
       "      <td>27-02-2020 11:34</td>\n",
       "      <td>192.168.0.21</td>\n",
       "      <td>192.168.0.5</td>\n",
       "      <td>20:47:47:87:d4:96</td>\n",
       "      <td>00:1d:9c:a1:89:a4</td>\n",
       "      <td>TCP</td>\n",
       "      <td>S</td>\n",
       "      <td>59170</td>\n",
       "      <td>20000</td>\n",
       "      <td>48</td>\n",
       "      <td>Normal</td>\n",
       "    </tr>\n",
       "    <tr>\n",
       "      <th>4</th>\n",
       "      <td>27-02-2020 11:34</td>\n",
       "      <td>192.168.0.21</td>\n",
       "      <td>192.168.0.5</td>\n",
       "      <td>20:47:47:87:d4:96</td>\n",
       "      <td>00:1d:9c:a1:89:a4</td>\n",
       "      <td>TCP</td>\n",
       "      <td>A</td>\n",
       "      <td>59170</td>\n",
       "      <td>20000</td>\n",
       "      <td>40</td>\n",
       "      <td>Normal</td>\n",
       "    </tr>\n",
       "  </tbody>\n",
       "</table>\n",
       "</div>"
      ],
      "text/plain": [
       "        Date & Time     Source IP Destination IP         Source MAC  \\\n",
       "0  27-02-2020 11:34  192.168.0.50   192.168.0.20  40:f2:e9:9d:44:6b   \n",
       "1  27-02-2020 11:34  192.168.0.20   192.168.0.50  00:90:e8:5e:d1:66   \n",
       "2  27-02-2020 11:34  192.168.0.50   192.168.0.20  40:f2:e9:9d:44:6b   \n",
       "3  27-02-2020 11:34  192.168.0.21    192.168.0.5  20:47:47:87:d4:96   \n",
       "4  27-02-2020 11:34  192.168.0.21    192.168.0.5  20:47:47:87:d4:96   \n",
       "\n",
       "     Destination MAC Protocol Flags  Src Port  Dst Port  Length   Class  \n",
       "0  00:90:e8:5e:d1:66      TCP    AP     60394       502      64  Normal  \n",
       "1  40:f2:e9:9d:44:6b      TCP     A       502     60394      40  Normal  \n",
       "2  00:90:e8:5e:d1:66      TCP    AP     60394       502      52  Normal  \n",
       "3  00:1d:9c:a1:89:a4      TCP     S     59170     20000      48  Normal  \n",
       "4  00:1d:9c:a1:89:a4      TCP     A     59170     20000      40  Normal  "
      ]
     },
     "execution_count": 2,
     "metadata": {},
     "output_type": "execute_result"
    }
   ],
   "source": [
    "df = pd.read_csv(\"category_dataset.csv\", index_col = False)\n",
    "df.head()"
   ]
  },
  {
   "cell_type": "code",
   "execution_count": 3,
   "metadata": {},
   "outputs": [],
   "source": [
    "def change_class(data):\n",
    "    lst = ['TCP port & service discovery','Stealth scan OS & version detection','Malware']\n",
    "    if data in lst:\n",
    "        return \"Malware stealth scan\"\n",
    "    else:\n",
    "        return data"
   ]
  },
  {
   "cell_type": "code",
   "execution_count": 4,
   "metadata": {},
   "outputs": [],
   "source": [
    "df[\"Class\"] = df[\"Class\"].apply(change_class)"
   ]
  },
  {
   "cell_type": "code",
   "execution_count": 7,
   "metadata": {},
   "outputs": [],
   "source": [
    "from joblib import dump, load\n",
    "dnn_enc_bin = load('dnn_bin_enc_pca.joblib')\n",
    "dnn_sc_enc = load('dnn_sc_enc_pca.joblib')\n",
    "dnn_le = load('dnn_le_pca.joblib')\n",
    "dnn_pca = load('dnn_pca_enc.joblib')"
   ]
  },
  {
   "cell_type": "code",
   "execution_count": 8,
   "metadata": {},
   "outputs": [
    {
     "name": "stderr",
     "output_type": "stream",
     "text": [
      "Using TensorFlow backend.\n"
     ]
    }
   ],
   "source": [
    "from keras.models import load_model\n",
    "dnn_model = load_model(\"dnn_multiclass_pca.h5\")"
   ]
  },
  {
   "cell_type": "code",
   "execution_count": 15,
   "metadata": {},
   "outputs": [],
   "source": [
    "from datetime import datetime\n",
    "start = []\n",
    "stop = []\n",
    "true_class = []\n",
    "pred_class = []"
   ]
  },
  {
   "cell_type": "code",
   "execution_count": 16,
   "metadata": {},
   "outputs": [],
   "source": [
    "for i in range(10000):\n",
    "    test = df.sample(n=1)\n",
    "    true_class.append(*list(test[\"Class\"].values))\n",
    "    test = test[['Source IP', 'Destination IP', 'Protocol', 'Flags', 'Src Port', 'Dst Port','Length']].values\n",
    "    start_time = datetime.now()\n",
    "    test_bin = dnn_enc_bin.transform(test)\n",
    "    test_scale = dnn_sc_enc.transform(test_bin)\n",
    "    test_pca = dnn_pca.transform(test_scale)\n",
    "    prediction_test = dnn_model.predict_classes(test_pca)\n",
    "    stop_time = datetime.now()\n",
    "    start.append(start_time)\n",
    "    stop.append(stop_time)\n",
    "    pred_class.extend(dnn_le.inverse_transform(prediction_test))"
   ]
  },
  {
   "cell_type": "code",
   "execution_count": 19,
   "metadata": {},
   "outputs": [],
   "source": [
    "def find_delay(timestamp):\n",
    "    start_ms = timestamp[0].microsecond\n",
    "    stop_ms = timestamp[1].microsecond\n",
    "    delay = stop_ms - start_ms\n",
    "    if delay >= 0:\n",
    "        return delay\n",
    "    else:\n",
    "        return 1000000+delay"
   ]
  },
  {
   "cell_type": "code",
   "execution_count": 20,
   "metadata": {},
   "outputs": [
    {
     "data": {
      "text/html": [
       "<div>\n",
       "<style scoped>\n",
       "    .dataframe tbody tr th:only-of-type {\n",
       "        vertical-align: middle;\n",
       "    }\n",
       "\n",
       "    .dataframe tbody tr th {\n",
       "        vertical-align: top;\n",
       "    }\n",
       "\n",
       "    .dataframe thead th {\n",
       "        text-align: right;\n",
       "    }\n",
       "</style>\n",
       "<table border=\"1\" class=\"dataframe\">\n",
       "  <thead>\n",
       "    <tr style=\"text-align: right;\">\n",
       "      <th></th>\n",
       "      <th>Start time</th>\n",
       "      <th>Stop time</th>\n",
       "      <th>True Class</th>\n",
       "      <th>Predicted Class</th>\n",
       "      <th>Delay</th>\n",
       "    </tr>\n",
       "  </thead>\n",
       "  <tbody>\n",
       "    <tr>\n",
       "      <th>0</th>\n",
       "      <td>2020-05-25 23:18:28.200427</td>\n",
       "      <td>2020-05-25 23:18:28.213585</td>\n",
       "      <td>Ping scan</td>\n",
       "      <td>Ping scan</td>\n",
       "      <td>13158</td>\n",
       "    </tr>\n",
       "    <tr>\n",
       "      <th>1</th>\n",
       "      <td>2020-05-25 23:18:28.213585</td>\n",
       "      <td>2020-05-25 23:18:28.229208</td>\n",
       "      <td>DOS UDP scan</td>\n",
       "      <td>Malware stealth scan</td>\n",
       "      <td>15623</td>\n",
       "    </tr>\n",
       "    <tr>\n",
       "      <th>2</th>\n",
       "      <td>2020-05-25 23:18:28.229208</td>\n",
       "      <td>2020-05-25 23:18:28.229208</td>\n",
       "      <td>Malware stealth scan</td>\n",
       "      <td>Malware stealth scan</td>\n",
       "      <td>0</td>\n",
       "    </tr>\n",
       "    <tr>\n",
       "      <th>3</th>\n",
       "      <td>2020-05-25 23:18:28.244828</td>\n",
       "      <td>2020-05-25 23:18:28.260451</td>\n",
       "      <td>DOS UDP scan</td>\n",
       "      <td>Malware stealth scan</td>\n",
       "      <td>15623</td>\n",
       "    </tr>\n",
       "    <tr>\n",
       "      <th>4</th>\n",
       "      <td>2020-05-25 23:18:28.260451</td>\n",
       "      <td>2020-05-25 23:18:28.276073</td>\n",
       "      <td>UDP port &amp; service scan</td>\n",
       "      <td>UDP port &amp; service scan</td>\n",
       "      <td>15622</td>\n",
       "    </tr>\n",
       "  </tbody>\n",
       "</table>\n",
       "</div>"
      ],
      "text/plain": [
       "                  Start time                  Stop time  \\\n",
       "0 2020-05-25 23:18:28.200427 2020-05-25 23:18:28.213585   \n",
       "1 2020-05-25 23:18:28.213585 2020-05-25 23:18:28.229208   \n",
       "2 2020-05-25 23:18:28.229208 2020-05-25 23:18:28.229208   \n",
       "3 2020-05-25 23:18:28.244828 2020-05-25 23:18:28.260451   \n",
       "4 2020-05-25 23:18:28.260451 2020-05-25 23:18:28.276073   \n",
       "\n",
       "                True Class          Predicted Class  Delay  \n",
       "0                Ping scan                Ping scan  13158  \n",
       "1             DOS UDP scan     Malware stealth scan  15623  \n",
       "2     Malware stealth scan     Malware stealth scan      0  \n",
       "3             DOS UDP scan     Malware stealth scan  15623  \n",
       "4  UDP port & service scan  UDP port & service scan  15622  "
      ]
     },
     "execution_count": 20,
     "metadata": {},
     "output_type": "execute_result"
    }
   ],
   "source": [
    "test_dnn_df = pd.DataFrame({\"Start time\":start, \"Stop time\":stop, \"True Class\":true_class, \"Predicted Class\":pred_class})\n",
    "test_dnn_df[\"Delay\"] = test_dnn_df[[\"Start time\",\"Stop time\"]].apply(find_delay,axis=1)\n",
    "test_dnn_df.head()"
   ]
  },
  {
   "cell_type": "code",
   "execution_count": 21,
   "metadata": {},
   "outputs": [
    {
     "data": {
      "text/plain": [
       "count    10000.000000\n",
       "mean     11348.122400\n",
       "std       7120.693653\n",
       "min          0.000000\n",
       "25%          0.000000\n",
       "50%      15621.000000\n",
       "75%      15622.000000\n",
       "max      32872.000000\n",
       "Name: Delay, dtype: float64"
      ]
     },
     "execution_count": 21,
     "metadata": {},
     "output_type": "execute_result"
    }
   ],
   "source": [
    "test_dnn_df[\"Delay\"].describe()"
   ]
  },
  {
   "cell_type": "code",
   "execution_count": null,
   "metadata": {},
   "outputs": [],
   "source": [
    "test_dnn_df.to_csv(\"dnn_dealy_pca.csv\", index=False)"
   ]
  }
 ],
 "metadata": {
  "kernelspec": {
   "display_name": "Python 3",
   "language": "python",
   "name": "python3"
  },
  "language_info": {
   "codemirror_mode": {
    "name": "ipython",
    "version": 3
   },
   "file_extension": ".py",
   "mimetype": "text/x-python",
   "name": "python",
   "nbconvert_exporter": "python",
   "pygments_lexer": "ipython3",
   "version": "3.7.5"
  }
 },
 "nbformat": 4,
 "nbformat_minor": 4
}
