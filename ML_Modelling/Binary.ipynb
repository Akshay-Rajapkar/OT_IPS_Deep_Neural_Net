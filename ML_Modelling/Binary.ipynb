{
 "cells": [
  {
   "cell_type": "code",
   "execution_count": 1,
   "metadata": {},
   "outputs": [],
   "source": [
    "import pandas as pd\n",
    "import category_encoders as ce\n",
    "import matplotlib.pyplot as plt\n",
    "import seaborn as sns\n",
    "%matplotlib inline"
   ]
  },
  {
   "cell_type": "code",
   "execution_count": 2,
   "metadata": {},
   "outputs": [
    {
     "data": {
      "text/html": [
       "<div>\n",
       "<style scoped>\n",
       "    .dataframe tbody tr th:only-of-type {\n",
       "        vertical-align: middle;\n",
       "    }\n",
       "\n",
       "    .dataframe tbody tr th {\n",
       "        vertical-align: top;\n",
       "    }\n",
       "\n",
       "    .dataframe thead th {\n",
       "        text-align: right;\n",
       "    }\n",
       "</style>\n",
       "<table border=\"1\" class=\"dataframe\">\n",
       "  <thead>\n",
       "    <tr style=\"text-align: right;\">\n",
       "      <th></th>\n",
       "      <th>Date &amp; Time</th>\n",
       "      <th>Source IP</th>\n",
       "      <th>Destination IP</th>\n",
       "      <th>Source MAC</th>\n",
       "      <th>Destination MAC</th>\n",
       "      <th>Protocol</th>\n",
       "      <th>Flags</th>\n",
       "      <th>Src Port</th>\n",
       "      <th>Dst Port</th>\n",
       "      <th>Length</th>\n",
       "      <th>Packet</th>\n",
       "    </tr>\n",
       "  </thead>\n",
       "  <tbody>\n",
       "    <tr>\n",
       "      <th>0</th>\n",
       "      <td>27-02-2020 11:34</td>\n",
       "      <td>192.168.0.50</td>\n",
       "      <td>192.168.0.20</td>\n",
       "      <td>40:f2:e9:9d:44:6b</td>\n",
       "      <td>00:90:e8:5e:d1:66</td>\n",
       "      <td>TCP</td>\n",
       "      <td>AP</td>\n",
       "      <td>60394</td>\n",
       "      <td>502</td>\n",
       "      <td>64</td>\n",
       "      <td>1</td>\n",
       "    </tr>\n",
       "    <tr>\n",
       "      <th>1</th>\n",
       "      <td>27-02-2020 11:34</td>\n",
       "      <td>192.168.0.20</td>\n",
       "      <td>192.168.0.50</td>\n",
       "      <td>00:90:e8:5e:d1:66</td>\n",
       "      <td>40:f2:e9:9d:44:6b</td>\n",
       "      <td>TCP</td>\n",
       "      <td>A</td>\n",
       "      <td>502</td>\n",
       "      <td>60394</td>\n",
       "      <td>40</td>\n",
       "      <td>1</td>\n",
       "    </tr>\n",
       "    <tr>\n",
       "      <th>2</th>\n",
       "      <td>27-02-2020 11:34</td>\n",
       "      <td>192.168.0.50</td>\n",
       "      <td>192.168.0.20</td>\n",
       "      <td>40:f2:e9:9d:44:6b</td>\n",
       "      <td>00:90:e8:5e:d1:66</td>\n",
       "      <td>TCP</td>\n",
       "      <td>AP</td>\n",
       "      <td>60394</td>\n",
       "      <td>502</td>\n",
       "      <td>52</td>\n",
       "      <td>1</td>\n",
       "    </tr>\n",
       "    <tr>\n",
       "      <th>3</th>\n",
       "      <td>27-02-2020 11:34</td>\n",
       "      <td>192.168.0.21</td>\n",
       "      <td>192.168.0.5</td>\n",
       "      <td>20:47:47:87:d4:96</td>\n",
       "      <td>00:1d:9c:a1:89:a4</td>\n",
       "      <td>TCP</td>\n",
       "      <td>S</td>\n",
       "      <td>59170</td>\n",
       "      <td>20000</td>\n",
       "      <td>48</td>\n",
       "      <td>1</td>\n",
       "    </tr>\n",
       "    <tr>\n",
       "      <th>4</th>\n",
       "      <td>27-02-2020 11:34</td>\n",
       "      <td>192.168.0.21</td>\n",
       "      <td>192.168.0.5</td>\n",
       "      <td>20:47:47:87:d4:96</td>\n",
       "      <td>00:1d:9c:a1:89:a4</td>\n",
       "      <td>TCP</td>\n",
       "      <td>A</td>\n",
       "      <td>59170</td>\n",
       "      <td>20000</td>\n",
       "      <td>40</td>\n",
       "      <td>1</td>\n",
       "    </tr>\n",
       "  </tbody>\n",
       "</table>\n",
       "</div>"
      ],
      "text/plain": [
       "        Date & Time     Source IP Destination IP         Source MAC  \\\n",
       "0  27-02-2020 11:34  192.168.0.50   192.168.0.20  40:f2:e9:9d:44:6b   \n",
       "1  27-02-2020 11:34  192.168.0.20   192.168.0.50  00:90:e8:5e:d1:66   \n",
       "2  27-02-2020 11:34  192.168.0.50   192.168.0.20  40:f2:e9:9d:44:6b   \n",
       "3  27-02-2020 11:34  192.168.0.21    192.168.0.5  20:47:47:87:d4:96   \n",
       "4  27-02-2020 11:34  192.168.0.21    192.168.0.5  20:47:47:87:d4:96   \n",
       "\n",
       "     Destination MAC Protocol Flags  Src Port  Dst Port  Length  Packet  \n",
       "0  00:90:e8:5e:d1:66      TCP    AP     60394       502      64       1  \n",
       "1  40:f2:e9:9d:44:6b      TCP     A       502     60394      40       1  \n",
       "2  00:90:e8:5e:d1:66      TCP    AP     60394       502      52       1  \n",
       "3  00:1d:9c:a1:89:a4      TCP     S     59170     20000      48       1  \n",
       "4  00:1d:9c:a1:89:a4      TCP     A     59170     20000      40       1  "
      ]
     },
     "execution_count": 2,
     "metadata": {},
     "output_type": "execute_result"
    }
   ],
   "source": [
    "df = pd.read_csv(\"ips_dataset.csv\", index_col = False)\n",
    "df.head()"
   ]
  },
  {
   "cell_type": "code",
   "execution_count": 3,
   "metadata": {},
   "outputs": [
    {
     "name": "stdout",
     "output_type": "stream",
     "text": [
      "<class 'pandas.core.frame.DataFrame'>\n",
      "RangeIndex: 105150 entries, 0 to 105149\n",
      "Data columns (total 11 columns):\n",
      " #   Column           Non-Null Count   Dtype \n",
      "---  ------           --------------   ----- \n",
      " 0   Date & Time      105150 non-null  object\n",
      " 1   Source IP        105150 non-null  object\n",
      " 2   Destination IP   105150 non-null  object\n",
      " 3   Source MAC       105150 non-null  object\n",
      " 4   Destination MAC  105150 non-null  object\n",
      " 5   Protocol         105150 non-null  object\n",
      " 6   Flags            105150 non-null  object\n",
      " 7   Src Port         105150 non-null  int64 \n",
      " 8   Dst Port         105150 non-null  int64 \n",
      " 9   Length           105150 non-null  int64 \n",
      " 10  Packet           105150 non-null  int64 \n",
      "dtypes: int64(4), object(7)\n",
      "memory usage: 8.8+ MB\n"
     ]
    }
   ],
   "source": [
    "df.info()"
   ]
  },
  {
   "cell_type": "code",
   "execution_count": 4,
   "metadata": {},
   "outputs": [
    {
     "data": {
      "text/plain": [
       "Date & Time        0\n",
       "Source IP          0\n",
       "Destination IP     0\n",
       "Source MAC         0\n",
       "Destination MAC    0\n",
       "Protocol           0\n",
       "Flags              0\n",
       "Src Port           0\n",
       "Dst Port           0\n",
       "Length             0\n",
       "Packet             0\n",
       "dtype: int64"
      ]
     },
     "execution_count": 4,
     "metadata": {},
     "output_type": "execute_result"
    }
   ],
   "source": [
    "df.isnull().sum()"
   ]
  },
  {
   "cell_type": "code",
   "execution_count": 5,
   "metadata": {},
   "outputs": [
    {
     "data": {
      "text/plain": [
       "array(['192.168.0.50', '192.168.0.20', '192.168.0.21', '192.168.0.5',\n",
       "       '192.168.0.2', '192.168.0.122', '192.168.0.22', '192.168.0.204',\n",
       "       '192.168.0.31', '192.168.0.35', '192.168.0.200', '192.168.0.175',\n",
       "       '192.168.0.45'], dtype=object)"
      ]
     },
     "execution_count": 5,
     "metadata": {},
     "output_type": "execute_result"
    }
   ],
   "source": [
    "df[\"Source IP\"].unique()"
   ]
  },
  {
   "cell_type": "code",
   "execution_count": 6,
   "metadata": {},
   "outputs": [
    {
     "data": {
      "text/plain": [
       "array(['TCP', 'Modbus', 'DNP3', 'ICMP', 'UDP'], dtype=object)"
      ]
     },
     "execution_count": 6,
     "metadata": {},
     "output_type": "execute_result"
    }
   ],
   "source": [
    "df[\"Protocol\"].unique()"
   ]
  },
  {
   "cell_type": "code",
   "execution_count": 7,
   "metadata": {},
   "outputs": [],
   "source": [
    "#df[\"Src Port\"].unique()"
   ]
  },
  {
   "cell_type": "code",
   "execution_count": 8,
   "metadata": {},
   "outputs": [
    {
     "data": {
      "text/plain": [
       "array(['AP', 'A', 'S', '0', 'AR', 'AS', 'ASF', 'SEC', 'AF', 'R', 'APF',\n",
       "       'UPSF', 'UPF'], dtype=object)"
      ]
     },
     "execution_count": 8,
     "metadata": {},
     "output_type": "execute_result"
    }
   ],
   "source": [
    "df[\"Flags\"].unique()"
   ]
  },
  {
   "cell_type": "code",
   "execution_count": 9,
   "metadata": {},
   "outputs": [
    {
     "data": {
      "text/html": [
       "<div>\n",
       "<style scoped>\n",
       "    .dataframe tbody tr th:only-of-type {\n",
       "        vertical-align: middle;\n",
       "    }\n",
       "\n",
       "    .dataframe tbody tr th {\n",
       "        vertical-align: top;\n",
       "    }\n",
       "\n",
       "    .dataframe thead th {\n",
       "        text-align: right;\n",
       "    }\n",
       "</style>\n",
       "<table border=\"1\" class=\"dataframe\">\n",
       "  <thead>\n",
       "    <tr style=\"text-align: right;\">\n",
       "      <th></th>\n",
       "      <th>Date &amp; Time</th>\n",
       "      <th>Source IP</th>\n",
       "      <th>Destination IP</th>\n",
       "      <th>Source MAC</th>\n",
       "      <th>Destination MAC</th>\n",
       "      <th>Protocol</th>\n",
       "      <th>Flags</th>\n",
       "      <th>Src Port</th>\n",
       "      <th>Dst Port</th>\n",
       "      <th>Length</th>\n",
       "      <th>Packet</th>\n",
       "    </tr>\n",
       "  </thead>\n",
       "  <tbody>\n",
       "    <tr>\n",
       "      <th>0</th>\n",
       "      <td>27-02-2020 11:34</td>\n",
       "      <td>192.168.0.21</td>\n",
       "      <td>192.168.0.5</td>\n",
       "      <td>20:47:47:87:d4:96</td>\n",
       "      <td>00:1d:9c:a1:89:a4</td>\n",
       "      <td>DNP3</td>\n",
       "      <td>AP</td>\n",
       "      <td>48701</td>\n",
       "      <td>20000</td>\n",
       "      <td>64</td>\n",
       "      <td>1</td>\n",
       "    </tr>\n",
       "    <tr>\n",
       "      <th>1</th>\n",
       "      <td>27-02-2020 11:42</td>\n",
       "      <td>192.168.0.22</td>\n",
       "      <td>192.168.0.20</td>\n",
       "      <td>08:00:27:e6:e5:59</td>\n",
       "      <td>00:90:e8:5e:d1:66</td>\n",
       "      <td>ICMP</td>\n",
       "      <td>0</td>\n",
       "      <td>0</td>\n",
       "      <td>0</td>\n",
       "      <td>60</td>\n",
       "      <td>1</td>\n",
       "    </tr>\n",
       "    <tr>\n",
       "      <th>2</th>\n",
       "      <td>27-02-2020 12:09</td>\n",
       "      <td>192.168.0.20</td>\n",
       "      <td>192.168.0.50</td>\n",
       "      <td>00:90:e8:5e:d1:66</td>\n",
       "      <td>40:f2:e9:9d:44:6b</td>\n",
       "      <td>Modbus</td>\n",
       "      <td>AP</td>\n",
       "      <td>502</td>\n",
       "      <td>57352</td>\n",
       "      <td>51</td>\n",
       "      <td>1</td>\n",
       "    </tr>\n",
       "    <tr>\n",
       "      <th>3</th>\n",
       "      <td>28-02-2020 14:41</td>\n",
       "      <td>192.168.0.21</td>\n",
       "      <td>192.168.0.20</td>\n",
       "      <td>20:47:47:87:d4:96</td>\n",
       "      <td>00:90:e8:5e:d1:66</td>\n",
       "      <td>TCP</td>\n",
       "      <td>A</td>\n",
       "      <td>47502</td>\n",
       "      <td>502</td>\n",
       "      <td>40</td>\n",
       "      <td>1</td>\n",
       "    </tr>\n",
       "    <tr>\n",
       "      <th>4</th>\n",
       "      <td>28-02-2020 14:45</td>\n",
       "      <td>192.168.0.21</td>\n",
       "      <td>192.168.0.20</td>\n",
       "      <td>20:47:47:87:d4:96</td>\n",
       "      <td>00:90:e8:5e:d1:66</td>\n",
       "      <td>Modbus</td>\n",
       "      <td>AP</td>\n",
       "      <td>48648</td>\n",
       "      <td>502</td>\n",
       "      <td>52</td>\n",
       "      <td>1</td>\n",
       "    </tr>\n",
       "  </tbody>\n",
       "</table>\n",
       "</div>"
      ],
      "text/plain": [
       "        Date & Time     Source IP Destination IP         Source MAC  \\\n",
       "0  27-02-2020 11:34  192.168.0.21    192.168.0.5  20:47:47:87:d4:96   \n",
       "1  27-02-2020 11:42  192.168.0.22   192.168.0.20  08:00:27:e6:e5:59   \n",
       "2  27-02-2020 12:09  192.168.0.20   192.168.0.50  00:90:e8:5e:d1:66   \n",
       "3  28-02-2020 14:41  192.168.0.21   192.168.0.20  20:47:47:87:d4:96   \n",
       "4  28-02-2020 14:45  192.168.0.21   192.168.0.20  20:47:47:87:d4:96   \n",
       "\n",
       "     Destination MAC Protocol Flags  Src Port  Dst Port  Length  Packet  \n",
       "0  00:1d:9c:a1:89:a4     DNP3    AP     48701     20000      64       1  \n",
       "1  00:90:e8:5e:d1:66     ICMP     0         0         0      60       1  \n",
       "2  40:f2:e9:9d:44:6b   Modbus    AP       502     57352      51       1  \n",
       "3  00:90:e8:5e:d1:66      TCP     A     47502       502      40       1  \n",
       "4  00:90:e8:5e:d1:66   Modbus    AP     48648       502      52       1  "
      ]
     },
     "execution_count": 9,
     "metadata": {},
     "output_type": "execute_result"
    }
   ],
   "source": [
    "df = df.sample(frac = 1).reset_index(drop=True)\n",
    "df.head()"
   ]
  },
  {
   "cell_type": "code",
   "execution_count": 10,
   "metadata": {},
   "outputs": [
    {
     "data": {
      "text/plain": [
       "Index(['Date & Time', 'Source IP', 'Destination IP', 'Source MAC',\n",
       "       'Destination MAC', 'Protocol', 'Flags', 'Src Port', 'Dst Port',\n",
       "       'Length', 'Packet'],\n",
       "      dtype='object')"
      ]
     },
     "execution_count": 10,
     "metadata": {},
     "output_type": "execute_result"
    }
   ],
   "source": [
    "df.columns"
   ]
  },
  {
   "cell_type": "code",
   "execution_count": 11,
   "metadata": {},
   "outputs": [
    {
     "data": {
      "text/plain": [
       "array([['192.168.0.21', '192.168.0.5', '20:47:47:87:d4:96', ..., 48701,\n",
       "        20000, 64],\n",
       "       ['192.168.0.22', '192.168.0.20', '08:00:27:e6:e5:59', ..., 0, 0,\n",
       "        60],\n",
       "       ['192.168.0.20', '192.168.0.50', '00:90:e8:5e:d1:66', ..., 502,\n",
       "        57352, 51],\n",
       "       ...,\n",
       "       ['192.168.0.20', '192.168.0.50', '00:90:e8:5e:d1:66', ..., 502,\n",
       "        62332, 51],\n",
       "       ['192.168.0.200', '192.168.0.50', 'b8:ae:ed:b0:c1:a5', ..., 52734,\n",
       "        7070, 302],\n",
       "       ['192.168.0.175', '192.168.0.122', '00:11:22:33:44:55', ...,\n",
       "        53370, 80, 265]], dtype=object)"
      ]
     },
     "execution_count": 11,
     "metadata": {},
     "output_type": "execute_result"
    }
   ],
   "source": [
    "X = df[['Source IP', 'Destination IP', 'Source MAC', 'Destination MAC', 'Protocol', 'Flags', 'Src Port', 'Dst Port',\n",
    "       'Length']].values\n",
    "X"
   ]
  },
  {
   "cell_type": "code",
   "execution_count": 12,
   "metadata": {},
   "outputs": [
    {
     "data": {
      "text/plain": [
       "array([1, 1, 1, ..., 1, 0, 0], dtype=int64)"
      ]
     },
     "execution_count": 12,
     "metadata": {},
     "output_type": "execute_result"
    }
   ],
   "source": [
    "y = df[\"Packet\"].values\n",
    "y"
   ]
  },
  {
   "cell_type": "code",
   "execution_count": 13,
   "metadata": {},
   "outputs": [],
   "source": [
    "ce_bin = ce.BinaryEncoder(return_df=False)\n",
    "enc_bin = ce_bin.fit(X)"
   ]
  },
  {
   "cell_type": "code",
   "execution_count": 14,
   "metadata": {
    "scrolled": true
   },
   "outputs": [
    {
     "data": {
      "text/plain": [
       "array([[    0,     0,     0, ..., 48701, 20000,    64],\n",
       "       [    0,     0,     0, ...,     0,     0,    60],\n",
       "       [    0,     0,     0, ...,   502, 57352,    51],\n",
       "       ...,\n",
       "       [    0,     0,     0, ...,   502, 62332,    51],\n",
       "       [    0,     1,     0, ..., 52734,  7070,   302],\n",
       "       [    0,     0,     1, ..., 53370,    80,   265]], dtype=int64)"
      ]
     },
     "execution_count": 14,
     "metadata": {},
     "output_type": "execute_result"
    }
   ],
   "source": [
    "X = enc_bin.transform(X)\n",
    "X"
   ]
  },
  {
   "cell_type": "code",
   "execution_count": 15,
   "metadata": {},
   "outputs": [
    {
     "data": {
      "text/plain": [
       "(105150, 39)"
      ]
     },
     "execution_count": 15,
     "metadata": {},
     "output_type": "execute_result"
    }
   ],
   "source": [
    "X.shape"
   ]
  },
  {
   "cell_type": "code",
   "execution_count": 16,
   "metadata": {},
   "outputs": [
    {
     "data": {
      "text/plain": [
       "array([    0,     0,     0,     0,     1,     0,     0,     0,     0,\n",
       "           1,     0,     0,     0,     0,     0,     0,     0,     1,\n",
       "           0,     0,     0,     0,     0,     0,     0,     0,     1,\n",
       "           0,     0,     0,     1,     0,     0,     0,     0,     1,\n",
       "       48701, 20000,    64], dtype=int64)"
      ]
     },
     "execution_count": 16,
     "metadata": {},
     "output_type": "execute_result"
    }
   ],
   "source": [
    "X[0]"
   ]
  },
  {
   "cell_type": "code",
   "execution_count": 17,
   "metadata": {},
   "outputs": [],
   "source": [
    "from sklearn.model_selection import train_test_split"
   ]
  },
  {
   "cell_type": "code",
   "execution_count": 18,
   "metadata": {},
   "outputs": [],
   "source": [
    "import random\n",
    "random.seed(1)"
   ]
  },
  {
   "cell_type": "code",
   "execution_count": 19,
   "metadata": {},
   "outputs": [],
   "source": [
    "X_train, X_test, y_train, y_test = train_test_split(X, y, test_size=0.3, random_state=42)"
   ]
  },
  {
   "cell_type": "code",
   "execution_count": 20,
   "metadata": {},
   "outputs": [],
   "source": [
    "from sklearn.preprocessing import StandardScaler\n",
    "sc = StandardScaler()\n",
    "sc_enc = sc.fit(X_train)\n",
    "X_train = sc_enc.transform(X_train)\n",
    "X_test = sc_enc.transform(X_test)"
   ]
  },
  {
   "cell_type": "code",
   "execution_count": 21,
   "metadata": {},
   "outputs": [
    {
     "data": {
      "text/plain": [
       "(73605, 39)"
      ]
     },
     "execution_count": 21,
     "metadata": {},
     "output_type": "execute_result"
    }
   ],
   "source": [
    "X_train.shape"
   ]
  },
  {
   "cell_type": "code",
   "execution_count": 22,
   "metadata": {},
   "outputs": [
    {
     "name": "stderr",
     "output_type": "stream",
     "text": [
      "Using TensorFlow backend.\n"
     ]
    }
   ],
   "source": [
    "import keras\n",
    "from keras.models import Sequential\n",
    "from keras.layers import Dense\n",
    "classifier = Sequential()"
   ]
  },
  {
   "cell_type": "code",
   "execution_count": 23,
   "metadata": {},
   "outputs": [
    {
     "name": "stderr",
     "output_type": "stream",
     "text": [
      "D:\\Anaconda\\lib\\site-packages\\ipykernel_launcher.py:1: UserWarning: Update your `Dense` call to the Keras 2 API: `Dense(input_dim=39, activation=\"relu\", units=20, kernel_initializer=\"uniform\")`\n",
      "  \"\"\"Entry point for launching an IPython kernel.\n",
      "D:\\Anaconda\\lib\\site-packages\\ipykernel_launcher.py:2: UserWarning: Update your `Dense` call to the Keras 2 API: `Dense(activation=\"relu\", units=20, kernel_initializer=\"uniform\")`\n",
      "  \n",
      "D:\\Anaconda\\lib\\site-packages\\ipykernel_launcher.py:3: UserWarning: Update your `Dense` call to the Keras 2 API: `Dense(activation=\"relu\", units=20, kernel_initializer=\"uniform\")`\n",
      "  This is separate from the ipykernel package so we can avoid doing imports until\n",
      "D:\\Anaconda\\lib\\site-packages\\ipykernel_launcher.py:4: UserWarning: Update your `Dense` call to the Keras 2 API: `Dense(activation=\"sigmoid\", units=1, kernel_initializer=\"uniform\")`\n",
      "  after removing the cwd from sys.path.\n"
     ]
    }
   ],
   "source": [
    "classifier.add(Dense(input_dim = 39, output_dim = 20, init= \"uniform\", activation = \"relu\"))\n",
    "classifier.add(Dense(output_dim = 20, init= \"uniform\", activation = \"relu\"))\n",
    "classifier.add(Dense(output_dim = 20, init= \"uniform\", activation = \"relu\"))\n",
    "classifier.add(Dense(output_dim = 1, init= \"uniform\", activation = \"sigmoid\"))"
   ]
  },
  {
   "cell_type": "code",
   "execution_count": 24,
   "metadata": {},
   "outputs": [],
   "source": [
    "from keras.callbacks import EarlyStopping"
   ]
  },
  {
   "cell_type": "code",
   "execution_count": 25,
   "metadata": {},
   "outputs": [],
   "source": [
    "early_stop = EarlyStopping(monitor= 'val_loss', mode='min', verbose=1, patience = 5)"
   ]
  },
  {
   "cell_type": "code",
   "execution_count": 26,
   "metadata": {},
   "outputs": [],
   "source": [
    "classifier.compile(optimizer = \"adam\", loss = \"binary_crossentropy\", metrics = [\"accuracy\"])"
   ]
  },
  {
   "cell_type": "code",
   "execution_count": 27,
   "metadata": {},
   "outputs": [
    {
     "name": "stdout",
     "output_type": "stream",
     "text": [
      "Train on 73605 samples, validate on 31545 samples\n",
      "Epoch 1/20\n",
      "73605/73605 [==============================] - 17s 227us/step - loss: 0.0200 - accuracy: 0.9937 - val_loss: 0.0071 - val_accuracy: 0.9986\n",
      "Epoch 2/20\n",
      "73605/73605 [==============================] - 13s 176us/step - loss: 0.0061 - accuracy: 0.9988 - val_loss: 0.0065 - val_accuracy: 0.9987\n",
      "Epoch 3/20\n",
      "73605/73605 [==============================] - 14s 191us/step - loss: 0.0057 - accuracy: 0.9989 - val_loss: 0.0059 - val_accuracy: 0.9987\n",
      "Epoch 4/20\n",
      "73605/73605 [==============================] - 19s 261us/step - loss: 0.0056 - accuracy: 0.9988 - val_loss: 0.0069 - val_accuracy: 0.9987\n",
      "Epoch 5/20\n",
      "73605/73605 [==============================] - 16s 217us/step - loss: 0.0055 - accuracy: 0.9989 - val_loss: 0.0065 - val_accuracy: 0.9987\n",
      "Epoch 6/20\n",
      "73605/73605 [==============================] - 16s 214us/step - loss: 0.0062 - accuracy: 0.9988 - val_loss: 0.0058 - val_accuracy: 0.9987\n",
      "Epoch 7/20\n",
      "73605/73605 [==============================] - 17s 229us/step - loss: 0.0059 - accuracy: 0.9988 - val_loss: 0.0058 - val_accuracy: 0.9986\n",
      "Epoch 8/20\n",
      "73605/73605 [==============================] - 13s 175us/step - loss: 0.0053 - accuracy: 0.9989 - val_loss: 0.0060 - val_accuracy: 0.9987\n",
      "Epoch 9/20\n",
      "73605/73605 [==============================] - 12s 165us/step - loss: 0.0057 - accuracy: 0.9989 - val_loss: 0.0064 - val_accuracy: 0.9987\n",
      "Epoch 10/20\n",
      "73605/73605 [==============================] - 13s 176us/step - loss: 0.0052 - accuracy: 0.9989 - val_loss: 0.0061 - val_accuracy: 0.9987\n",
      "Epoch 11/20\n",
      "73605/73605 [==============================] - 12s 167us/step - loss: 0.0054 - accuracy: 0.9989 - val_loss: 0.0056 - val_accuracy: 0.9987\n",
      "Epoch 12/20\n",
      "73605/73605 [==============================] - 13s 171us/step - loss: 0.0060 - accuracy: 0.9988 - val_loss: 0.0058 - val_accuracy: 0.9987\n",
      "Epoch 13/20\n",
      "73605/73605 [==============================] - 14s 188us/step - loss: 0.0052 - accuracy: 0.9989 - val_loss: 0.0055 - val_accuracy: 0.9987\n",
      "Epoch 14/20\n",
      "73605/73605 [==============================] - 12s 157us/step - loss: 0.0054 - accuracy: 0.9989 - val_loss: 0.0061 - val_accuracy: 0.9987\n",
      "Epoch 15/20\n",
      "73605/73605 [==============================] - 12s 158us/step - loss: 0.0052 - accuracy: 0.9989 - val_loss: 0.0056 - val_accuracy: 0.9987\n",
      "Epoch 16/20\n",
      "73605/73605 [==============================] - 9s 127us/step - loss: 0.0057 - accuracy: 0.9989 - val_loss: 0.0056 - val_accuracy: 0.9987\n",
      "Epoch 17/20\n",
      "73605/73605 [==============================] - 9s 126us/step - loss: 0.0052 - accuracy: 0.9989 - val_loss: 0.0063 - val_accuracy: 0.9987\n",
      "Epoch 18/20\n",
      "73605/73605 [==============================] - 9s 126us/step - loss: 0.0053 - accuracy: 0.9989 - val_loss: 0.0061 - val_accuracy: 0.9987\n",
      "Epoch 00018: early stopping\n"
     ]
    },
    {
     "data": {
      "text/plain": [
       "<keras.callbacks.callbacks.History at 0x1e9c238fcc8>"
      ]
     },
     "execution_count": 27,
     "metadata": {},
     "output_type": "execute_result"
    }
   ],
   "source": [
    "classifier.fit(X_train, y_train, batch_size = 10, epochs = 20, validation_data = (X_test, y_test), callbacks=[early_stop] )"
   ]
  },
  {
   "cell_type": "code",
   "execution_count": 28,
   "metadata": {},
   "outputs": [
    {
     "data": {
      "text/plain": [
       "array([[0.99999785],\n",
       "       [1.        ],\n",
       "       [0.        ],\n",
       "       ...,\n",
       "       [0.99999917],\n",
       "       [0.        ],\n",
       "       [0.        ]], dtype=float32)"
      ]
     },
     "execution_count": 28,
     "metadata": {},
     "output_type": "execute_result"
    }
   ],
   "source": [
    "y_pred = classifier.predict(X_test)\n",
    "y_pred"
   ]
  },
  {
   "cell_type": "code",
   "execution_count": 29,
   "metadata": {},
   "outputs": [
    {
     "data": {
      "text/plain": [
       "array([[ True],\n",
       "       [ True],\n",
       "       [False],\n",
       "       ...,\n",
       "       [ True],\n",
       "       [False],\n",
       "       [False]])"
      ]
     },
     "execution_count": 29,
     "metadata": {},
     "output_type": "execute_result"
    }
   ],
   "source": [
    "y_pred = (y_pred > 0.5)\n",
    "y_pred"
   ]
  },
  {
   "cell_type": "code",
   "execution_count": 30,
   "metadata": {},
   "outputs": [
    {
     "name": "stdout",
     "output_type": "stream",
     "text": [
      "[[14674    40]\n",
      " [    0 16831]]\n"
     ]
    }
   ],
   "source": [
    "from sklearn.metrics import confusion_matrix, classification_report\n",
    "print(confusion_matrix(y_test, y_pred))"
   ]
  },
  {
   "cell_type": "code",
   "execution_count": 31,
   "metadata": {},
   "outputs": [
    {
     "name": "stdout",
     "output_type": "stream",
     "text": [
      "              precision    recall  f1-score   support\n",
      "\n",
      "           0       1.00      1.00      1.00     14714\n",
      "           1       1.00      1.00      1.00     16831\n",
      "\n",
      "    accuracy                           1.00     31545\n",
      "   macro avg       1.00      1.00      1.00     31545\n",
      "weighted avg       1.00      1.00      1.00     31545\n",
      "\n"
     ]
    }
   ],
   "source": [
    "print(classification_report(y_test, y_pred))"
   ]
  },
  {
   "cell_type": "code",
   "execution_count": 32,
   "metadata": {},
   "outputs": [
    {
     "data": {
      "text/plain": [
       "<matplotlib.axes._subplots.AxesSubplot at 0x1e9c3951f48>"
      ]
     },
     "execution_count": 32,
     "metadata": {},
     "output_type": "execute_result"
    },
    {
     "data": {
      "image/png": "[encoded data removed]",
      "text/plain": [
       "<Figure size 432x288 with 1 Axes>"
      ]
     },
     "metadata": {
      "needs_background": "light"
     },
     "output_type": "display_data"
    }
   ],
   "source": [
    "losses= pd.DataFrame(classifier.history.history)\n",
    "losses.plot()"
   ]
  },
  {
   "cell_type": "code",
   "execution_count": null,
   "metadata": {},
   "outputs": [],
   "source": []
  },
  {
   "cell_type": "code",
   "execution_count": 33,
   "metadata": {},
   "outputs": [
    {
     "data": {
      "text/html": [
       "<div>\n",
       "<style scoped>\n",
       "    .dataframe tbody tr th:only-of-type {\n",
       "        vertical-align: middle;\n",
       "    }\n",
       "\n",
       "    .dataframe tbody tr th {\n",
       "        vertical-align: top;\n",
       "    }\n",
       "\n",
       "    .dataframe thead th {\n",
       "        text-align: right;\n",
       "    }\n",
       "</style>\n",
       "<table border=\"1\" class=\"dataframe\">\n",
       "  <thead>\n",
       "    <tr style=\"text-align: right;\">\n",
       "      <th></th>\n",
       "      <th>val_loss</th>\n",
       "      <th>val_accuracy</th>\n",
       "      <th>loss</th>\n",
       "      <th>accuracy</th>\n",
       "    </tr>\n",
       "  </thead>\n",
       "  <tbody>\n",
       "    <tr>\n",
       "      <th>0</th>\n",
       "      <td>0.007055</td>\n",
       "      <td>0.998605</td>\n",
       "      <td>0.019955</td>\n",
       "      <td>0.993655</td>\n",
       "    </tr>\n",
       "    <tr>\n",
       "      <th>1</th>\n",
       "      <td>0.006534</td>\n",
       "      <td>0.998732</td>\n",
       "      <td>0.006109</td>\n",
       "      <td>0.998818</td>\n",
       "    </tr>\n",
       "    <tr>\n",
       "      <th>2</th>\n",
       "      <td>0.005881</td>\n",
       "      <td>0.998732</td>\n",
       "      <td>0.005722</td>\n",
       "      <td>0.998886</td>\n",
       "    </tr>\n",
       "    <tr>\n",
       "      <th>3</th>\n",
       "      <td>0.006889</td>\n",
       "      <td>0.998732</td>\n",
       "      <td>0.005618</td>\n",
       "      <td>0.998845</td>\n",
       "    </tr>\n",
       "    <tr>\n",
       "      <th>4</th>\n",
       "      <td>0.006536</td>\n",
       "      <td>0.998732</td>\n",
       "      <td>0.005475</td>\n",
       "      <td>0.998913</td>\n",
       "    </tr>\n",
       "  </tbody>\n",
       "</table>\n",
       "</div>"
      ],
      "text/plain": [
       "   val_loss  val_accuracy      loss  accuracy\n",
       "0  0.007055      0.998605  0.019955  0.993655\n",
       "1  0.006534      0.998732  0.006109  0.998818\n",
       "2  0.005881      0.998732  0.005722  0.998886\n",
       "3  0.006889      0.998732  0.005618  0.998845\n",
       "4  0.006536      0.998732  0.005475  0.998913"
      ]
     },
     "execution_count": 33,
     "metadata": {},
     "output_type": "execute_result"
    }
   ],
   "source": [
    "losses.head()"
   ]
  },
  {
   "cell_type": "code",
   "execution_count": 34,
   "metadata": {},
   "outputs": [
    {
     "data": {
      "text/plain": [
       "<matplotlib.axes._subplots.AxesSubplot at 0x1e9c38f26c8>"
      ]
     },
     "execution_count": 34,
     "metadata": {},
     "output_type": "execute_result"
    },
    {
     "data": {
      "image/png": "[encoded data removed]",
      "text/plain": [
       "<Figure size 432x288 with 1 Axes>"
      ]
     },
     "metadata": {
      "needs_background": "light"
     },
     "output_type": "display_data"
    }
   ],
   "source": [
    "losses[['val_loss','loss']].plot()"
   ]
  },
  {
   "cell_type": "code",
   "execution_count": 35,
   "metadata": {},
   "outputs": [
    {
     "data": {
      "text/plain": [
       "<matplotlib.axes._subplots.AxesSubplot at 0x1e9c4086a08>"
      ]
     },
     "execution_count": 35,
     "metadata": {},
     "output_type": "execute_result"
    },
    {
     "data": {
      "image/png": "[encoded data removed]",
      "text/plain": [
       "<Figure size 432x288 with 1 Axes>"
      ]
     },
     "metadata": {
      "needs_background": "light"
     },
     "output_type": "display_data"
    }
   ],
   "source": [
    "losses[['val_accuracy','accuracy']].plot()"
   ]
  },
  {
   "cell_type": "code",
   "execution_count": 36,
   "metadata": {},
   "outputs": [
    {
     "name": "stderr",
     "output_type": "stream",
     "text": [
      "D:\\Anaconda\\lib\\site-packages\\ipykernel_launcher.py:2: UserWarning: Update your `Dense` call to the Keras 2 API: `Dense(input_dim=39, activation=\"relu\", units=20, kernel_initializer=\"uniform\")`\n",
      "  \n",
      "D:\\Anaconda\\lib\\site-packages\\ipykernel_launcher.py:3: UserWarning: Update your `Dense` call to the Keras 2 API: `Dense(activation=\"relu\", units=20, kernel_initializer=\"uniform\")`\n",
      "  This is separate from the ipykernel package so we can avoid doing imports until\n",
      "D:\\Anaconda\\lib\\site-packages\\ipykernel_launcher.py:4: UserWarning: Update your `Dense` call to the Keras 2 API: `Dense(activation=\"relu\", units=20, kernel_initializer=\"uniform\")`\n",
      "  after removing the cwd from sys.path.\n",
      "D:\\Anaconda\\lib\\site-packages\\ipykernel_launcher.py:5: UserWarning: Update your `Dense` call to the Keras 2 API: `Dense(activation=\"relu\", units=20, kernel_initializer=\"uniform\")`\n",
      "  \"\"\"\n",
      "D:\\Anaconda\\lib\\site-packages\\ipykernel_launcher.py:6: UserWarning: Update your `Dense` call to the Keras 2 API: `Dense(activation=\"sigmoid\", units=1, kernel_initializer=\"uniform\")`\n",
      "  \n"
     ]
    }
   ],
   "source": [
    "from keras.layers import Dropout\n",
    "classifier.add(Dense(input_dim = 39, output_dim = 20, init= \"uniform\", activation = \"relu\"))\n",
    "classifier.add(Dense(output_dim = 20, init= \"uniform\", activation = \"relu\"))\n",
    "classifier.add(Dense(output_dim = 20, init= \"uniform\", activation = \"relu\"))\n",
    "classifier.add(Dense(output_dim = 20, init= \"uniform\", activation = \"relu\"))\n",
    "classifier.add(Dense(output_dim = 1, init= \"uniform\", activation = \"sigmoid\"))"
   ]
  },
  {
   "cell_type": "code",
   "execution_count": 37,
   "metadata": {},
   "outputs": [
    {
     "name": "stdout",
     "output_type": "stream",
     "text": [
      "Train on 73605 samples, validate on 31545 samples\n",
      "Epoch 1/20\n",
      "73605/73605 [==============================] - 14s 188us/step - loss: 0.0382 - accuracy: 0.9870 - val_loss: 0.0695 - val_accuracy: 0.9852\n",
      "Epoch 2/20\n",
      "73605/73605 [==============================] - 13s 183us/step - loss: 0.0713 - accuracy: 0.9844 - val_loss: 0.0682 - val_accuracy: 0.9854\n",
      "Epoch 3/20\n",
      "73605/73605 [==============================] - 13s 182us/step - loss: 0.0407 - accuracy: 0.9914 - val_loss: 0.0105 - val_accuracy: 0.9981\n",
      "Epoch 4/20\n",
      "73605/73605 [==============================] - 13s 181us/step - loss: 0.0087 - accuracy: 0.9982 - val_loss: 0.0082 - val_accuracy: 0.9985\n",
      "Epoch 5/20\n",
      "73605/73605 [==============================] - 14s 185us/step - loss: 0.0067 - accuracy: 0.9986 - val_loss: 0.0076 - val_accuracy: 0.9987\n",
      "Epoch 6/20\n",
      "73605/73605 [==============================] - 13s 177us/step - loss: 0.0054 - accuracy: 0.9989 - val_loss: 0.0063 - val_accuracy: 0.9987\n",
      "Epoch 7/20\n",
      "73605/73605 [==============================] - 13s 177us/step - loss: 0.0057 - accuracy: 0.9989 - val_loss: 0.0054 - val_accuracy: 0.9987\n",
      "Epoch 8/20\n",
      "73605/73605 [==============================] - 13s 179us/step - loss: 0.0207 - accuracy: 0.9964 - val_loss: 0.0250 - val_accuracy: 0.9955\n",
      "Epoch 9/20\n",
      "73605/73605 [==============================] - 13s 177us/step - loss: 0.0135 - accuracy: 0.9976 - val_loss: 0.0054 - val_accuracy: 0.9987\n",
      "Epoch 10/20\n",
      "73605/73605 [==============================] - 13s 177us/step - loss: 0.0053 - accuracy: 0.9989 - val_loss: 0.0065 - val_accuracy: 0.9987\n",
      "Epoch 11/20\n",
      "73605/73605 [==============================] - 13s 172us/step - loss: 0.0054 - accuracy: 0.9989 - val_loss: 0.0057 - val_accuracy: 0.9987\n",
      "Epoch 12/20\n",
      "73605/73605 [==============================] - 13s 175us/step - loss: 0.0074 - accuracy: 0.9987 - val_loss: 0.0510 - val_accuracy: 0.9901\n",
      "Epoch 00012: early stopping\n"
     ]
    },
    {
     "data": {
      "text/plain": [
       "<keras.callbacks.callbacks.History at 0x1e9c494fe48>"
      ]
     },
     "execution_count": 37,
     "metadata": {},
     "output_type": "execute_result"
    }
   ],
   "source": [
    "classifier.compile(optimizer = \"adam\", loss = \"binary_crossentropy\", metrics = [\"accuracy\"])\n",
    "classifier.fit(X_train, y_train, batch_size = 10, epochs = 20, validation_data = (X_test, y_test), callbacks=[early_stop] )"
   ]
  },
  {
   "cell_type": "code",
   "execution_count": 38,
   "metadata": {},
   "outputs": [
    {
     "name": "stdout",
     "output_type": "stream",
     "text": [
      "[[14674    40]\n",
      " [  273 16558]]\n",
      "              precision    recall  f1-score   support\n",
      "\n",
      "           0       0.98      1.00      0.99     14714\n",
      "           1       1.00      0.98      0.99     16831\n",
      "\n",
      "    accuracy                           0.99     31545\n",
      "   macro avg       0.99      0.99      0.99     31545\n",
      "weighted avg       0.99      0.99      0.99     31545\n",
      "\n"
     ]
    }
   ],
   "source": [
    "y_pred = classifier.predict(X_test)\n",
    "y_pred = (y_pred > 0.5)\n",
    "from sklearn.metrics import confusion_matrix, classification_report\n",
    "print(confusion_matrix(y_test, y_pred))\n",
    "print(classification_report(y_test, y_pred))"
   ]
  },
  {
   "cell_type": "code",
   "execution_count": 46,
   "metadata": {},
   "outputs": [
    {
     "name": "stdout",
     "output_type": "stream",
     "text": [
      "[[14674    40]\n",
      " [    0 16831]]\n",
      "              precision    recall  f1-score   support\n",
      "\n",
      "           0       1.00      1.00      1.00     14714\n",
      "           1       1.00      1.00      1.00     16831\n",
      "\n",
      "    accuracy                           1.00     31545\n",
      "   macro avg       1.00      1.00      1.00     31545\n",
      "weighted avg       1.00      1.00      1.00     31545\n",
      "\n"
     ]
    }
   ],
   "source": [
    "y_pred = classifier.predict(X_test)\n",
    "y_pred = (y_pred > 0.5)\n",
    "from sklearn.metrics import confusion_matrix, classification_report\n",
    "print(confusion_matrix(y_test, y_pred))\n",
    "print(classification_report(y_test, y_pred))"
   ]
  },
  {
   "cell_type": "code",
   "execution_count": 47,
   "metadata": {},
   "outputs": [
    {
     "data": {
      "text/plain": [
       "<matplotlib.axes._subplots.AxesSubplot at 0x1e9c66eeec8>"
      ]
     },
     "execution_count": 47,
     "metadata": {},
     "output_type": "execute_result"
    },
    {
     "data": {
      "image/png": "[encoded data removed]",
      "text/plain": [
       "<Figure size 432x288 with 1 Axes>"
      ]
     },
     "metadata": {
      "needs_background": "light"
     },
     "output_type": "display_data"
    }
   ],
   "source": [
    "losses= pd.DataFrame(classifier.history.history)\n",
    "losses[['val_loss','loss']].plot()"
   ]
  },
  {
   "cell_type": "code",
   "execution_count": 48,
   "metadata": {},
   "outputs": [
    {
     "name": "stderr",
     "output_type": "stream",
     "text": [
      "D:\\Anaconda\\lib\\site-packages\\ipykernel_launcher.py:1: UserWarning: Update your `Dense` call to the Keras 2 API: `Dense(input_dim=39, activation=\"relu\", units=20, kernel_initializer=\"uniform\")`\n",
      "  \"\"\"Entry point for launching an IPython kernel.\n",
      "D:\\Anaconda\\lib\\site-packages\\ipykernel_launcher.py:3: UserWarning: Update your `Dense` call to the Keras 2 API: `Dense(activation=\"relu\", units=20, kernel_initializer=\"uniform\")`\n",
      "  This is separate from the ipykernel package so we can avoid doing imports until\n",
      "D:\\Anaconda\\lib\\site-packages\\ipykernel_launcher.py:5: UserWarning: Update your `Dense` call to the Keras 2 API: `Dense(activation=\"sigmoid\", units=1, kernel_initializer=\"uniform\")`\n",
      "  \"\"\"\n"
     ]
    }
   ],
   "source": [
    "\n",
    "classifier.add(Dense(input_dim = 39, output_dim = 20, init= \"uniform\", activation = \"relu\"))\n",
    "classifier.add(Dropout(0.5))\n",
    "classifier.add(Dense(output_dim = 20, init= \"uniform\", activation = \"relu\"))\n",
    "classifier.add(Dropout(0.5))\n",
    "classifier.add(Dense(output_dim = 1, init= \"uniform\", activation = \"sigmoid\"))"
   ]
  },
  {
   "cell_type": "code",
   "execution_count": 49,
   "metadata": {},
   "outputs": [
    {
     "name": "stdout",
     "output_type": "stream",
     "text": [
      "Train on 73605 samples, validate on 31545 samples\n",
      "Epoch 1/20\n",
      "73605/73605 [==============================] - 22s 301us/step - loss: 0.0828 - accuracy: 0.9881 - val_loss: 0.0184 - val_accuracy: 0.9987\n",
      "Epoch 2/20\n",
      "73605/73605 [==============================] - 21s 288us/step - loss: 0.0273 - accuracy: 0.9966 - val_loss: 0.0193 - val_accuracy: 0.9987\n",
      "Epoch 3/20\n",
      "73605/73605 [==============================] - 21s 279us/step - loss: 0.0261 - accuracy: 0.9966 - val_loss: 0.0261 - val_accuracy: 0.9987\n",
      "Epoch 4/20\n",
      "73605/73605 [==============================] - 20s 274us/step - loss: 0.0260 - accuracy: 0.9966 - val_loss: 0.0188 - val_accuracy: 0.9987\n",
      "Epoch 5/20\n",
      "73605/73605 [==============================] - 21s 281us/step - loss: 0.0267 - accuracy: 0.9966 - val_loss: 0.0203 - val_accuracy: 0.9987\n",
      "Epoch 6/20\n",
      "73605/73605 [==============================] - 20s 275us/step - loss: 0.0265 - accuracy: 0.9963 - val_loss: 0.0254 - val_accuracy: 0.9987\n",
      "Epoch 00006: early stopping\n"
     ]
    },
    {
     "data": {
      "text/plain": [
       "<keras.callbacks.callbacks.History at 0x1e9cb0520c8>"
      ]
     },
     "execution_count": 49,
     "metadata": {},
     "output_type": "execute_result"
    }
   ],
   "source": [
    "classifier.compile(optimizer = \"adam\", loss = \"binary_crossentropy\", metrics = [\"accuracy\"])\n",
    "classifier.fit(X_train, y_train, batch_size = 10, epochs = 20, validation_data = (X_test, y_test), callbacks=[early_stop] )"
   ]
  },
  {
   "cell_type": "code",
   "execution_count": 50,
   "metadata": {},
   "outputs": [
    {
     "name": "stdout",
     "output_type": "stream",
     "text": [
      "[[14674    40]\n",
      " [    0 16831]]\n",
      "              precision    recall  f1-score   support\n",
      "\n",
      "           0       1.00      1.00      1.00     14714\n",
      "           1       1.00      1.00      1.00     16831\n",
      "\n",
      "    accuracy                           1.00     31545\n",
      "   macro avg       1.00      1.00      1.00     31545\n",
      "weighted avg       1.00      1.00      1.00     31545\n",
      "\n"
     ]
    }
   ],
   "source": [
    "y_pred = classifier.predict(X_test)\n",
    "y_pred = (y_pred > 0.5)\n",
    "from sklearn.metrics import confusion_matrix, classification_report\n",
    "print(confusion_matrix(y_test, y_pred))\n",
    "print(classification_report(y_test, y_pred))"
   ]
  },
  {
   "cell_type": "code",
   "execution_count": 51,
   "metadata": {},
   "outputs": [
    {
     "data": {
      "text/plain": [
       "<matplotlib.axes._subplots.AxesSubplot at 0x1e9c8954308>"
      ]
     },
     "execution_count": 51,
     "metadata": {},
     "output_type": "execute_result"
    },
    {
     "data": {
      "image/png": "[encoded data removed]",
      "text/plain": [
       "<Figure size 432x288 with 1 Axes>"
      ]
     },
     "metadata": {
      "needs_background": "light"
     },
     "output_type": "display_data"
    }
   ],
   "source": [
    "losses= pd.DataFrame(classifier.history.history)\n",
    "losses[['val_loss','loss']].plot()"
   ]
  },
  {
   "cell_type": "code",
   "execution_count": 52,
   "metadata": {},
   "outputs": [
    {
     "name": "stderr",
     "output_type": "stream",
     "text": [
      "D:\\Anaconda\\lib\\site-packages\\ipykernel_launcher.py:1: UserWarning: Update your `Dense` call to the Keras 2 API: `Dense(input_dim=39, activation=\"relu\", units=20, kernel_initializer=\"uniform\")`\n",
      "  \"\"\"Entry point for launching an IPython kernel.\n",
      "D:\\Anaconda\\lib\\site-packages\\ipykernel_launcher.py:3: UserWarning: Update your `Dense` call to the Keras 2 API: `Dense(activation=\"relu\", units=20, kernel_initializer=\"uniform\")`\n",
      "  This is separate from the ipykernel package so we can avoid doing imports until\n",
      "D:\\Anaconda\\lib\\site-packages\\ipykernel_launcher.py:5: UserWarning: Update your `Dense` call to the Keras 2 API: `Dense(activation=\"relu\", units=20, kernel_initializer=\"uniform\")`\n",
      "  \"\"\"\n",
      "D:\\Anaconda\\lib\\site-packages\\ipykernel_launcher.py:7: UserWarning: Update your `Dense` call to the Keras 2 API: `Dense(activation=\"sigmoid\", units=1, kernel_initializer=\"uniform\")`\n",
      "  import sys\n"
     ]
    }
   ],
   "source": [
    "classifier.add(Dense(input_dim = 39, output_dim = 20, init= \"uniform\", activation = \"relu\"))\n",
    "classifier.add(Dropout(0.5))\n",
    "classifier.add(Dense(output_dim = 20, init= \"uniform\", activation = \"relu\"))\n",
    "classifier.add(Dropout(0.5))\n",
    "classifier.add(Dense(output_dim = 20, init= \"uniform\", activation = \"relu\"))\n",
    "classifier.add(Dropout(0.5))\n",
    "classifier.add(Dense(output_dim = 1, init= \"uniform\", activation = \"sigmoid\"))"
   ]
  },
  {
   "cell_type": "code",
   "execution_count": 54,
   "metadata": {},
   "outputs": [
    {
     "name": "stdout",
     "output_type": "stream",
     "text": [
      "Train on 73605 samples, validate on 31545 samples\n",
      "Epoch 1/20\n",
      "73605/73605 [==============================] - 25s 343us/step - loss: 0.0597 - accuracy: 0.9879 - val_loss: 0.0164 - val_accuracy: 0.9987\n",
      "Epoch 2/20\n",
      "73605/73605 [==============================] - 25s 336us/step - loss: 0.0297 - accuracy: 0.9973 - val_loss: 0.0156 - val_accuracy: 0.9987\n",
      "Epoch 3/20\n",
      "73605/73605 [==============================] - 24s 323us/step - loss: 0.0279 - accuracy: 0.9974 - val_loss: 0.0167 - val_accuracy: 0.9987\n",
      "Epoch 4/20\n",
      "73605/73605 [==============================] - 23s 319us/step - loss: 0.0264 - accuracy: 0.9973 - val_loss: 0.0137 - val_accuracy: 0.9987\n",
      "Epoch 5/20\n",
      "73605/73605 [==============================] - 24s 324us/step - loss: 0.0267 - accuracy: 0.9973 - val_loss: 0.0185 - val_accuracy: 0.9987\n",
      "Epoch 6/20\n",
      "73605/73605 [==============================] - 24s 326us/step - loss: 0.0269 - accuracy: 0.9969 - val_loss: 0.0156 - val_accuracy: 0.9987\n",
      "Epoch 7/20\n",
      "73605/73605 [==============================] - 24s 325us/step - loss: 0.0281 - accuracy: 0.9968 - val_loss: 0.0169 - val_accuracy: 0.9987\n",
      "Epoch 8/20\n",
      "73605/73605 [==============================] - 25s 336us/step - loss: 0.0246 - accuracy: 0.9970 - val_loss: 0.0168 - val_accuracy: 0.9987\n",
      "Epoch 9/20\n",
      "73605/73605 [==============================] - 25s 333us/step - loss: 0.0268 - accuracy: 0.9969 - val_loss: 0.0150 - val_accuracy: 0.9987\n",
      "Epoch 00009: early stopping\n"
     ]
    },
    {
     "data": {
      "text/plain": [
       "<keras.callbacks.callbacks.History at 0x1e9c8786c88>"
      ]
     },
     "execution_count": 54,
     "metadata": {},
     "output_type": "execute_result"
    }
   ],
   "source": [
    "classifier.compile(optimizer = \"adam\", loss = \"binary_crossentropy\", metrics = [\"accuracy\"])\n",
    "classifier.fit(X_train, y_train, batch_size = 10, epochs = 20, validation_data = (X_test, y_test), callbacks=[early_stop] )"
   ]
  },
  {
   "cell_type": "code",
   "execution_count": 55,
   "metadata": {},
   "outputs": [
    {
     "name": "stdout",
     "output_type": "stream",
     "text": [
      "[[14674    40]\n",
      " [    0 16831]]\n",
      "              precision    recall  f1-score   support\n",
      "\n",
      "           0       1.00      1.00      1.00     14714\n",
      "           1       1.00      1.00      1.00     16831\n",
      "\n",
      "    accuracy                           1.00     31545\n",
      "   macro avg       1.00      1.00      1.00     31545\n",
      "weighted avg       1.00      1.00      1.00     31545\n",
      "\n"
     ]
    }
   ],
   "source": [
    "y_pred = classifier.predict(X_test)\n",
    "y_pred = (y_pred > 0.5)\n",
    "from sklearn.metrics import confusion_matrix, classification_report\n",
    "print(confusion_matrix(y_test, y_pred))\n",
    "print(classification_report(y_test, y_pred))"
   ]
  },
  {
   "cell_type": "code",
   "execution_count": 56,
   "metadata": {},
   "outputs": [
    {
     "data": {
      "text/plain": [
       "<matplotlib.axes._subplots.AxesSubplot at 0x1e9c654b188>"
      ]
     },
     "execution_count": 56,
     "metadata": {},
     "output_type": "execute_result"
    },
    {
     "data": {
      "image/png": "[encoded data removed]",
      "text/plain": [
       "<Figure size 432x288 with 1 Axes>"
      ]
     },
     "metadata": {
      "needs_background": "light"
     },
     "output_type": "display_data"
    }
   ],
   "source": [
    "losses= pd.DataFrame(classifier.history.history)\n",
    "losses[['val_loss','loss']].plot()"
   ]
  },
  {
   "cell_type": "code",
   "execution_count": 57,
   "metadata": {},
   "outputs": [
    {
     "name": "stderr",
     "output_type": "stream",
     "text": [
      "D:\\Anaconda\\lib\\site-packages\\ipykernel_launcher.py:1: UserWarning: Update your `Dense` call to the Keras 2 API: `Dense(input_dim=39, activation=\"relu\", units=20, kernel_initializer=\"uniform\")`\n",
      "  \"\"\"Entry point for launching an IPython kernel.\n",
      "D:\\Anaconda\\lib\\site-packages\\ipykernel_launcher.py:3: UserWarning: Update your `Dense` call to the Keras 2 API: `Dense(activation=\"relu\", units=20, kernel_initializer=\"uniform\")`\n",
      "  This is separate from the ipykernel package so we can avoid doing imports until\n",
      "D:\\Anaconda\\lib\\site-packages\\ipykernel_launcher.py:5: UserWarning: Update your `Dense` call to the Keras 2 API: `Dense(activation=\"relu\", units=20, kernel_initializer=\"uniform\")`\n",
      "  \"\"\"\n",
      "D:\\Anaconda\\lib\\site-packages\\ipykernel_launcher.py:7: UserWarning: Update your `Dense` call to the Keras 2 API: `Dense(activation=\"relu\", units=10, kernel_initializer=\"uniform\")`\n",
      "  import sys\n",
      "D:\\Anaconda\\lib\\site-packages\\ipykernel_launcher.py:9: UserWarning: Update your `Dense` call to the Keras 2 API: `Dense(activation=\"sigmoid\", units=1, kernel_initializer=\"uniform\")`\n",
      "  if __name__ == '__main__':\n"
     ]
    }
   ],
   "source": [
    "classifier.add(Dense(input_dim = 39, output_dim = 20, init= \"uniform\", activation = \"relu\"))\n",
    "classifier.add(Dropout(0.5))\n",
    "classifier.add(Dense(output_dim = 20, init= \"uniform\", activation = \"relu\"))\n",
    "classifier.add(Dropout(0.5))\n",
    "classifier.add(Dense(output_dim = 20, init= \"uniform\", activation = \"relu\"))\n",
    "classifier.add(Dropout(0.5))\n",
    "classifier.add(Dense(output_dim = 10, init= \"uniform\", activation = \"relu\"))\n",
    "classifier.add(Dropout(0.5))\n",
    "classifier.add(Dense(output_dim = 1, init= \"uniform\", activation = \"sigmoid\"))"
   ]
  },
  {
   "cell_type": "code",
   "execution_count": 58,
   "metadata": {},
   "outputs": [
    {
     "name": "stdout",
     "output_type": "stream",
     "text": [
      "Train on 73605 samples, validate on 31545 samples\n",
      "Epoch 1/20\n",
      "73605/73605 [==============================] - 30s 409us/step - loss: 0.1298 - accuracy: 0.9792 - val_loss: 0.0496 - val_accuracy: 0.9987\n",
      "Epoch 2/20\n",
      "73605/73605 [==============================] - 28s 382us/step - loss: 0.0694 - accuracy: 0.9892 - val_loss: 0.0508 - val_accuracy: 0.9987\n",
      "Epoch 3/20\n",
      "73605/73605 [==============================] - 28s 379us/step - loss: 0.0666 - accuracy: 0.9895 - val_loss: 0.0506 - val_accuracy: 0.9987\n",
      "Epoch 4/20\n",
      "73605/73605 [==============================] - 28s 386us/step - loss: 0.0686 - accuracy: 0.9895 - val_loss: 0.0439 - val_accuracy: 0.9987\n",
      "Epoch 5/20\n",
      "73605/73605 [==============================] - 28s 386us/step - loss: 0.0672 - accuracy: 0.9899 - val_loss: 0.0446 - val_accuracy: 0.9987\n",
      "Epoch 6/20\n",
      "73605/73605 [==============================] - 29s 389us/step - loss: 0.0675 - accuracy: 0.9898 - val_loss: 0.0391 - val_accuracy: 0.9987\n",
      "Epoch 7/20\n",
      "73605/73605 [==============================] - 29s 388us/step - loss: 0.0677 - accuracy: 0.9897 - val_loss: 0.0402 - val_accuracy: 0.9987\n",
      "Epoch 8/20\n",
      "73605/73605 [==============================] - 29s 387us/step - loss: 0.0687 - accuracy: 0.9892 - val_loss: 0.0401 - val_accuracy: 0.9987\n",
      "Epoch 9/20\n",
      "73605/73605 [==============================] - 29s 393us/step - loss: 0.0637 - accuracy: 0.9900 - val_loss: 0.0435 - val_accuracy: 0.9987\n",
      "Epoch 10/20\n",
      "73605/73605 [==============================] - 29s 392us/step - loss: 0.0681 - accuracy: 0.9895 - val_loss: 0.0433 - val_accuracy: 0.9987\n",
      "Epoch 11/20\n",
      "73605/73605 [==============================] - 29s 392us/step - loss: 0.0668 - accuracy: 0.9895 - val_loss: 0.0453 - val_accuracy: 0.9987\n",
      "Epoch 00011: early stopping\n"
     ]
    },
    {
     "data": {
      "text/plain": [
       "<keras.callbacks.callbacks.History at 0x1e9d662ce88>"
      ]
     },
     "execution_count": 58,
     "metadata": {},
     "output_type": "execute_result"
    }
   ],
   "source": [
    "classifier.compile(optimizer = \"adam\", loss = \"binary_crossentropy\", metrics = [\"accuracy\"])\n",
    "classifier.fit(X_train, y_train, batch_size = 10, epochs = 20, validation_data = (X_test, y_test), callbacks=[early_stop] )"
   ]
  },
  {
   "cell_type": "code",
   "execution_count": 59,
   "metadata": {},
   "outputs": [
    {
     "name": "stdout",
     "output_type": "stream",
     "text": [
      "[[14674    40]\n",
      " [    0 16831]]\n",
      "              precision    recall  f1-score   support\n",
      "\n",
      "           0       1.00      1.00      1.00     14714\n",
      "           1       1.00      1.00      1.00     16831\n",
      "\n",
      "    accuracy                           1.00     31545\n",
      "   macro avg       1.00      1.00      1.00     31545\n",
      "weighted avg       1.00      1.00      1.00     31545\n",
      "\n"
     ]
    }
   ],
   "source": [
    "y_pred = classifier.predict(X_test)\n",
    "y_pred = (y_pred > 0.5)\n",
    "from sklearn.metrics import confusion_matrix, classification_report\n",
    "print(confusion_matrix(y_test, y_pred))\n",
    "print(classification_report(y_test, y_pred))"
   ]
  },
  {
   "cell_type": "code",
   "execution_count": 60,
   "metadata": {},
   "outputs": [
    {
     "data": {
      "text/plain": [
       "<matplotlib.axes._subplots.AxesSubplot at 0x1e9ca0a7ac8>"
      ]
     },
     "execution_count": 60,
     "metadata": {},
     "output_type": "execute_result"
    },
    {
     "data": {
      "image/png": "[encoded data removed]",
      "text/plain": [
       "<Figure size 432x288 with 1 Axes>"
      ]
     },
     "metadata": {
      "needs_background": "light"
     },
     "output_type": "display_data"
    }
   ],
   "source": [
    "losses= pd.DataFrame(classifier.history.history)\n",
    "losses[['val_loss','loss']].plot()"
   ]
  },
  {
   "cell_type": "code",
   "execution_count": 61,
   "metadata": {},
   "outputs": [
    {
     "name": "stderr",
     "output_type": "stream",
     "text": [
      "D:\\Anaconda\\lib\\site-packages\\ipykernel_launcher.py:1: UserWarning: Update your `Dense` call to the Keras 2 API: `Dense(input_dim=39, activation=\"relu\", units=20, kernel_initializer=\"uniform\")`\n",
      "  \"\"\"Entry point for launching an IPython kernel.\n",
      "D:\\Anaconda\\lib\\site-packages\\ipykernel_launcher.py:3: UserWarning: Update your `Dense` call to the Keras 2 API: `Dense(activation=\"relu\", units=20, kernel_initializer=\"uniform\")`\n",
      "  This is separate from the ipykernel package so we can avoid doing imports until\n",
      "D:\\Anaconda\\lib\\site-packages\\ipykernel_launcher.py:5: UserWarning: Update your `Dense` call to the Keras 2 API: `Dense(activation=\"relu\", units=20, kernel_initializer=\"uniform\")`\n",
      "  \"\"\"\n",
      "D:\\Anaconda\\lib\\site-packages\\ipykernel_launcher.py:7: UserWarning: Update your `Dense` call to the Keras 2 API: `Dense(activation=\"relu\", units=20, kernel_initializer=\"uniform\")`\n",
      "  import sys\n",
      "D:\\Anaconda\\lib\\site-packages\\ipykernel_launcher.py:9: UserWarning: Update your `Dense` call to the Keras 2 API: `Dense(activation=\"sigmoid\", units=1, kernel_initializer=\"uniform\")`\n",
      "  if __name__ == '__main__':\n"
     ]
    }
   ],
   "source": [
    "classifier.add(Dense(input_dim = 39, output_dim = 20, init= \"uniform\", activation = \"relu\"))\n",
    "classifier.add(Dropout(0.5))\n",
    "classifier.add(Dense(output_dim = 20, init= \"uniform\", activation = \"relu\"))\n",
    "classifier.add(Dropout(0.5))\n",
    "classifier.add(Dense(output_dim = 20, init= \"uniform\", activation = \"relu\"))\n",
    "classifier.add(Dropout(0.5))\n",
    "classifier.add(Dense(output_dim = 20, init= \"uniform\", activation = \"relu\"))\n",
    "classifier.add(Dropout(0.5))\n",
    "classifier.add(Dense(output_dim = 1, init= \"uniform\", activation = \"sigmoid\"))"
   ]
  },
  {
   "cell_type": "code",
   "execution_count": null,
   "metadata": {},
   "outputs": [
    {
     "name": "stdout",
     "output_type": "stream",
     "text": [
      "Train on 73605 samples, validate on 31545 samples\n",
      "Epoch 1/20\n",
      "73605/73605 [==============================] - 62s 839us/step - loss: 0.0811 - accuracy: 0.9793 - val_loss: 0.0224 - val_accuracy: 0.9987\n",
      "Epoch 2/20\n",
      "73605/73605 [==============================] - 34s 460us/step - loss: 0.0569 - accuracy: 0.9935 - val_loss: 0.0221 - val_accuracy: 0.9987\n",
      "Epoch 3/20\n",
      "73605/73605 [==============================] - 34s 464us/step - loss: 0.0532 - accuracy: 0.9937 - val_loss: 0.0202 - val_accuracy: 0.9987\n",
      "Epoch 4/20\n",
      "73605/73605 [==============================] - 35s 470us/step - loss: 0.0522 - accuracy: 0.9937 - val_loss: 0.0246 - val_accuracy: 0.9987\n",
      "Epoch 5/20\n",
      "73605/73605 [==============================] - 34s 465us/step - loss: 0.0515 - accuracy: 0.9935 - val_loss: 0.0214 - val_accuracy: 0.9987\n",
      "Epoch 6/20\n",
      "73605/73605 [==============================] - 34s 468us/step - loss: 0.0536 - accuracy: 0.9932 - val_loss: 0.0181 - val_accuracy: 0.9987\n",
      "Epoch 7/20\n",
      "73605/73605 [==============================] - 34s 466us/step - loss: 0.0536 - accuracy: 0.9930 - val_loss: 0.0191 - val_accuracy: 0.9987\n",
      "Epoch 8/20\n",
      "73605/73605 [==============================] - 35s 473us/step - loss: 0.0532 - accuracy: 0.9936 - val_loss: 0.0194 - val_accuracy: 0.9987\n",
      "Epoch 9/20\n",
      "73605/73605 [==============================] - 34s 467us/step - loss: 0.0520 - accuracy: 0.9932 - val_loss: 0.0207 - val_accuracy: 0.9987\n",
      "Epoch 10/20\n",
      "35660/73605 [=============>................] - ETA: 16s - loss: 0.0528 - accuracy: 0.9927"
     ]
    }
   ],
   "source": [
    "classifier.compile(optimizer = \"adam\", loss = \"binary_crossentropy\", metrics = [\"accuracy\"])\n",
    "classifier.fit(X_train, y_train, batch_size = 10, epochs = 20, validation_data = (X_test, y_test), callbacks=[early_stop] )"
   ]
  },
  {
   "cell_type": "code",
   "execution_count": null,
   "metadata": {},
   "outputs": [],
   "source": [
    "y_pred = classifier.predict(X_test)\n",
    "y_pred = (y_pred > 0.5)\n",
    "from sklearn.metrics import confusion_matrix, classification_report\n",
    "print(confusion_matrix(y_test, y_pred))\n",
    "print(classification_report(y_test, y_pred))"
   ]
  },
  {
   "cell_type": "code",
   "execution_count": null,
   "metadata": {},
   "outputs": [],
   "source": [
    "losses= pd.DataFrame(classifier.history.history)\n",
    "losses[['val_loss','loss']].plot()"
   ]
  }
 ],
 "metadata": {
  "kernelspec": {
   "display_name": "Python 3",
   "language": "python",
   "name": "python3"
  },
  "language_info": {
   "codemirror_mode": {
    "name": "ipython",
    "version": 3
   },
   "file_extension": ".py",
   "mimetype": "text/x-python",
   "name": "python",
   "nbconvert_exporter": "python",
   "pygments_lexer": "ipython3",
   "version": "3.7.5"
  }
 },
 "nbformat": 4,
 "nbformat_minor": 4
}
