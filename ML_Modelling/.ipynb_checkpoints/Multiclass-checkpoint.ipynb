{
 "cells": [
  {
   "cell_type": "code",
   "execution_count": 1,
   "metadata": {},
   "outputs": [],
   "source": [
    "import pandas as pd\n",
    "import category_encoders as ce\n",
    "import matplotlib.pyplot as plt\n",
    "import seaborn as sns\n",
    "%matplotlib inline"
   ]
  },
  {
   "cell_type": "code",
   "execution_count": 2,
   "metadata": {},
   "outputs": [],
   "source": [
    "df = pd.read_csv(\"category_dataset.csv\", index_col = False)"
   ]
  },
  {
   "cell_type": "code",
   "execution_count": 3,
   "metadata": {},
   "outputs": [],
   "source": [
    "def change_class(data):\n",
    "    lst = ['TCP port & service discovery','Stealth scan OS & version detection','Malware']\n",
    "    if data in lst:\n",
    "        return \"Malware stealth scan\"\n",
    "    else:\n",
    "        return data"
   ]
  },
  {
   "cell_type": "code",
   "execution_count": 4,
   "metadata": {},
   "outputs": [],
   "source": [
    "df[\"Class\"] = df[\"Class\"].apply(change_class)"
   ]
  },
  {
   "cell_type": "code",
   "execution_count": 5,
   "metadata": {},
   "outputs": [],
   "source": [
    "X = df[['Source IP', 'Destination IP', 'Source MAC', 'Destination MAC', 'Protocol', 'Flags', 'Src Port', 'Dst Port',\n",
    "       'Length']].values\n",
    "y_category = df[\"Class\"].values"
   ]
  },
  {
   "cell_type": "code",
   "execution_count": 6,
   "metadata": {},
   "outputs": [],
   "source": [
    "from sklearn.preprocessing import LabelEncoder, OneHotEncoder\n",
    "le = LabelEncoder()\n",
    "y_category = le.fit_transform(y_category)"
   ]
  },
  {
   "cell_type": "code",
   "execution_count": 7,
   "metadata": {},
   "outputs": [],
   "source": [
    "ce_bin = ce.BinaryEncoder(return_df=False)\n",
    "enc_bin = ce_bin.fit(X)\n",
    "X = enc_bin.transform(X)"
   ]
  },
  {
   "cell_type": "code",
   "execution_count": 8,
   "metadata": {},
   "outputs": [],
   "source": [
    "from sklearn.model_selection import train_test_split\n",
    "X_train, X_test, y_train, y_test = train_test_split(X, y_category, test_size=0.3, random_state=42)"
   ]
  },
  {
   "cell_type": "code",
   "execution_count": 9,
   "metadata": {},
   "outputs": [],
   "source": [
    "from sklearn.preprocessing import StandardScaler\n",
    "sc = StandardScaler()\n",
    "sc_enc = sc.fit(X_train)\n",
    "X_train = sc_enc.transform(X_train)\n",
    "X_test = sc_enc.transform(X_test)"
   ]
  },
  {
   "cell_type": "code",
   "execution_count": 10,
   "metadata": {},
   "outputs": [],
   "source": [
    "enc = OneHotEncoder()\n",
    "y_train_class = enc.fit_transform(y_train.reshape(-1,1)).toarray()\n",
    "y_test_class = enc.transform(y_test.reshape(-1,1)).toarray()"
   ]
  },
  {
   "cell_type": "code",
   "execution_count": 11,
   "metadata": {},
   "outputs": [
    {
     "name": "stderr",
     "output_type": "stream",
     "text": [
      "Using TensorFlow backend.\n"
     ]
    }
   ],
   "source": [
    "import keras\n",
    "from keras.models import Sequential\n",
    "from keras.layers import Dense, Dropout\n",
    "from keras.callbacks import EarlyStopping\n",
    "classifier = Sequential()"
   ]
  },
  {
   "cell_type": "code",
   "execution_count": 12,
   "metadata": {},
   "outputs": [
    {
     "name": "stderr",
     "output_type": "stream",
     "text": [
      "D:\\Anaconda\\lib\\site-packages\\ipykernel_launcher.py:1: UserWarning: Update your `Dense` call to the Keras 2 API: `Dense(input_dim=39, activation=\"relu\", units=20, kernel_initializer=\"uniform\")`\n",
      "  \"\"\"Entry point for launching an IPython kernel.\n",
      "D:\\Anaconda\\lib\\site-packages\\ipykernel_launcher.py:2: UserWarning: Update your `Dense` call to the Keras 2 API: `Dense(activation=\"relu\", units=20, kernel_initializer=\"uniform\")`\n",
      "  \n",
      "D:\\Anaconda\\lib\\site-packages\\ipykernel_launcher.py:3: UserWarning: Update your `Dense` call to the Keras 2 API: `Dense(activation=\"relu\", units=20, kernel_initializer=\"uniform\")`\n",
      "  This is separate from the ipykernel package so we can avoid doing imports until\n",
      "D:\\Anaconda\\lib\\site-packages\\ipykernel_launcher.py:4: UserWarning: Update your `Dense` call to the Keras 2 API: `Dense(activation=\"softmax\", units=7, kernel_initializer=\"uniform\")`\n",
      "  after removing the cwd from sys.path.\n"
     ]
    }
   ],
   "source": [
    "classifier.add(Dense(input_dim = 39, output_dim = 20, init= \"uniform\", activation = \"relu\"))\n",
    "classifier.add(Dense(output_dim = 20, init= \"uniform\", activation = \"relu\"))\n",
    "classifier.add(Dropout(0.5))\n",
    "classifier.add(Dense(output_dim = 20, init= \"uniform\", activation = \"relu\"))\n",
    "classifier.add(Dropout(0.5))\n",
    "classifier.add(Dense(output_dim = 7, init= \"uniform\", activation = \"softmax\"))"
   ]
  },
  {
   "cell_type": "code",
   "execution_count": 13,
   "metadata": {},
   "outputs": [],
   "source": [
    "early_stop = EarlyStopping(monitor= 'val_loss', mode='min', verbose=1, patience = 15)\n",
    "classifier.compile(optimizer = \"adam\", loss = \"categorical_crossentropy\", metrics = [\"accuracy\"])"
   ]
  },
  {
   "cell_type": "code",
   "execution_count": 14,
   "metadata": {},
   "outputs": [
    {
     "name": "stdout",
     "output_type": "stream",
     "text": [
      "Train on 19420 samples, validate on 8324 samples\n",
      "Epoch 1/200\n",
      "19420/19420 [==============================] - 3s 142us/step - loss: 0.6341 - accuracy: 0.7343 - val_loss: 0.1805 - val_accuracy: 0.9389\n",
      "Epoch 2/200\n",
      "19420/19420 [==============================] - 3s 142us/step - loss: 0.1594 - accuracy: 0.9469 - val_loss: 0.1500 - val_accuracy: 0.9360\n",
      "Epoch 3/200\n",
      "19420/19420 [==============================] - 2s 121us/step - loss: 0.1403 - accuracy: 0.9485 - val_loss: 0.1315 - val_accuracy: 0.9524\n",
      "Epoch 4/200\n",
      "19420/19420 [==============================] - 2s 127us/step - loss: 0.1299 - accuracy: 0.9507 - val_loss: 0.1369 - val_accuracy: 0.9495\n",
      "Epoch 5/200\n",
      "19420/19420 [==============================] - 2s 126us/step - loss: 0.1253 - accuracy: 0.9505 - val_loss: 0.1260 - val_accuracy: 0.9563\n",
      "Epoch 6/200\n",
      "19420/19420 [==============================] - 2s 122us/step - loss: 0.1208 - accuracy: 0.9513 - val_loss: 0.1196 - val_accuracy: 0.9513\n",
      "Epoch 7/200\n",
      "19420/19420 [==============================] - 2s 127us/step - loss: 0.1194 - accuracy: 0.9530 - val_loss: 0.1154 - val_accuracy: 0.9560\n",
      "Epoch 8/200\n",
      "19420/19420 [==============================] - 2s 124us/step - loss: 0.1147 - accuracy: 0.9530 - val_loss: 0.1113 - val_accuracy: 0.9525\n",
      "Epoch 9/200\n",
      "19420/19420 [==============================] - 2s 124us/step - loss: 0.1142 - accuracy: 0.9531 - val_loss: 0.1259 - val_accuracy: 0.9479\n",
      "Epoch 10/200\n",
      "19420/19420 [==============================] - 2s 122us/step - loss: 0.1130 - accuracy: 0.9546 - val_loss: 0.1070 - val_accuracy: 0.9574\n",
      "Epoch 11/200\n",
      "19420/19420 [==============================] - 2s 125us/step - loss: 0.1118 - accuracy: 0.9542 - val_loss: 0.1114 - val_accuracy: 0.9569\n",
      "Epoch 12/200\n",
      "19420/19420 [==============================] - 2s 126us/step - loss: 0.1110 - accuracy: 0.9541 - val_loss: 0.1148 - val_accuracy: 0.9456\n",
      "Epoch 13/200\n",
      "19420/19420 [==============================] - 2s 124us/step - loss: 0.1093 - accuracy: 0.9544 - val_loss: 0.1056 - val_accuracy: 0.9565\n",
      "Epoch 14/200\n",
      "19420/19420 [==============================] - 2s 123us/step - loss: 0.1089 - accuracy: 0.9551 - val_loss: 0.0984 - val_accuracy: 0.9582\n",
      "Epoch 15/200\n",
      "19420/19420 [==============================] - 2s 124us/step - loss: 0.1072 - accuracy: 0.9544 - val_loss: 0.1170 - val_accuracy: 0.9518\n",
      "Epoch 16/200\n",
      "19420/19420 [==============================] - 2s 121us/step - loss: 0.1068 - accuracy: 0.9556 - val_loss: 0.1087 - val_accuracy: 0.9583\n",
      "Epoch 17/200\n",
      "19420/19420 [==============================] - 2s 124us/step - loss: 0.1061 - accuracy: 0.9563 - val_loss: 0.1000 - val_accuracy: 0.9527\n",
      "Epoch 18/200\n",
      "19420/19420 [==============================] - 2s 125us/step - loss: 0.1050 - accuracy: 0.9564 - val_loss: 0.0991 - val_accuracy: 0.9574\n",
      "Epoch 19/200\n",
      "19420/19420 [==============================] - 2s 124us/step - loss: 0.1046 - accuracy: 0.9544 - val_loss: 0.1073 - val_accuracy: 0.9566\n",
      "Epoch 20/200\n",
      "19420/19420 [==============================] - 2s 125us/step - loss: 0.1041 - accuracy: 0.9546 - val_loss: 0.1004 - val_accuracy: 0.9586\n",
      "Epoch 21/200\n",
      "19420/19420 [==============================] - 2s 128us/step - loss: 0.1030 - accuracy: 0.9572 - val_loss: 0.1013 - val_accuracy: 0.9580\n",
      "Epoch 22/200\n",
      "19420/19420 [==============================] - 2s 123us/step - loss: 0.1037 - accuracy: 0.9561 - val_loss: 0.1014 - val_accuracy: 0.9575\n",
      "Epoch 23/200\n",
      "19420/19420 [==============================] - 2s 123us/step - loss: 0.1018 - accuracy: 0.9564 - val_loss: 0.0981 - val_accuracy: 0.9517\n",
      "Epoch 24/200\n",
      "19420/19420 [==============================] - 3s 130us/step - loss: 0.1010 - accuracy: 0.9570 - val_loss: 0.1009 - val_accuracy: 0.9518\n",
      "Epoch 25/200\n",
      "19420/19420 [==============================] - 3s 137us/step - loss: 0.1013 - accuracy: 0.9570 - val_loss: 0.0960 - val_accuracy: 0.9521\n",
      "Epoch 26/200\n",
      "19420/19420 [==============================] - 2s 125us/step - loss: 0.1019 - accuracy: 0.9560 - val_loss: 0.1004 - val_accuracy: 0.9518\n",
      "Epoch 27/200\n",
      "19420/19420 [==============================] - 2s 126us/step - loss: 0.0999 - accuracy: 0.9569 - val_loss: 0.0960 - val_accuracy: 0.9610\n",
      "Epoch 28/200\n",
      "19420/19420 [==============================] - 3s 135us/step - loss: 0.1017 - accuracy: 0.9565 - val_loss: 0.0977 - val_accuracy: 0.9602\n",
      "Epoch 29/200\n",
      "19420/19420 [==============================] - 2s 125us/step - loss: 0.0995 - accuracy: 0.9575 - val_loss: 0.1001 - val_accuracy: 0.9612\n",
      "Epoch 30/200\n",
      "19420/19420 [==============================] - 2s 125us/step - loss: 0.1005 - accuracy: 0.9579 - val_loss: 0.0968 - val_accuracy: 0.9574\n",
      "Epoch 31/200\n",
      "19420/19420 [==============================] - 2s 124us/step - loss: 0.0998 - accuracy: 0.9572 - val_loss: 0.0955 - val_accuracy: 0.9594\n",
      "Epoch 32/200\n",
      "19420/19420 [==============================] - 2s 126us/step - loss: 0.0987 - accuracy: 0.9579 - val_loss: 0.0958 - val_accuracy: 0.9610\n",
      "Epoch 33/200\n",
      "19420/19420 [==============================] - 2s 124us/step - loss: 0.0986 - accuracy: 0.9572 - val_loss: 0.1007 - val_accuracy: 0.9588\n",
      "Epoch 34/200\n",
      "19420/19420 [==============================] - 2s 126us/step - loss: 0.0999 - accuracy: 0.9582 - val_loss: 0.0971 - val_accuracy: 0.9601\n",
      "Epoch 35/200\n",
      "19420/19420 [==============================] - 2s 126us/step - loss: 0.0976 - accuracy: 0.9585 - val_loss: 0.0948 - val_accuracy: 0.9581\n",
      "Epoch 36/200\n",
      "19420/19420 [==============================] - 2s 126us/step - loss: 0.0979 - accuracy: 0.9587 - val_loss: 0.1118 - val_accuracy: 0.9511\n",
      "Epoch 37/200\n",
      "19420/19420 [==============================] - 2s 128us/step - loss: 0.0985 - accuracy: 0.9585 - val_loss: 0.0978 - val_accuracy: 0.9537\n",
      "Epoch 38/200\n",
      "19420/19420 [==============================] - 3s 130us/step - loss: 0.0969 - accuracy: 0.9585 - val_loss: 0.1009 - val_accuracy: 0.9500\n",
      "Epoch 39/200\n",
      "19420/19420 [==============================] - 3s 130us/step - loss: 0.0965 - accuracy: 0.9579 - val_loss: 0.1020 - val_accuracy: 0.9554\n",
      "Epoch 40/200\n",
      "19420/19420 [==============================] - 2s 128us/step - loss: 0.0967 - accuracy: 0.9595 - val_loss: 0.0957 - val_accuracy: 0.9583\n",
      "Epoch 41/200\n",
      "19420/19420 [==============================] - 3s 151us/step - loss: 0.0965 - accuracy: 0.9588 - val_loss: 0.0947 - val_accuracy: 0.9613\n",
      "Epoch 42/200\n",
      "19420/19420 [==============================] - 3s 133us/step - loss: 0.0963 - accuracy: 0.9591 - val_loss: 0.0927 - val_accuracy: 0.9600\n",
      "Epoch 43/200\n",
      "19420/19420 [==============================] - 3s 134us/step - loss: 0.0953 - accuracy: 0.9589 - val_loss: 0.0938 - val_accuracy: 0.9614\n",
      "Epoch 44/200\n",
      "19420/19420 [==============================] - 2s 127us/step - loss: 0.0952 - accuracy: 0.9591 - val_loss: 0.0960 - val_accuracy: 0.9581\n",
      "Epoch 45/200\n",
      "19420/19420 [==============================] - 3s 143us/step - loss: 0.0965 - accuracy: 0.9584 - val_loss: 0.0959 - val_accuracy: 0.9588\n",
      "Epoch 46/200\n",
      "19420/19420 [==============================] - 3s 138us/step - loss: 0.0945 - accuracy: 0.9589 - val_loss: 0.0929 - val_accuracy: 0.9586\n",
      "Epoch 47/200\n",
      "19420/19420 [==============================] - 3s 141us/step - loss: 0.0959 - accuracy: 0.9585 - val_loss: 0.0966 - val_accuracy: 0.9586\n",
      "Epoch 48/200\n",
      "19420/19420 [==============================] - 3s 139us/step - loss: 0.0960 - accuracy: 0.9584 - val_loss: 0.0976 - val_accuracy: 0.9595\n",
      "Epoch 49/200\n",
      "19420/19420 [==============================] - 2s 125us/step - loss: 0.0951 - accuracy: 0.9592 - val_loss: 0.0987 - val_accuracy: 0.9598\n",
      "Epoch 50/200\n",
      "19420/19420 [==============================] - 3s 138us/step - loss: 0.0947 - accuracy: 0.9591 - val_loss: 0.0912 - val_accuracy: 0.9614\n",
      "Epoch 51/200\n",
      "19420/19420 [==============================] - 3s 148us/step - loss: 0.0947 - accuracy: 0.9596 - val_loss: 0.0921 - val_accuracy: 0.9616\n",
      "Epoch 52/200\n",
      "19420/19420 [==============================] - 3s 149us/step - loss: 0.0941 - accuracy: 0.9606 - val_loss: 0.0972 - val_accuracy: 0.9586\n",
      "Epoch 53/200\n",
      "19420/19420 [==============================] - 3s 145us/step - loss: 0.0937 - accuracy: 0.9600 - val_loss: 0.1008 - val_accuracy: 0.9513\n",
      "Epoch 54/200\n",
      "19420/19420 [==============================] - 3s 152us/step - loss: 0.0942 - accuracy: 0.9596 - val_loss: 0.0945 - val_accuracy: 0.9601\n",
      "Epoch 55/200\n",
      "19420/19420 [==============================] - 3s 131us/step - loss: 0.0937 - accuracy: 0.9585 - val_loss: 0.0936 - val_accuracy: 0.9582\n",
      "Epoch 56/200\n",
      "19420/19420 [==============================] - 3s 136us/step - loss: 0.0927 - accuracy: 0.9598 - val_loss: 0.1004 - val_accuracy: 0.9602\n",
      "Epoch 57/200\n",
      "19420/19420 [==============================] - 3s 139us/step - loss: 0.0929 - accuracy: 0.9595 - val_loss: 0.0920 - val_accuracy: 0.9593\n",
      "Epoch 58/200\n",
      "19420/19420 [==============================] - 3s 156us/step - loss: 0.0930 - accuracy: 0.9599 - val_loss: 0.1010 - val_accuracy: 0.9616\n",
      "Epoch 59/200\n",
      "19420/19420 [==============================] - 3s 141us/step - loss: 0.0925 - accuracy: 0.9606 - val_loss: 0.0923 - val_accuracy: 0.9581\n",
      "Epoch 60/200\n",
      "19420/19420 [==============================] - 2s 127us/step - loss: 0.0918 - accuracy: 0.9608 - val_loss: 0.0940 - val_accuracy: 0.9604\n",
      "Epoch 61/200\n",
      "19420/19420 [==============================] - 2s 125us/step - loss: 0.0951 - accuracy: 0.9576 - val_loss: 0.0902 - val_accuracy: 0.9608\n",
      "Epoch 62/200\n",
      "19420/19420 [==============================] - 2s 126us/step - loss: 0.0927 - accuracy: 0.9600 - val_loss: 0.0921 - val_accuracy: 0.9604\n",
      "Epoch 63/200\n",
      "19420/19420 [==============================] - 3s 143us/step - loss: 0.0932 - accuracy: 0.9598 - val_loss: 0.0951 - val_accuracy: 0.9586\n",
      "Epoch 64/200\n",
      "19420/19420 [==============================] - 3s 161us/step - loss: 0.0927 - accuracy: 0.9599 - val_loss: 0.0974 - val_accuracy: 0.9614\n",
      "Epoch 65/200\n",
      "19420/19420 [==============================] - 3s 131us/step - loss: 0.0920 - accuracy: 0.9597 - val_loss: 0.0936 - val_accuracy: 0.9584\n",
      "Epoch 66/200\n",
      "19420/19420 [==============================] - 3s 132us/step - loss: 0.0934 - accuracy: 0.9599 - val_loss: 0.0941 - val_accuracy: 0.9584\n",
      "Epoch 67/200\n",
      "19420/19420 [==============================] - 3s 156us/step - loss: 0.0911 - accuracy: 0.9597 - val_loss: 0.0901 - val_accuracy: 0.9611\n",
      "Epoch 68/200\n",
      "19420/19420 [==============================] - 3s 152us/step - loss: 0.0922 - accuracy: 0.9599 - val_loss: 0.0899 - val_accuracy: 0.9605\n",
      "Epoch 69/200\n",
      "19420/19420 [==============================] - 2s 128us/step - loss: 0.0923 - accuracy: 0.9594 - val_loss: 0.0927 - val_accuracy: 0.9605\n",
      "Epoch 70/200\n",
      "19420/19420 [==============================] - 2s 122us/step - loss: 0.0924 - accuracy: 0.9599 - val_loss: 0.0934 - val_accuracy: 0.9596\n",
      "Epoch 71/200\n",
      "19420/19420 [==============================] - 3s 132us/step - loss: 0.0919 - accuracy: 0.9599 - val_loss: 0.0915 - val_accuracy: 0.9602\n",
      "Epoch 72/200\n",
      "19420/19420 [==============================] - 3s 146us/step - loss: 0.0917 - accuracy: 0.9605 - val_loss: 0.0951 - val_accuracy: 0.9583\n",
      "Epoch 73/200\n",
      "19420/19420 [==============================] - 2s 122us/step - loss: 0.0912 - accuracy: 0.9602 - val_loss: 0.0926 - val_accuracy: 0.9582\n",
      "Epoch 74/200\n",
      "19420/19420 [==============================] - 2s 118us/step - loss: 0.0917 - accuracy: 0.9608 - val_loss: 0.0923 - val_accuracy: 0.9596\n",
      "Epoch 75/200\n",
      "19420/19420 [==============================] - 2s 119us/step - loss: 0.0918 - accuracy: 0.9600 - val_loss: 0.0946 - val_accuracy: 0.9588\n",
      "Epoch 76/200\n",
      "19420/19420 [==============================] - 3s 148us/step - loss: 0.0920 - accuracy: 0.9601 - val_loss: 0.0939 - val_accuracy: 0.9587\n",
      "Epoch 77/200\n",
      "19420/19420 [==============================] - 3s 133us/step - loss: 0.0913 - accuracy: 0.9601 - val_loss: 0.0918 - val_accuracy: 0.9617\n",
      "Epoch 78/200\n",
      "19420/19420 [==============================] - 2s 123us/step - loss: 0.0923 - accuracy: 0.9602 - val_loss: 0.0943 - val_accuracy: 0.9556\n",
      "Epoch 79/200\n",
      "19420/19420 [==============================] - 2s 120us/step - loss: 0.0910 - accuracy: 0.9603 - val_loss: 0.0935 - val_accuracy: 0.9596\n",
      "Epoch 80/200\n",
      "19420/19420 [==============================] - 2s 113us/step - loss: 0.0916 - accuracy: 0.9593 - val_loss: 0.0913 - val_accuracy: 0.9616\n",
      "Epoch 81/200\n",
      "19420/19420 [==============================] - 2s 114us/step - loss: 0.0936 - accuracy: 0.9589 - val_loss: 0.0913 - val_accuracy: 0.9601\n",
      "Epoch 82/200\n",
      "19420/19420 [==============================] - 2s 112us/step - loss: 0.0923 - accuracy: 0.9595 - val_loss: 0.0919 - val_accuracy: 0.9600\n",
      "Epoch 83/200\n",
      "19420/19420 [==============================] - 2s 117us/step - loss: 0.0923 - accuracy: 0.9599 - val_loss: 0.0907 - val_accuracy: 0.9614\n",
      "Epoch 00083: early stopping\n"
     ]
    },
    {
     "data": {
      "text/plain": [
       "<keras.callbacks.callbacks.History at 0x2d2fc315fc8>"
      ]
     },
     "execution_count": 14,
     "metadata": {},
     "output_type": "execute_result"
    }
   ],
   "source": [
    "classifier.fit(X_train, y_train_class, batch_size = 10, epochs = 200, validation_data = (X_test, y_test_class), callbacks=[early_stop] )"
   ]
  },
  {
   "cell_type": "code",
   "execution_count": 15,
   "metadata": {},
   "outputs": [
    {
     "data": {
      "text/plain": [
       "Text(0, 0.5, 'Loss')"
      ]
     },
     "execution_count": 15,
     "metadata": {},
     "output_type": "execute_result"
    },
    {
     "data": {
      "image/png": "[encoded data removed]",
      "text/plain": [
       "<Figure size 432x288 with 1 Axes>"
      ]
     },
     "metadata": {
      "needs_background": "light"
     },
     "output_type": "display_data"
    }
   ],
   "source": [
    "losses= pd.DataFrame(classifier.history.history)\n",
    "losses[['val_loss','loss']].plot()\n",
    "plt.xlabel(\"Epochs\")\n",
    "plt.ylabel(\"Loss\")"
   ]
  },
  {
   "cell_type": "code",
   "execution_count": 16,
   "metadata": {},
   "outputs": [],
   "source": [
    "y_pred = classifier.predict_classes(X_test)"
   ]
  },
  {
   "cell_type": "code",
   "execution_count": 21,
   "metadata": {},
   "outputs": [],
   "source": [
    "y_pred = le.inverse_transform(y_pred)\n",
    "y_test = le.inverse_transform(y_test)"
   ]
  },
  {
   "cell_type": "code",
   "execution_count": 24,
   "metadata": {},
   "outputs": [
    {
     "name": "stdout",
     "output_type": "stream",
     "text": [
      "Accuracy score :  0.9614368092263335\n",
      "                         precision    recall  f1-score   support\n",
      "\n",
      "    DOS Modbus flooding       0.91      0.95      0.93       857\n",
      "           DOS UDP scan       0.92      0.87      0.89       971\n",
      "                   MITM       0.90      0.95      0.93       847\n",
      "   Malware stealth scan       1.00      0.99      0.99      2943\n",
      "                 Normal       1.00      0.93      0.97       962\n",
      "              Ping scan       1.00      1.00      1.00       866\n",
      "UDP port & service scan       0.93      0.99      0.96       878\n",
      "\n",
      "               accuracy                           0.96      8324\n",
      "              macro avg       0.95      0.95      0.95      8324\n",
      "           weighted avg       0.96      0.96      0.96      8324\n",
      "\n",
      "[[ 813   21   16    7    0    0    0]\n",
      " [  81  840    0    3    0    0   47]\n",
      " [   0   40  807    0    0    0    0]\n",
      " [   0   11    6 2910    0    0   16]\n",
      " [   0    0   65    0  897    0    0]\n",
      " [   0    0    0    0    0  866    0]\n",
      " [   0    3    1    4    0    0  870]]\n"
     ]
    }
   ],
   "source": [
    "from sklearn.metrics import classification_report,confusion_matrix,accuracy_score\n",
    "print(\"Accuracy score : \", accuracy_score(y_test,y_pred))\n",
    "print(classification_report(y_test,y_pred))\n",
    "print(confusion_matrix(y_test,y_pred))"
   ]
  },
  {
   "cell_type": "code",
   "execution_count": 25,
   "metadata": {},
   "outputs": [
    {
     "data": {
      "text/plain": [
       "['dnn_sc_enc.joblib']"
      ]
     },
     "execution_count": 25,
     "metadata": {},
     "output_type": "execute_result"
    }
   ],
   "source": [
    "from joblib import dump, load\n",
    "dump(le, 'dnn_le.joblib') \n",
    "dump(enc_bin,'dnn_bin_enc.joblib')\n",
    "dump(sc_enc, 'dnn_sc_enc.joblib')"
   ]
  },
  {
   "cell_type": "code",
   "execution_count": 26,
   "metadata": {},
   "outputs": [],
   "source": [
    "from keras.models import load_model\n",
    "classifier.save(\"dnn_multiclass.h5\")"
   ]
  },
  {
   "cell_type": "code",
   "execution_count": 28,
   "metadata": {},
   "outputs": [],
   "source": [
    "later_model = load_model(\"dnn_multiclass.h5\")"
   ]
  },
  {
   "cell_type": "code",
   "execution_count": 29,
   "metadata": {},
   "outputs": [],
   "source": [
    "pred2 = later_model.predict_classes(X_test)"
   ]
  },
  {
   "cell_type": "code",
   "execution_count": 43,
   "metadata": {},
   "outputs": [
    {
     "data": {
      "text/html": [
       "<div>\n",
       "<style scoped>\n",
       "    .dataframe tbody tr th:only-of-type {\n",
       "        vertical-align: middle;\n",
       "    }\n",
       "\n",
       "    .dataframe tbody tr th {\n",
       "        vertical-align: top;\n",
       "    }\n",
       "\n",
       "    .dataframe thead th {\n",
       "        text-align: right;\n",
       "    }\n",
       "</style>\n",
       "<table border=\"1\" class=\"dataframe\">\n",
       "  <thead>\n",
       "    <tr style=\"text-align: right;\">\n",
       "      <th></th>\n",
       "      <th>val_loss</th>\n",
       "      <th>val_accuracy</th>\n",
       "      <th>loss</th>\n",
       "      <th>accuracy</th>\n",
       "    </tr>\n",
       "  </thead>\n",
       "  <tbody>\n",
       "    <tr>\n",
       "      <th>0</th>\n",
       "      <td>0.180457</td>\n",
       "      <td>0.938852</td>\n",
       "      <td>0.634093</td>\n",
       "      <td>0.734295</td>\n",
       "    </tr>\n",
       "    <tr>\n",
       "      <th>1</th>\n",
       "      <td>0.149967</td>\n",
       "      <td>0.935968</td>\n",
       "      <td>0.159391</td>\n",
       "      <td>0.946859</td>\n",
       "    </tr>\n",
       "    <tr>\n",
       "      <th>2</th>\n",
       "      <td>0.131545</td>\n",
       "      <td>0.952427</td>\n",
       "      <td>0.140279</td>\n",
       "      <td>0.948455</td>\n",
       "    </tr>\n",
       "    <tr>\n",
       "      <th>3</th>\n",
       "      <td>0.136853</td>\n",
       "      <td>0.949543</td>\n",
       "      <td>0.129893</td>\n",
       "      <td>0.950721</td>\n",
       "    </tr>\n",
       "    <tr>\n",
       "      <th>4</th>\n",
       "      <td>0.125991</td>\n",
       "      <td>0.956271</td>\n",
       "      <td>0.125279</td>\n",
       "      <td>0.950515</td>\n",
       "    </tr>\n",
       "  </tbody>\n",
       "</table>\n",
       "</div>"
      ],
      "text/plain": [
       "   val_loss  val_accuracy      loss  accuracy\n",
       "0  0.180457      0.938852  0.634093  0.734295\n",
       "1  0.149967      0.935968  0.159391  0.946859\n",
       "2  0.131545      0.952427  0.140279  0.948455\n",
       "3  0.136853      0.949543  0.129893  0.950721\n",
       "4  0.125991      0.956271  0.125279  0.950515"
      ]
     },
     "execution_count": 43,
     "metadata": {},
     "output_type": "execute_result"
    }
   ],
   "source": [
    "losses.head()"
   ]
  },
  {
   "cell_type": "code",
   "execution_count": 44,
   "metadata": {},
   "outputs": [
    {
     "data": {
      "text/plain": [
       "Text(0, 0.5, 'Accuracy')"
      ]
     },
     "execution_count": 44,
     "metadata": {},
     "output_type": "execute_result"
    },
    {
     "data": {
      "image/png": "[encoded data removed]",
      "text/plain": [
       "<Figure size 432x288 with 1 Axes>"
      ]
     },
     "metadata": {
      "needs_background": "light"
     },
     "output_type": "display_data"
    }
   ],
   "source": [
    "losses[['val_accuracy','accuracy']].plot()\n",
    "plt.xlabel(\"Epochs\")\n",
    "plt.ylabel(\"Accuracy\")"
   ]
  },
  {
   "cell_type": "code",
   "execution_count": null,
   "metadata": {},
   "outputs": [],
   "source": [
    "from sklearn.pipeline import Pipeline\n",
    "pipeline = Pipeline([\n",
    "    (\"binary encode\", dnn_enc_bin),\n",
    "    (\"Standard scale\", dnn_sc_enc),\n",
    "    (\"DNN\", classifier)\n",
    "])"
   ]
  },
  {
   "cell_type": "code",
   "execution_count": null,
   "metadata": {},
   "outputs": [],
   "source": [
    "dump(pipeline, \"DNN_model.joblib\")"
   ]
  }
 ],
 "metadata": {
  "kernelspec": {
   "display_name": "Python 3",
   "language": "python",
   "name": "python3"
  },
  "language_info": {
   "codemirror_mode": {
    "name": "ipython",
    "version": 3
   },
   "file_extension": ".py",
   "mimetype": "text/x-python",
   "name": "python",
   "nbconvert_exporter": "python",
   "pygments_lexer": "ipython3",
   "version": "3.7.5"
  }
 },
 "nbformat": 4,
 "nbformat_minor": 4
}
