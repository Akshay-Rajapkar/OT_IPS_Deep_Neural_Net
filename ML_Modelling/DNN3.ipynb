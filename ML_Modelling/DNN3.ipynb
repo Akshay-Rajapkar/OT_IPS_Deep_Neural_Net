{
 "cells": [
  {
   "cell_type": "code",
   "execution_count": 1,
   "metadata": {},
   "outputs": [],
   "source": [
    "import pandas as pd\n",
    "import category_encoders as ce\n",
    "import matplotlib.pyplot as plt\n",
    "import seaborn as sns\n",
    "%matplotlib inline"
   ]
  },
  {
   "cell_type": "code",
   "execution_count": 2,
   "metadata": {},
   "outputs": [
    {
     "data": {
      "text/html": [
       "<div>\n",
       "<style scoped>\n",
       "    .dataframe tbody tr th:only-of-type {\n",
       "        vertical-align: middle;\n",
       "    }\n",
       "\n",
       "    .dataframe tbody tr th {\n",
       "        vertical-align: top;\n",
       "    }\n",
       "\n",
       "    .dataframe thead th {\n",
       "        text-align: right;\n",
       "    }\n",
       "</style>\n",
       "<table border=\"1\" class=\"dataframe\">\n",
       "  <thead>\n",
       "    <tr style=\"text-align: right;\">\n",
       "      <th></th>\n",
       "      <th>Date &amp; Time</th>\n",
       "      <th>Source IP</th>\n",
       "      <th>Destination IP</th>\n",
       "      <th>Source MAC</th>\n",
       "      <th>Destination MAC</th>\n",
       "      <th>Protocol</th>\n",
       "      <th>Flags</th>\n",
       "      <th>Src Port</th>\n",
       "      <th>Dst Port</th>\n",
       "      <th>Length</th>\n",
       "      <th>Class</th>\n",
       "    </tr>\n",
       "  </thead>\n",
       "  <tbody>\n",
       "    <tr>\n",
       "      <th>0</th>\n",
       "      <td>27-02-2020 11:34</td>\n",
       "      <td>192.168.0.50</td>\n",
       "      <td>192.168.0.20</td>\n",
       "      <td>40:f2:e9:9d:44:6b</td>\n",
       "      <td>00:90:e8:5e:d1:66</td>\n",
       "      <td>TCP</td>\n",
       "      <td>AP</td>\n",
       "      <td>60394</td>\n",
       "      <td>502</td>\n",
       "      <td>64</td>\n",
       "      <td>Normal</td>\n",
       "    </tr>\n",
       "    <tr>\n",
       "      <th>1</th>\n",
       "      <td>27-02-2020 11:34</td>\n",
       "      <td>192.168.0.20</td>\n",
       "      <td>192.168.0.50</td>\n",
       "      <td>00:90:e8:5e:d1:66</td>\n",
       "      <td>40:f2:e9:9d:44:6b</td>\n",
       "      <td>TCP</td>\n",
       "      <td>A</td>\n",
       "      <td>502</td>\n",
       "      <td>60394</td>\n",
       "      <td>40</td>\n",
       "      <td>Normal</td>\n",
       "    </tr>\n",
       "    <tr>\n",
       "      <th>2</th>\n",
       "      <td>27-02-2020 11:34</td>\n",
       "      <td>192.168.0.50</td>\n",
       "      <td>192.168.0.20</td>\n",
       "      <td>40:f2:e9:9d:44:6b</td>\n",
       "      <td>00:90:e8:5e:d1:66</td>\n",
       "      <td>TCP</td>\n",
       "      <td>AP</td>\n",
       "      <td>60394</td>\n",
       "      <td>502</td>\n",
       "      <td>52</td>\n",
       "      <td>Normal</td>\n",
       "    </tr>\n",
       "    <tr>\n",
       "      <th>3</th>\n",
       "      <td>27-02-2020 11:34</td>\n",
       "      <td>192.168.0.21</td>\n",
       "      <td>192.168.0.5</td>\n",
       "      <td>20:47:47:87:d4:96</td>\n",
       "      <td>00:1d:9c:a1:89:a4</td>\n",
       "      <td>TCP</td>\n",
       "      <td>S</td>\n",
       "      <td>59170</td>\n",
       "      <td>20000</td>\n",
       "      <td>48</td>\n",
       "      <td>Normal</td>\n",
       "    </tr>\n",
       "    <tr>\n",
       "      <th>4</th>\n",
       "      <td>27-02-2020 11:34</td>\n",
       "      <td>192.168.0.21</td>\n",
       "      <td>192.168.0.5</td>\n",
       "      <td>20:47:47:87:d4:96</td>\n",
       "      <td>00:1d:9c:a1:89:a4</td>\n",
       "      <td>TCP</td>\n",
       "      <td>A</td>\n",
       "      <td>59170</td>\n",
       "      <td>20000</td>\n",
       "      <td>40</td>\n",
       "      <td>Normal</td>\n",
       "    </tr>\n",
       "  </tbody>\n",
       "</table>\n",
       "</div>"
      ],
      "text/plain": [
       "        Date & Time     Source IP Destination IP         Source MAC  \\\n",
       "0  27-02-2020 11:34  192.168.0.50   192.168.0.20  40:f2:e9:9d:44:6b   \n",
       "1  27-02-2020 11:34  192.168.0.20   192.168.0.50  00:90:e8:5e:d1:66   \n",
       "2  27-02-2020 11:34  192.168.0.50   192.168.0.20  40:f2:e9:9d:44:6b   \n",
       "3  27-02-2020 11:34  192.168.0.21    192.168.0.5  20:47:47:87:d4:96   \n",
       "4  27-02-2020 11:34  192.168.0.21    192.168.0.5  20:47:47:87:d4:96   \n",
       "\n",
       "     Destination MAC Protocol Flags  Src Port  Dst Port  Length   Class  \n",
       "0  00:90:e8:5e:d1:66      TCP    AP     60394       502      64  Normal  \n",
       "1  40:f2:e9:9d:44:6b      TCP     A       502     60394      40  Normal  \n",
       "2  00:90:e8:5e:d1:66      TCP    AP     60394       502      52  Normal  \n",
       "3  00:1d:9c:a1:89:a4      TCP     S     59170     20000      48  Normal  \n",
       "4  00:1d:9c:a1:89:a4      TCP     A     59170     20000      40  Normal  "
      ]
     },
     "execution_count": 2,
     "metadata": {},
     "output_type": "execute_result"
    }
   ],
   "source": [
    "df = pd.read_csv(\"category_dataset.csv\", index_col = False)\n",
    "df.head()"
   ]
  },
  {
   "cell_type": "code",
   "execution_count": 4,
   "metadata": {},
   "outputs": [
    {
     "data": {
      "text/plain": [
       "<matplotlib.axes._subplots.AxesSubplot at 0x268e8a63148>"
      ]
     },
     "execution_count": 4,
     "metadata": {},
     "output_type": "execute_result"
    },
    {
     "data": {
      "image/png": "[encoded data removed]",
      "text/plain": [
       "<Figure size 1800x360 with 1 Axes>"
      ]
     },
     "metadata": {
      "needs_background": "light"
     },
     "output_type": "display_data"
    }
   ],
   "source": [
    "plt.figure(figsize= (25,5))\n",
    "sns.countplot(x=df[\"Class\"], data = df)"
   ]
  },
  {
   "cell_type": "code",
   "execution_count": 3,
   "metadata": {},
   "outputs": [],
   "source": [
    "def change_class(data):\n",
    "    lst = ['TCP port & service discovery','Stealth scan OS & version detection','Malware']\n",
    "    if data in lst:\n",
    "        return \"Malware stealth scan\"\n",
    "    else:\n",
    "        return data"
   ]
  },
  {
   "cell_type": "code",
   "execution_count": 4,
   "metadata": {},
   "outputs": [],
   "source": [
    "df[\"Class\"] = df[\"Class\"].apply(change_class)"
   ]
  },
  {
   "cell_type": "code",
   "execution_count": 5,
   "metadata": {},
   "outputs": [
    {
     "data": {
      "text/plain": [
       "<matplotlib.axes._subplots.AxesSubplot at 0x1af2b5aadc8>"
      ]
     },
     "execution_count": 5,
     "metadata": {},
     "output_type": "execute_result"
    },
    {
     "data": {
      "image/png": "[encoded data removed]",
      "text/plain": [
       "<Figure size 1800x360 with 1 Axes>"
      ]
     },
     "metadata": {
      "needs_background": "light"
     },
     "output_type": "display_data"
    }
   ],
   "source": [
    "plt.figure(figsize= (25,5))\n",
    "sns.countplot(x=df[\"Class\"], data = df)"
   ]
  },
  {
   "cell_type": "code",
   "execution_count": 5,
   "metadata": {},
   "outputs": [],
   "source": [
    "import random\n",
    "random.seed(1)"
   ]
  },
  {
   "cell_type": "code",
   "execution_count": 6,
   "metadata": {},
   "outputs": [],
   "source": [
    "X = df[['Source IP', 'Destination IP', 'Source MAC', 'Destination MAC', 'Protocol', 'Flags', 'Src Port', 'Dst Port',\n",
    "       'Length']].values\n",
    "y_category = df[\"Class\"].values"
   ]
  },
  {
   "cell_type": "code",
   "execution_count": 7,
   "metadata": {},
   "outputs": [],
   "source": [
    "from sklearn.preprocessing import LabelEncoder, OneHotEncoder\n",
    "le = LabelEncoder()\n",
    "y_category = le.fit_transform(y_category)\n",
    "enc = OneHotEncoder()\n",
    "y = enc.fit_transform(y_category.reshape(-1,1)).toarray()"
   ]
  },
  {
   "cell_type": "code",
   "execution_count": 8,
   "metadata": {},
   "outputs": [],
   "source": [
    "ce_bin = ce.BinaryEncoder(return_df=False)\n",
    "enc_bin = ce_bin.fit(X)\n",
    "X = enc_bin.transform(X)"
   ]
  },
  {
   "cell_type": "code",
   "execution_count": 9,
   "metadata": {},
   "outputs": [],
   "source": [
    "from sklearn.model_selection import train_test_split\n",
    "X_train, X_test, y_train, y_test = train_test_split(X, y, test_size=0.3, random_state=42)"
   ]
  },
  {
   "cell_type": "code",
   "execution_count": 10,
   "metadata": {},
   "outputs": [],
   "source": [
    "from sklearn.preprocessing import StandardScaler\n",
    "sc = StandardScaler()\n",
    "sc_enc = sc.fit(X_train)\n",
    "X_train = sc_enc.transform(X_train)\n",
    "X_test = sc_enc.transform(X_test)"
   ]
  },
  {
   "cell_type": "code",
   "execution_count": 11,
   "metadata": {},
   "outputs": [
    {
     "name": "stderr",
     "output_type": "stream",
     "text": [
      "Using TensorFlow backend.\n"
     ]
    }
   ],
   "source": [
    "import keras\n",
    "from keras.models import Sequential\n",
    "from keras.layers import Dense, Dropout\n",
    "from keras.callbacks import EarlyStopping\n",
    "classifier = Sequential()"
   ]
  },
  {
   "cell_type": "code",
   "execution_count": 12,
   "metadata": {},
   "outputs": [
    {
     "name": "stderr",
     "output_type": "stream",
     "text": [
      "D:\\Anaconda\\lib\\site-packages\\ipykernel_launcher.py:1: UserWarning: Update your `Dense` call to the Keras 2 API: `Dense(input_dim=39, activation=\"relu\", units=20, kernel_initializer=\"uniform\")`\n",
      "  \"\"\"Entry point for launching an IPython kernel.\n",
      "D:\\Anaconda\\lib\\site-packages\\ipykernel_launcher.py:2: UserWarning: Update your `Dense` call to the Keras 2 API: `Dense(activation=\"relu\", units=20, kernel_initializer=\"uniform\")`\n",
      "  \n",
      "D:\\Anaconda\\lib\\site-packages\\ipykernel_launcher.py:3: UserWarning: Update your `Dense` call to the Keras 2 API: `Dense(activation=\"relu\", units=20, kernel_initializer=\"uniform\")`\n",
      "  This is separate from the ipykernel package so we can avoid doing imports until\n",
      "D:\\Anaconda\\lib\\site-packages\\ipykernel_launcher.py:4: UserWarning: Update your `Dense` call to the Keras 2 API: `Dense(activation=\"softmax\", units=7, kernel_initializer=\"uniform\")`\n",
      "  after removing the cwd from sys.path.\n"
     ]
    }
   ],
   "source": [
    "classifier.add(Dense(input_dim = 39, output_dim = 20, init= \"uniform\", activation = \"relu\"))\n",
    "classifier.add(Dense(output_dim = 20, init= \"uniform\", activation = \"relu\"))\n",
    "classifier.add(Dense(output_dim = 20, init= \"uniform\", activation = \"relu\"))\n",
    "classifier.add(Dense(output_dim = 7, init= \"uniform\", activation = \"softmax\"))"
   ]
  },
  {
   "cell_type": "code",
   "execution_count": 13,
   "metadata": {},
   "outputs": [],
   "source": [
    "early_stop = EarlyStopping(monitor= 'val_loss', mode='min', verbose=1, patience = 15)\n",
    "classifier.compile(optimizer = \"adam\", loss = \"categorical_crossentropy\", metrics = [\"accuracy\"])"
   ]
  },
  {
   "cell_type": "code",
   "execution_count": 14,
   "metadata": {},
   "outputs": [
    {
     "name": "stdout",
     "output_type": "stream",
     "text": [
      "Train on 19420 samples, validate on 8324 samples\n",
      "Epoch 1/100\n",
      "19420/19420 [==============================] - 3s 137us/step - loss: 0.6851 - accuracy: 0.7072 - val_loss: 0.2351 - val_accuracy: 0.9331\n",
      "Epoch 2/100\n",
      "19420/19420 [==============================] - 3s 136us/step - loss: 0.1761 - accuracy: 0.9415 - val_loss: 0.1421 - val_accuracy: 0.9533\n",
      "Epoch 3/100\n",
      "19420/19420 [==============================] - 3s 170us/step - loss: 0.1393 - accuracy: 0.9506 - val_loss: 0.1336 - val_accuracy: 0.9574\n",
      "Epoch 4/100\n",
      "19420/19420 [==============================] - 3s 175us/step - loss: 0.1303 - accuracy: 0.9534 - val_loss: 0.1216 - val_accuracy: 0.9462\n",
      "Epoch 5/100\n",
      "19420/19420 [==============================] - 3s 170us/step - loss: 0.1242 - accuracy: 0.9546 - val_loss: 0.1235 - val_accuracy: 0.9506\n",
      "Epoch 6/100\n",
      "19420/19420 [==============================] - 3s 170us/step - loss: 0.1206 - accuracy: 0.9540 - val_loss: 0.1201 - val_accuracy: 0.9510\n",
      "Epoch 7/100\n",
      "19420/19420 [==============================] - 3s 168us/step - loss: 0.1181 - accuracy: 0.9547 - val_loss: 0.1123 - val_accuracy: 0.9549\n",
      "Epoch 8/100\n",
      "19420/19420 [==============================] - 3s 175us/step - loss: 0.1145 - accuracy: 0.9554 - val_loss: 0.1132 - val_accuracy: 0.9513\n",
      "Epoch 9/100\n",
      "19420/19420 [==============================] - 3s 176us/step - loss: 0.1140 - accuracy: 0.9557 - val_loss: 0.1063 - val_accuracy: 0.9595\n",
      "Epoch 10/100\n",
      "19420/19420 [==============================] - 3s 175us/step - loss: 0.1122 - accuracy: 0.9563 - val_loss: 0.1173 - val_accuracy: 0.9554\n",
      "Epoch 11/100\n",
      "19420/19420 [==============================] - 3s 151us/step - loss: 0.1115 - accuracy: 0.9564 - val_loss: 0.1060 - val_accuracy: 0.9569\n",
      "Epoch 12/100\n",
      "19420/19420 [==============================] - 2s 128us/step - loss: 0.1109 - accuracy: 0.9543 - val_loss: 0.1137 - val_accuracy: 0.9493\n",
      "Epoch 13/100\n",
      "19420/19420 [==============================] - 2s 121us/step - loss: 0.1100 - accuracy: 0.9552 - val_loss: 0.1069 - val_accuracy: 0.9535\n",
      "Epoch 14/100\n",
      "19420/19420 [==============================] - 2s 118us/step - loss: 0.1076 - accuracy: 0.9561 - val_loss: 0.1078 - val_accuracy: 0.9570\n",
      "Epoch 15/100\n",
      "19420/19420 [==============================] - 2s 119us/step - loss: 0.1063 - accuracy: 0.9550 - val_loss: 0.1043 - val_accuracy: 0.9571\n",
      "Epoch 16/100\n",
      "19420/19420 [==============================] - 3s 133us/step - loss: 0.1077 - accuracy: 0.9553 - val_loss: 0.0989 - val_accuracy: 0.9583\n",
      "Epoch 17/100\n",
      "19420/19420 [==============================] - 2s 115us/step - loss: 0.1055 - accuracy: 0.9567 - val_loss: 0.1032 - val_accuracy: 0.9587\n",
      "Epoch 18/100\n",
      "19420/19420 [==============================] - 2s 121us/step - loss: 0.1043 - accuracy: 0.9565 - val_loss: 0.0979 - val_accuracy: 0.9570\n",
      "Epoch 19/100\n",
      "19420/19420 [==============================] - 2s 116us/step - loss: 0.1039 - accuracy: 0.9571 - val_loss: 0.1057 - val_accuracy: 0.9545\n",
      "Epoch 20/100\n",
      "19420/19420 [==============================] - 3s 139us/step - loss: 0.1040 - accuracy: 0.9564 - val_loss: 0.0968 - val_accuracy: 0.9604\n",
      "Epoch 21/100\n",
      "19420/19420 [==============================] - 3s 174us/step - loss: 0.1040 - accuracy: 0.9562 - val_loss: 0.0983 - val_accuracy: 0.9584\n",
      "Epoch 22/100\n",
      "19420/19420 [==============================] - 4s 182us/step - loss: 0.1022 - accuracy: 0.9563 - val_loss: 0.0984 - val_accuracy: 0.9575\n",
      "Epoch 23/100\n",
      "19420/19420 [==============================] - 4s 186us/step - loss: 0.1019 - accuracy: 0.9567 - val_loss: 0.1001 - val_accuracy: 0.9530\n",
      "Epoch 24/100\n",
      "19420/19420 [==============================] - 3s 168us/step - loss: 0.1037 - accuracy: 0.9557 - val_loss: 0.0960 - val_accuracy: 0.9571\n",
      "Epoch 25/100\n",
      "19420/19420 [==============================] - 3s 146us/step - loss: 0.1013 - accuracy: 0.9566 - val_loss: 0.1042 - val_accuracy: 0.9593\n",
      "Epoch 26/100\n",
      "19420/19420 [==============================] - 3s 159us/step - loss: 0.1014 - accuracy: 0.9568 - val_loss: 0.0993 - val_accuracy: 0.9574\n",
      "Epoch 27/100\n",
      "19420/19420 [==============================] - 3s 156us/step - loss: 0.1001 - accuracy: 0.9579 - val_loss: 0.0978 - val_accuracy: 0.9539\n",
      "Epoch 28/100\n",
      "19420/19420 [==============================] - 3s 133us/step - loss: 0.1000 - accuracy: 0.9564 - val_loss: 0.0987 - val_accuracy: 0.9559\n",
      "Epoch 29/100\n",
      "19420/19420 [==============================] - 2s 124us/step - loss: 0.0993 - accuracy: 0.9565 - val_loss: 0.0970 - val_accuracy: 0.9581\n",
      "Epoch 30/100\n",
      "19420/19420 [==============================] - 2s 124us/step - loss: 0.0993 - accuracy: 0.9562 - val_loss: 0.0961 - val_accuracy: 0.9598\n",
      "Epoch 31/100\n",
      "19420/19420 [==============================] - 2s 125us/step - loss: 0.0983 - accuracy: 0.9567 - val_loss: 0.0985 - val_accuracy: 0.9581\n",
      "Epoch 32/100\n",
      "19420/19420 [==============================] - 2s 128us/step - loss: 0.0982 - accuracy: 0.9579 - val_loss: 0.0951 - val_accuracy: 0.9581\n",
      "Epoch 33/100\n",
      "19420/19420 [==============================] - 3s 129us/step - loss: 0.0986 - accuracy: 0.9575 - val_loss: 0.0953 - val_accuracy: 0.9586\n",
      "Epoch 34/100\n",
      "19420/19420 [==============================] - 2s 125us/step - loss: 0.0964 - accuracy: 0.9584 - val_loss: 0.0952 - val_accuracy: 0.9586\n",
      "Epoch 35/100\n",
      "19420/19420 [==============================] - 2s 125us/step - loss: 0.0971 - accuracy: 0.9577 - val_loss: 0.0941 - val_accuracy: 0.9604\n",
      "Epoch 36/100\n",
      "19420/19420 [==============================] - 3s 132us/step - loss: 0.0963 - accuracy: 0.9588 - val_loss: 0.0968 - val_accuracy: 0.9587\n",
      "Epoch 37/100\n",
      "19420/19420 [==============================] - 3s 132us/step - loss: 0.0969 - accuracy: 0.9580 - val_loss: 0.0947 - val_accuracy: 0.9563\n",
      "Epoch 38/100\n",
      "19420/19420 [==============================] - 3s 149us/step - loss: 0.0977 - accuracy: 0.9567 - val_loss: 0.0935 - val_accuracy: 0.9578\n",
      "Epoch 39/100\n",
      "19420/19420 [==============================] - 3s 143us/step - loss: 0.0959 - accuracy: 0.9580 - val_loss: 0.0923 - val_accuracy: 0.9605\n",
      "Epoch 40/100\n",
      "19420/19420 [==============================] - 3s 166us/step - loss: 0.0959 - accuracy: 0.9593 - val_loss: 0.0933 - val_accuracy: 0.9581\n",
      "Epoch 41/100\n",
      "19420/19420 [==============================] - 3s 131us/step - loss: 0.0951 - accuracy: 0.9594 - val_loss: 0.0950 - val_accuracy: 0.9558\n",
      "Epoch 42/100\n",
      "19420/19420 [==============================] - 3s 141us/step - loss: 0.0956 - accuracy: 0.9575 - val_loss: 0.0954 - val_accuracy: 0.9572\n",
      "Epoch 43/100\n",
      "19420/19420 [==============================] - 2s 122us/step - loss: 0.0947 - accuracy: 0.9574 - val_loss: 0.0940 - val_accuracy: 0.9598\n",
      "Epoch 44/100\n",
      "19420/19420 [==============================] - 3s 132us/step - loss: 0.0951 - accuracy: 0.9590 - val_loss: 0.1856 - val_accuracy: 0.9536\n",
      "Epoch 45/100\n",
      "19420/19420 [==============================] - 3s 141us/step - loss: 0.0975 - accuracy: 0.9580 - val_loss: 0.0930 - val_accuracy: 0.9580\n",
      "Epoch 46/100\n",
      "19420/19420 [==============================] - 3s 137us/step - loss: 0.0945 - accuracy: 0.9591 - val_loss: 0.0928 - val_accuracy: 0.9582\n",
      "Epoch 47/100\n",
      "19420/19420 [==============================] - 3s 141us/step - loss: 0.0951 - accuracy: 0.9591 - val_loss: 0.0934 - val_accuracy: 0.9570\n",
      "Epoch 48/100\n",
      "19420/19420 [==============================] - 3s 139us/step - loss: 0.0949 - accuracy: 0.9583 - val_loss: 0.0910 - val_accuracy: 0.9622\n",
      "Epoch 49/100\n",
      "19420/19420 [==============================] - 3s 141us/step - loss: 0.0934 - accuracy: 0.9585 - val_loss: 0.0931 - val_accuracy: 0.9575\n",
      "Epoch 50/100\n",
      "19420/19420 [==============================] - 3s 143us/step - loss: 0.0940 - accuracy: 0.9588 - val_loss: 0.1004 - val_accuracy: 0.9599\n",
      "Epoch 51/100\n",
      "19420/19420 [==============================] - 4s 193us/step - loss: 0.0943 - accuracy: 0.9597 - val_loss: 0.0913 - val_accuracy: 0.9594\n",
      "Epoch 52/100\n",
      "19420/19420 [==============================] - 4s 180us/step - loss: 0.0933 - accuracy: 0.9595 - val_loss: 0.0941 - val_accuracy: 0.9586\n",
      "Epoch 53/100\n",
      "19420/19420 [==============================] - 3s 166us/step - loss: 0.0943 - accuracy: 0.9597 - val_loss: 0.0908 - val_accuracy: 0.9614\n",
      "Epoch 54/100\n",
      "19420/19420 [==============================] - 4s 183us/step - loss: 0.0931 - accuracy: 0.9603 - val_loss: 0.1017 - val_accuracy: 0.9536\n",
      "Epoch 55/100\n"
     ]
    },
    {
     "name": "stdout",
     "output_type": "stream",
     "text": [
      "19420/19420 [==============================] - 3s 166us/step - loss: 0.0927 - accuracy: 0.9601 - val_loss: 0.0917 - val_accuracy: 0.9596\n",
      "Epoch 56/100\n",
      "19420/19420 [==============================] - 3s 147us/step - loss: 0.0930 - accuracy: 0.9593 - val_loss: 0.0912 - val_accuracy: 0.9602\n",
      "Epoch 57/100\n",
      "19420/19420 [==============================] - 3s 166us/step - loss: 0.0920 - accuracy: 0.9605 - val_loss: 0.0939 - val_accuracy: 0.9568\n",
      "Epoch 58/100\n",
      "19420/19420 [==============================] - 4s 206us/step - loss: 0.0930 - accuracy: 0.9606 - val_loss: 0.0933 - val_accuracy: 0.9601\n",
      "Epoch 59/100\n",
      "19420/19420 [==============================] - 4s 196us/step - loss: 0.0928 - accuracy: 0.9600 - val_loss: 0.0925 - val_accuracy: 0.9586\n",
      "Epoch 60/100\n",
      "19420/19420 [==============================] - 4s 185us/step - loss: 0.0959 - accuracy: 0.9597 - val_loss: 0.0938 - val_accuracy: 0.9589\n",
      "Epoch 61/100\n",
      "19420/19420 [==============================] - 3s 175us/step - loss: 0.0918 - accuracy: 0.9599 - val_loss: 0.0898 - val_accuracy: 0.9612\n",
      "Epoch 62/100\n",
      "19420/19420 [==============================] - 3s 174us/step - loss: 0.0920 - accuracy: 0.9600 - val_loss: 0.0921 - val_accuracy: 0.9650\n",
      "Epoch 63/100\n",
      "19420/19420 [==============================] - 3s 152us/step - loss: 0.0923 - accuracy: 0.9591 - val_loss: 0.0939 - val_accuracy: 0.9545\n",
      "Epoch 64/100\n",
      "19420/19420 [==============================] - 3s 144us/step - loss: 0.0931 - accuracy: 0.9600 - val_loss: 0.0969 - val_accuracy: 0.9581\n",
      "Epoch 65/100\n",
      "19420/19420 [==============================] - 3s 165us/step - loss: 0.0917 - accuracy: 0.9595 - val_loss: 0.0934 - val_accuracy: 0.9614\n",
      "Epoch 66/100\n",
      "19420/19420 [==============================] - 3s 155us/step - loss: 0.0914 - accuracy: 0.9601 - val_loss: 0.0965 - val_accuracy: 0.9552\n",
      "Epoch 67/100\n",
      "19420/19420 [==============================] - 3s 159us/step - loss: 0.0921 - accuracy: 0.9601 - val_loss: 0.0942 - val_accuracy: 0.9608\n",
      "Epoch 68/100\n",
      "19420/19420 [==============================] - 3s 159us/step - loss: 0.0913 - accuracy: 0.9600 - val_loss: 0.0909 - val_accuracy: 0.9578\n",
      "Epoch 69/100\n",
      "19420/19420 [==============================] - 3s 157us/step - loss: 0.0912 - accuracy: 0.9597 - val_loss: 0.0897 - val_accuracy: 0.9583\n",
      "Epoch 70/100\n",
      "19420/19420 [==============================] - 3s 178us/step - loss: 0.0927 - accuracy: 0.9593 - val_loss: 0.0921 - val_accuracy: 0.9594\n",
      "Epoch 71/100\n",
      "19420/19420 [==============================] - 3s 150us/step - loss: 0.0912 - accuracy: 0.9600 - val_loss: 0.0898 - val_accuracy: 0.9602\n",
      "Epoch 72/100\n",
      "19420/19420 [==============================] - 3s 151us/step - loss: 0.0906 - accuracy: 0.9606 - val_loss: 0.0957 - val_accuracy: 0.9589\n",
      "Epoch 73/100\n",
      "19420/19420 [==============================] - 3s 161us/step - loss: 0.0917 - accuracy: 0.9598 - val_loss: 0.0944 - val_accuracy: 0.9553\n",
      "Epoch 74/100\n",
      "19420/19420 [==============================] - 3s 132us/step - loss: 0.0909 - accuracy: 0.9607 - val_loss: 0.0897 - val_accuracy: 0.9586\n",
      "Epoch 75/100\n",
      "19420/19420 [==============================] - 3s 163us/step - loss: 0.0909 - accuracy: 0.9610 - val_loss: 0.0915 - val_accuracy: 0.9598\n",
      "Epoch 76/100\n",
      "19420/19420 [==============================] - 3s 164us/step - loss: 0.0911 - accuracy: 0.9606 - val_loss: 0.0917 - val_accuracy: 0.9592\n",
      "Epoch 77/100\n",
      "19420/19420 [==============================] - 3s 174us/step - loss: 0.0918 - accuracy: 0.9604 - val_loss: 0.0899 - val_accuracy: 0.9586\n",
      "Epoch 78/100\n",
      "19420/19420 [==============================] - 3s 173us/step - loss: 0.0909 - accuracy: 0.9604 - val_loss: 0.0894 - val_accuracy: 0.9586\n",
      "Epoch 79/100\n",
      "19420/19420 [==============================] - 3s 168us/step - loss: 0.0908 - accuracy: 0.9597 - val_loss: 0.0888 - val_accuracy: 0.9601\n",
      "Epoch 80/100\n",
      "19420/19420 [==============================] - 3s 164us/step - loss: 0.0902 - accuracy: 0.9605 - val_loss: 0.1058 - val_accuracy: 0.9596\n",
      "Epoch 81/100\n",
      "19420/19420 [==============================] - 3s 169us/step - loss: 0.0908 - accuracy: 0.9607 - val_loss: 0.0908 - val_accuracy: 0.9602\n",
      "Epoch 82/100\n",
      "19420/19420 [==============================] - 3s 168us/step - loss: 0.0903 - accuracy: 0.9606 - val_loss: 0.0910 - val_accuracy: 0.9616\n",
      "Epoch 83/100\n",
      "19420/19420 [==============================] - 3s 155us/step - loss: 0.0909 - accuracy: 0.9601 - val_loss: 0.0927 - val_accuracy: 0.9602\n",
      "Epoch 84/100\n",
      "19420/19420 [==============================] - 3s 158us/step - loss: 0.0909 - accuracy: 0.9602 - val_loss: 0.0923 - val_accuracy: 0.9589\n",
      "Epoch 85/100\n",
      "19420/19420 [==============================] - 3s 168us/step - loss: 0.0910 - accuracy: 0.9599 - val_loss: 0.0898 - val_accuracy: 0.9604\n",
      "Epoch 86/100\n",
      "19420/19420 [==============================] - 3s 162us/step - loss: 0.0915 - accuracy: 0.9600 - val_loss: 0.1387 - val_accuracy: 0.9572\n",
      "Epoch 87/100\n",
      "19420/19420 [==============================] - 3s 155us/step - loss: 0.0902 - accuracy: 0.9604 - val_loss: 0.0888 - val_accuracy: 0.9614\n",
      "Epoch 88/100\n",
      "19420/19420 [==============================] - 3s 157us/step - loss: 0.0939 - accuracy: 0.9602 - val_loss: 0.0912 - val_accuracy: 0.9589\n",
      "Epoch 89/100\n",
      "19420/19420 [==============================] - 3s 180us/step - loss: 0.0897 - accuracy: 0.9604 - val_loss: 0.0901 - val_accuracy: 0.9586\n",
      "Epoch 90/100\n",
      "19420/19420 [==============================] - 4s 185us/step - loss: 0.0897 - accuracy: 0.9599 - val_loss: 0.0925 - val_accuracy: 0.9616\n",
      "Epoch 91/100\n",
      "19420/19420 [==============================] - 3s 156us/step - loss: 0.0929 - accuracy: 0.9601 - val_loss: 0.0937 - val_accuracy: 0.9586\n",
      "Epoch 92/100\n",
      "19420/19420 [==============================] - 2s 128us/step - loss: 0.0901 - accuracy: 0.9603 - val_loss: 0.0930 - val_accuracy: 0.9568\n",
      "Epoch 93/100\n",
      "19420/19420 [==============================] - 2s 128us/step - loss: 0.0900 - accuracy: 0.9599 - val_loss: 0.0990 - val_accuracy: 0.9604\n",
      "Epoch 94/100\n",
      "19420/19420 [==============================] - 3s 131us/step - loss: 0.0925 - accuracy: 0.9604 - val_loss: 0.0904 - val_accuracy: 0.9604\n",
      "Epoch 95/100\n",
      "19420/19420 [==============================] - 3s 134us/step - loss: 0.0902 - accuracy: 0.9604 - val_loss: 0.0958 - val_accuracy: 0.9559\n",
      "Epoch 96/100\n",
      "19420/19420 [==============================] - 3s 156us/step - loss: 0.0904 - accuracy: 0.9601 - val_loss: 0.0897 - val_accuracy: 0.9601\n",
      "Epoch 97/100\n",
      "19420/19420 [==============================] - 4s 195us/step - loss: 0.0924 - accuracy: 0.9602 - val_loss: 0.0883 - val_accuracy: 0.9612\n",
      "Epoch 98/100\n",
      "19420/19420 [==============================] - 3s 156us/step - loss: 0.0903 - accuracy: 0.9603 - val_loss: 0.0897 - val_accuracy: 0.9614\n",
      "Epoch 99/100\n",
      "19420/19420 [==============================] - 3s 177us/step - loss: 0.0902 - accuracy: 0.9600 - val_loss: 0.0923 - val_accuracy: 0.9586\n",
      "Epoch 100/100\n",
      "19420/19420 [==============================] - 3s 132us/step - loss: 0.0890 - accuracy: 0.9606 - val_loss: 0.0930 - val_accuracy: 0.9586\n"
     ]
    },
    {
     "data": {
      "text/plain": [
       "<keras.callbacks.callbacks.History at 0x22ad1b6ae88>"
      ]
     },
     "execution_count": 14,
     "metadata": {},
     "output_type": "execute_result"
    }
   ],
   "source": [
    "classifier.fit(X_train, y_train, batch_size = 10, epochs = 100, validation_data = (X_test, y_test), callbacks=[early_stop] )"
   ]
  },
  {
   "cell_type": "code",
   "execution_count": 16,
   "metadata": {},
   "outputs": [
    {
     "data": {
      "text/plain": [
       "Text(0, 0.5, 'Loss')"
      ]
     },
     "execution_count": 16,
     "metadata": {},
     "output_type": "execute_result"
    },
    {
     "data": {
      "image/png": "[encoded data removed]",
      "text/plain": [
       "<Figure size 432x288 with 1 Axes>"
      ]
     },
     "metadata": {
      "needs_background": "light"
     },
     "output_type": "display_data"
    }
   ],
   "source": [
    "losses= pd.DataFrame(classifier.history.history)\n",
    "losses[['val_loss','loss']].plot()\n",
    "plt.xlabel(\"Epochs\")\n",
    "plt.ylabel(\"Loss\")"
   ]
  },
  {
   "cell_type": "code",
   "execution_count": 17,
   "metadata": {},
   "outputs": [],
   "source": [
    "from keras.models import load_model"
   ]
  },
  {
   "cell_type": "code",
   "execution_count": 21,
   "metadata": {},
   "outputs": [],
   "source": [
    "classifier.save(\"dnn_multiclass.h5\")"
   ]
  },
  {
   "cell_type": "code",
   "execution_count": 24,
   "metadata": {},
   "outputs": [],
   "source": [
    "predict = classifier.predict_classes(X_test)"
   ]
  },
  {
   "cell_type": "code",
   "execution_count": 25,
   "metadata": {},
   "outputs": [
    {
     "data": {
      "text/plain": [
       "array([5, 5, 4, ..., 3, 1, 3], dtype=int64)"
      ]
     },
     "execution_count": 25,
     "metadata": {},
     "output_type": "execute_result"
    }
   ],
   "source": [
    "predict"
   ]
  },
  {
   "cell_type": "code",
   "execution_count": 26,
   "metadata": {},
   "outputs": [
    {
     "data": {
      "text/plain": [
       "array([[0., 0., 0., ..., 0., 1., 0.],\n",
       "       [0., 0., 0., ..., 0., 1., 0.],\n",
       "       [0., 0., 0., ..., 1., 0., 0.],\n",
       "       ...,\n",
       "       [0., 0., 0., ..., 0., 0., 0.],\n",
       "       [1., 0., 0., ..., 0., 0., 0.],\n",
       "       [0., 0., 0., ..., 0., 0., 0.]])"
      ]
     },
     "execution_count": 26,
     "metadata": {},
     "output_type": "execute_result"
    }
   ],
   "source": [
    "y_test"
   ]
  },
  {
   "cell_type": "code",
   "execution_count": 22,
   "metadata": {},
   "outputs": [
    {
     "name": "stdout",
     "output_type": "stream",
     "text": [
      "Train on 19420 samples, validate on 8324 samples\n",
      "Epoch 1/100\n",
      "19420/19420 [==============================] - 3s 132us/step - loss: 0.0916 - accuracy: 0.9590 - val_loss: 0.0929 - val_accuracy: 0.9602\n",
      "Epoch 2/100\n",
      "19420/19420 [==============================] - 3s 131us/step - loss: 0.0906 - accuracy: 0.9609 - val_loss: 0.0896 - val_accuracy: 0.9616\n",
      "Epoch 3/100\n",
      "19420/19420 [==============================] - 2s 129us/step - loss: 0.0894 - accuracy: 0.9592 - val_loss: 0.0924 - val_accuracy: 0.9589\n",
      "Epoch 4/100\n",
      "19420/19420 [==============================] - 3s 137us/step - loss: 0.0896 - accuracy: 0.9609 - val_loss: 0.0888 - val_accuracy: 0.9580\n",
      "Epoch 5/100\n",
      "19420/19420 [==============================] - 3s 145us/step - loss: 0.0901 - accuracy: 0.9603 - val_loss: 0.0891 - val_accuracy: 0.9599\n",
      "Epoch 6/100\n",
      "19420/19420 [==============================] - 3s 141us/step - loss: 0.0899 - accuracy: 0.9596 - val_loss: 0.0902 - val_accuracy: 0.9583\n",
      "Epoch 7/100\n",
      "19420/19420 [==============================] - 3s 137us/step - loss: 0.0889 - accuracy: 0.9603 - val_loss: 0.0910 - val_accuracy: 0.9604\n",
      "Epoch 8/100\n",
      "19420/19420 [==============================] - 2s 127us/step - loss: 0.0895 - accuracy: 0.9596 - val_loss: 0.0901 - val_accuracy: 0.9605\n",
      "Epoch 9/100\n",
      "19420/19420 [==============================] - 3s 129us/step - loss: 0.0888 - accuracy: 0.9606 - val_loss: 0.0888 - val_accuracy: 0.9599\n",
      "Epoch 10/100\n",
      "19420/19420 [==============================] - 2s 125us/step - loss: 0.0898 - accuracy: 0.9607 - val_loss: 0.0921 - val_accuracy: 0.9612\n",
      "Epoch 11/100\n",
      "19420/19420 [==============================] - 2s 120us/step - loss: 0.0885 - accuracy: 0.9606 - val_loss: 0.0905 - val_accuracy: 0.9586\n",
      "Epoch 12/100\n",
      "19420/19420 [==============================] - 2s 115us/step - loss: 0.0894 - accuracy: 0.9607 - val_loss: 0.0873 - val_accuracy: 0.9606\n",
      "Epoch 13/100\n",
      "19420/19420 [==============================] - 2s 118us/step - loss: 0.0889 - accuracy: 0.9608 - val_loss: 0.0871 - val_accuracy: 0.9592\n",
      "Epoch 14/100\n",
      "19420/19420 [==============================] - 2s 117us/step - loss: 0.0889 - accuracy: 0.9605 - val_loss: 0.0907 - val_accuracy: 0.9583\n",
      "Epoch 15/100\n",
      "19420/19420 [==============================] - 2s 117us/step - loss: 0.0881 - accuracy: 0.9601 - val_loss: 0.0948 - val_accuracy: 0.9584\n",
      "Epoch 16/100\n",
      "19420/19420 [==============================] - 2s 115us/step - loss: 0.0898 - accuracy: 0.9608 - val_loss: 0.0891 - val_accuracy: 0.9614\n",
      "Epoch 17/100\n",
      "19420/19420 [==============================] - 2s 118us/step - loss: 0.0899 - accuracy: 0.9600 - val_loss: 0.0893 - val_accuracy: 0.9602\n",
      "Epoch 18/100\n",
      "19420/19420 [==============================] - 2s 119us/step - loss: 0.0898 - accuracy: 0.9597 - val_loss: 0.0887 - val_accuracy: 0.9600\n",
      "Epoch 19/100\n",
      "19420/19420 [==============================] - 2s 118us/step - loss: 0.0888 - accuracy: 0.9583 - val_loss: 0.0913 - val_accuracy: 0.9598\n",
      "Epoch 20/100\n",
      "19420/19420 [==============================] - 2s 122us/step - loss: 0.0891 - accuracy: 0.9597 - val_loss: 0.0941 - val_accuracy: 0.9556\n",
      "Epoch 21/100\n",
      "19420/19420 [==============================] - 2s 126us/step - loss: 0.0899 - accuracy: 0.9598 - val_loss: 0.0888 - val_accuracy: 0.9602\n",
      "Epoch 22/100\n",
      "19420/19420 [==============================] - 2s 121us/step - loss: 0.0887 - accuracy: 0.9608 - val_loss: 0.0915 - val_accuracy: 0.9614\n",
      "Epoch 23/100\n",
      "19420/19420 [==============================] - 3s 130us/step - loss: 0.0902 - accuracy: 0.9592 - val_loss: 0.0884 - val_accuracy: 0.9595\n",
      "Epoch 24/100\n",
      "19420/19420 [==============================] - 2s 125us/step - loss: 0.0889 - accuracy: 0.9601 - val_loss: 0.0895 - val_accuracy: 0.9616\n",
      "Epoch 25/100\n",
      "19420/19420 [==============================] - 3s 130us/step - loss: 0.0889 - accuracy: 0.9608 - val_loss: 0.0889 - val_accuracy: 0.9584\n",
      "Epoch 26/100\n",
      "19420/19420 [==============================] - 2s 120us/step - loss: 0.0882 - accuracy: 0.9598 - val_loss: 0.0897 - val_accuracy: 0.9584\n",
      "Epoch 27/100\n",
      "19420/19420 [==============================] - 3s 130us/step - loss: 0.0880 - accuracy: 0.9610 - val_loss: 0.0906 - val_accuracy: 0.9588\n",
      "Epoch 28/100\n",
      "19420/19420 [==============================] - 2s 125us/step - loss: 0.0883 - accuracy: 0.9603 - val_loss: 0.0984 - val_accuracy: 0.9582\n",
      "Epoch 00028: early stopping\n"
     ]
    },
    {
     "data": {
      "text/plain": [
       "<keras.callbacks.callbacks.History at 0x268f36e2748>"
      ]
     },
     "execution_count": 22,
     "metadata": {},
     "output_type": "execute_result"
    }
   ],
   "source": [
    "classifier.fit(X_train, y_train, batch_size = 10, epochs = 100, validation_data = (X_test, y_test), callbacks=[early_stop] )"
   ]
  },
  {
   "cell_type": "code",
   "execution_count": 23,
   "metadata": {},
   "outputs": [
    {
     "name": "stderr",
     "output_type": "stream",
     "text": [
      "D:\\Anaconda\\lib\\site-packages\\ipykernel_launcher.py:1: UserWarning: Update your `Dense` call to the Keras 2 API: `Dense(input_dim=39, activation=\"relu\", units=20, kernel_initializer=\"uniform\")`\n",
      "  \"\"\"Entry point for launching an IPython kernel.\n",
      "D:\\Anaconda\\lib\\site-packages\\ipykernel_launcher.py:3: UserWarning: Update your `Dense` call to the Keras 2 API: `Dense(activation=\"relu\", units=20, kernel_initializer=\"uniform\")`\n",
      "  This is separate from the ipykernel package so we can avoid doing imports until\n",
      "D:\\Anaconda\\lib\\site-packages\\ipykernel_launcher.py:5: UserWarning: Update your `Dense` call to the Keras 2 API: `Dense(activation=\"relu\", units=20, kernel_initializer=\"uniform\")`\n",
      "  \"\"\"\n",
      "D:\\Anaconda\\lib\\site-packages\\ipykernel_launcher.py:7: UserWarning: Update your `Dense` call to the Keras 2 API: `Dense(activation=\"softmax\", units=7, kernel_initializer=\"uniform\")`\n",
      "  import sys\n"
     ]
    }
   ],
   "source": [
    "classifier.add(Dense(input_dim = 39, output_dim = 20, init= \"uniform\", activation = \"relu\"))\n",
    "classifier.add(Dropout(0.2))\n",
    "classifier.add(Dense(output_dim = 20, init= \"uniform\", activation = \"relu\"))\n",
    "classifier.add(Dropout(0.2))\n",
    "classifier.add(Dense(output_dim = 20, init= \"uniform\", activation = \"relu\"))\n",
    "classifier.add(Dropout(0.2))\n",
    "classifier.add(Dense(output_dim = 7, init= \"uniform\", activation = \"softmax\"))"
   ]
  },
  {
   "cell_type": "code",
   "execution_count": 24,
   "metadata": {},
   "outputs": [],
   "source": [
    "early_stop = EarlyStopping(monitor= 'val_loss', mode='min', verbose=1, patience = 25)\n",
    "classifier.compile(optimizer = \"adam\", loss = \"categorical_crossentropy\", metrics = [\"accuracy\"])"
   ]
  },
  {
   "cell_type": "code",
   "execution_count": 25,
   "metadata": {},
   "outputs": [
    {
     "name": "stdout",
     "output_type": "stream",
     "text": [
      "Train on 19420 samples, validate on 8324 samples\n",
      "Epoch 1/200\n",
      "19420/19420 [==============================] - 4s 202us/step - loss: 0.6656 - accuracy: 0.7628 - val_loss: 0.2033 - val_accuracy: 0.9600\n",
      "Epoch 2/200\n",
      "19420/19420 [==============================] - 4s 189us/step - loss: 0.2690 - accuracy: 0.9313 - val_loss: 0.1449 - val_accuracy: 0.9587\n",
      "Epoch 3/200\n",
      "19420/19420 [==============================] - 4s 190us/step - loss: 0.2323 - accuracy: 0.9433 - val_loss: 0.1408 - val_accuracy: 0.9580\n",
      "Epoch 4/200\n",
      "19420/19420 [==============================] - 4s 190us/step - loss: 0.1890 - accuracy: 0.9462 - val_loss: 0.1302 - val_accuracy: 0.9596\n",
      "Epoch 5/200\n",
      "19420/19420 [==============================] - 4s 199us/step - loss: 0.1728 - accuracy: 0.9485 - val_loss: 0.1273 - val_accuracy: 0.9600\n",
      "Epoch 6/200\n",
      "19420/19420 [==============================] - 4s 181us/step - loss: 0.1625 - accuracy: 0.9501 - val_loss: 0.1303 - val_accuracy: 0.9576\n",
      "Epoch 7/200\n",
      "19420/19420 [==============================] - 4s 186us/step - loss: 0.1579 - accuracy: 0.9496 - val_loss: 0.1309 - val_accuracy: 0.9576\n",
      "Epoch 8/200\n",
      "19420/19420 [==============================] - 4s 189us/step - loss: 0.1500 - accuracy: 0.9511 - val_loss: 0.1867 - val_accuracy: 0.9576\n",
      "Epoch 9/200\n",
      "19420/19420 [==============================] - 4s 207us/step - loss: 0.1711 - accuracy: 0.9533 - val_loss: 0.1213 - val_accuracy: 0.9584\n",
      "Epoch 10/200\n",
      "19420/19420 [==============================] - 4s 198us/step - loss: 0.1509 - accuracy: 0.9492 - val_loss: 0.1196 - val_accuracy: 0.9545\n",
      "Epoch 11/200\n",
      "19420/19420 [==============================] - 4s 190us/step - loss: 0.1484 - accuracy: 0.9500 - val_loss: 0.1178 - val_accuracy: 0.9577\n",
      "Epoch 12/200\n",
      "19420/19420 [==============================] - 4s 184us/step - loss: 0.1395 - accuracy: 0.9508 - val_loss: 0.1346 - val_accuracy: 0.9569\n",
      "Epoch 13/200\n",
      "19420/19420 [==============================] - 4s 184us/step - loss: 0.1462 - accuracy: 0.9525 - val_loss: 0.1205 - val_accuracy: 0.9581\n",
      "Epoch 14/200\n",
      "19420/19420 [==============================] - 4s 181us/step - loss: 0.1538 - accuracy: 0.9515 - val_loss: 0.1335 - val_accuracy: 0.9557\n",
      "Epoch 15/200\n",
      "19420/19420 [==============================] - 3s 175us/step - loss: 0.1756 - accuracy: 0.9498 - val_loss: 0.1170 - val_accuracy: 0.9578\n",
      "Epoch 16/200\n",
      "19420/19420 [==============================] - 4s 183us/step - loss: 0.1355 - accuracy: 0.9529 - val_loss: 0.1175 - val_accuracy: 0.9581\n",
      "Epoch 17/200\n",
      "19420/19420 [==============================] - 4s 192us/step - loss: 0.1336 - accuracy: 0.9515 - val_loss: 0.1168 - val_accuracy: 0.9576\n",
      "Epoch 18/200\n",
      "19420/19420 [==============================] - 4s 186us/step - loss: 0.1372 - accuracy: 0.9520 - val_loss: 0.1286 - val_accuracy: 0.9569\n",
      "Epoch 19/200\n",
      "19420/19420 [==============================] - 3s 175us/step - loss: 0.1673 - accuracy: 0.9522 - val_loss: 0.1154 - val_accuracy: 0.9576\n",
      "Epoch 20/200\n",
      "19420/19420 [==============================] - 3s 179us/step - loss: 0.1286 - accuracy: 0.9514 - val_loss: 0.1170 - val_accuracy: 0.9578\n",
      "Epoch 21/200\n",
      "19420/19420 [==============================] - 3s 179us/step - loss: 0.1344 - accuracy: 0.9533 - val_loss: 0.1248 - val_accuracy: 0.9563\n",
      "Epoch 22/200\n",
      "19420/19420 [==============================] - 3s 176us/step - loss: 0.1322 - accuracy: 0.9524 - val_loss: 0.1227 - val_accuracy: 0.9577\n",
      "Epoch 23/200\n",
      "19420/19420 [==============================] - 3s 175us/step - loss: 0.1278 - accuracy: 0.9530 - val_loss: 0.1159 - val_accuracy: 0.9580\n",
      "Epoch 24/200\n",
      "19420/19420 [==============================] - 3s 167us/step - loss: 0.1283 - accuracy: 0.9532 - val_loss: 0.1311 - val_accuracy: 0.9576\n",
      "Epoch 25/200\n",
      "19420/19420 [==============================] - 3s 167us/step - loss: 0.1303 - accuracy: 0.9538 - val_loss: 0.1226 - val_accuracy: 0.9568\n",
      "Epoch 26/200\n",
      "19420/19420 [==============================] - 3s 176us/step - loss: 0.1337 - accuracy: 0.9534 - val_loss: 0.1217 - val_accuracy: 0.9570\n",
      "Epoch 27/200\n",
      "19420/19420 [==============================] - 3s 172us/step - loss: 0.1484 - accuracy: 0.9526 - val_loss: 0.1156 - val_accuracy: 0.9577\n",
      "Epoch 28/200\n",
      "19420/19420 [==============================] - 3s 169us/step - loss: 0.1285 - accuracy: 0.9547 - val_loss: 0.1148 - val_accuracy: 0.9580\n",
      "Epoch 29/200\n",
      "19420/19420 [==============================] - 3s 170us/step - loss: 0.1314 - accuracy: 0.9545 - val_loss: 0.1198 - val_accuracy: 0.9543\n",
      "Epoch 30/200\n",
      "19420/19420 [==============================] - 3s 167us/step - loss: 0.1275 - accuracy: 0.9539 - val_loss: 0.1760 - val_accuracy: 0.9486\n",
      "Epoch 31/200\n",
      "19420/19420 [==============================] - 3s 179us/step - loss: 0.1324 - accuracy: 0.9542 - val_loss: 0.1237 - val_accuracy: 0.9565\n",
      "Epoch 32/200\n",
      "19420/19420 [==============================] - 3s 172us/step - loss: 0.1265 - accuracy: 0.9543 - val_loss: 0.1228 - val_accuracy: 0.9582\n",
      "Epoch 33/200\n",
      "19420/19420 [==============================] - 3s 171us/step - loss: 0.1319 - accuracy: 0.9532 - val_loss: 0.1130 - val_accuracy: 0.9572\n",
      "Epoch 34/200\n",
      "19420/19420 [==============================] - 3s 169us/step - loss: 0.1243 - accuracy: 0.9533 - val_loss: 0.1094 - val_accuracy: 0.9568\n",
      "Epoch 35/200\n",
      "19420/19420 [==============================] - 3s 166us/step - loss: 0.1284 - accuracy: 0.9521 - val_loss: 0.1178 - val_accuracy: 0.9577\n",
      "Epoch 36/200\n",
      "19420/19420 [==============================] - 3s 167us/step - loss: 0.1263 - accuracy: 0.9540 - val_loss: 0.1178 - val_accuracy: 0.9572\n",
      "Epoch 37/200\n",
      "19420/19420 [==============================] - 3s 168us/step - loss: 0.1265 - accuracy: 0.9527 - val_loss: 0.1180 - val_accuracy: 0.9577\n",
      "Epoch 38/200\n",
      "19420/19420 [==============================] - 3s 169us/step - loss: 0.1349 - accuracy: 0.9535 - val_loss: 0.1144 - val_accuracy: 0.9576\n",
      "Epoch 39/200\n",
      "19420/19420 [==============================] - 3s 168us/step - loss: 0.1320 - accuracy: 0.9544 - val_loss: 0.1059 - val_accuracy: 0.9580\n",
      "Epoch 40/200\n",
      "19420/19420 [==============================] - 4s 186us/step - loss: 0.1216 - accuracy: 0.9543 - val_loss: 0.1106 - val_accuracy: 0.9529\n",
      "Epoch 41/200\n",
      "19420/19420 [==============================] - 4s 198us/step - loss: 0.1211 - accuracy: 0.9543 - val_loss: 0.1047 - val_accuracy: 0.9581\n",
      "Epoch 42/200\n",
      "19420/19420 [==============================] - 4s 198us/step - loss: 0.1597 - accuracy: 0.9547 - val_loss: 0.1074 - val_accuracy: 0.9568\n",
      "Epoch 43/200\n",
      "19420/19420 [==============================] - 3s 168us/step - loss: 0.1191 - accuracy: 0.9551 - val_loss: 0.1100 - val_accuracy: 0.9571\n",
      "Epoch 44/200\n",
      "19420/19420 [==============================] - 4s 192us/step - loss: 0.1178 - accuracy: 0.9549 - val_loss: 0.1082 - val_accuracy: 0.9542\n",
      "Epoch 45/200\n",
      "19420/19420 [==============================] - 4s 185us/step - loss: 0.1165 - accuracy: 0.9550 - val_loss: 0.1239 - val_accuracy: 0.9410\n",
      "Epoch 46/200\n",
      "19420/19420 [==============================] - 3s 168us/step - loss: 0.1514 - accuracy: 0.9537 - val_loss: 0.1022 - val_accuracy: 0.9575\n",
      "Epoch 47/200\n",
      "19420/19420 [==============================] - 3s 172us/step - loss: 0.1217 - accuracy: 0.9545 - val_loss: 0.1007 - val_accuracy: 0.9576\n",
      "Epoch 48/200\n",
      "19420/19420 [==============================] - 4s 182us/step - loss: 0.1145 - accuracy: 0.9555 - val_loss: 0.1154 - val_accuracy: 0.9554\n",
      "Epoch 49/200\n",
      "19420/19420 [==============================] - 4s 188us/step - loss: 0.1535 - accuracy: 0.9522 - val_loss: 0.1019 - val_accuracy: 0.9571\n",
      "Epoch 50/200\n",
      "19420/19420 [==============================] - 4s 193us/step - loss: 0.1136 - accuracy: 0.9535 - val_loss: 0.1086 - val_accuracy: 0.9513\n",
      "Epoch 51/200\n",
      "19420/19420 [==============================] - 4s 187us/step - loss: 0.1105 - accuracy: 0.9551 - val_loss: 0.0987 - val_accuracy: 0.9582\n",
      "Epoch 52/200\n",
      "19420/19420 [==============================] - 3s 173us/step - loss: 0.1129 - accuracy: 0.9546 - val_loss: 0.1079 - val_accuracy: 0.9559\n",
      "Epoch 53/200\n",
      "19420/19420 [==============================] - 3s 171us/step - loss: 0.1162 - accuracy: 0.9542 - val_loss: 0.1013 - val_accuracy: 0.9577\n",
      "Epoch 54/200\n",
      "19420/19420 [==============================] - 3s 173us/step - loss: 0.1147 - accuracy: 0.9543 - val_loss: 0.1070 - val_accuracy: 0.9581\n",
      "Epoch 55/200\n",
      "19420/19420 [==============================] - 3s 171us/step - loss: 0.1341 - accuracy: 0.9532 - val_loss: 0.1056 - val_accuracy: 0.9565\n",
      "Epoch 56/200\n",
      "19420/19420 [==============================] - 3s 166us/step - loss: 0.1530 - accuracy: 0.9548 - val_loss: 0.1098 - val_accuracy: 0.9576\n",
      "Epoch 57/200\n",
      "19420/19420 [==============================] - 3s 169us/step - loss: 0.1323 - accuracy: 0.9541 - val_loss: 0.1051 - val_accuracy: 0.9569\n",
      "Epoch 58/200\n",
      "19420/19420 [==============================] - 3s 167us/step - loss: 0.1278 - accuracy: 0.9541 - val_loss: 0.1200 - val_accuracy: 0.9569\n",
      "Epoch 59/200\n",
      "19420/19420 [==============================] - 3s 167us/step - loss: 0.1332 - accuracy: 0.9536 - val_loss: 0.1083 - val_accuracy: 0.9578\n",
      "Epoch 60/200\n",
      "19420/19420 [==============================] - 3s 167us/step - loss: 0.1632 - accuracy: 0.9536 - val_loss: 0.1042 - val_accuracy: 0.9566\n",
      "Epoch 61/200\n",
      "19420/19420 [==============================] - 3s 168us/step - loss: 0.1207 - accuracy: 0.9546 - val_loss: 0.1068 - val_accuracy: 0.9584\n",
      "Epoch 62/200\n",
      "19420/19420 [==============================] - 3s 169us/step - loss: 0.1461 - accuracy: 0.9543 - val_loss: 0.1046 - val_accuracy: 0.9580\n",
      "Epoch 63/200\n",
      "19420/19420 [==============================] - 3s 167us/step - loss: 0.1134 - accuracy: 0.9555 - val_loss: 0.1018 - val_accuracy: 0.9575\n",
      "Epoch 64/200\n",
      "19420/19420 [==============================] - 3s 180us/step - loss: 0.1115 - accuracy: 0.9569 - val_loss: 0.1018 - val_accuracy: 0.9566\n",
      "Epoch 65/200\n",
      "19420/19420 [==============================] - 4s 190us/step - loss: 0.1333 - accuracy: 0.9549 - val_loss: 0.1092 - val_accuracy: 0.9578\n",
      "Epoch 66/200\n",
      "19420/19420 [==============================] - 3s 169us/step - loss: 0.1163 - accuracy: 0.9557 - val_loss: 0.0978 - val_accuracy: 0.9588\n",
      "Epoch 67/200\n",
      "19420/19420 [==============================] - 3s 169us/step - loss: 0.1156 - accuracy: 0.9551 - val_loss: 0.1063 - val_accuracy: 0.9580\n",
      "Epoch 68/200\n",
      "19420/19420 [==============================] - 3s 171us/step - loss: 0.1109 - accuracy: 0.9558 - val_loss: 0.1001 - val_accuracy: 0.9584\n",
      "Epoch 69/200\n",
      "19420/19420 [==============================] - 3s 169us/step - loss: 0.1118 - accuracy: 0.9552 - val_loss: 0.0977 - val_accuracy: 0.9580\n",
      "Epoch 70/200\n",
      "19420/19420 [==============================] - 3s 170us/step - loss: 0.1290 - accuracy: 0.9559 - val_loss: 0.1122 - val_accuracy: 0.9564\n",
      "Epoch 71/200\n",
      "19420/19420 [==============================] - 3s 172us/step - loss: 0.1088 - accuracy: 0.9555 - val_loss: 0.1053 - val_accuracy: 0.9572\n",
      "Epoch 72/200\n",
      "19420/19420 [==============================] - 3s 168us/step - loss: 0.1130 - accuracy: 0.9548 - val_loss: 0.1168 - val_accuracy: 0.9560\n",
      "Epoch 73/200\n",
      "19420/19420 [==============================] - 3s 175us/step - loss: 0.1117 - accuracy: 0.9566 - val_loss: 0.1013 - val_accuracy: 0.9582\n",
      "Epoch 74/200\n",
      "19420/19420 [==============================] - 3s 173us/step - loss: 0.1706 - accuracy: 0.9559 - val_loss: 0.1027 - val_accuracy: 0.9574\n",
      "Epoch 75/200\n",
      "19420/19420 [==============================] - 3s 174us/step - loss: 0.1108 - accuracy: 0.9558 - val_loss: 0.1030 - val_accuracy: 0.9588\n",
      "Epoch 76/200\n",
      "19420/19420 [==============================] - 3s 175us/step - loss: 0.1128 - accuracy: 0.9562 - val_loss: 0.0982 - val_accuracy: 0.9590\n",
      "Epoch 77/200\n",
      "19420/19420 [==============================] - 4s 192us/step - loss: 0.1129 - accuracy: 0.9558 - val_loss: 0.0980 - val_accuracy: 0.9571\n",
      "Epoch 78/200\n",
      "19420/19420 [==============================] - 4s 181us/step - loss: 0.1083 - accuracy: 0.9564 - val_loss: 0.1228 - val_accuracy: 0.9581\n",
      "Epoch 79/200\n",
      "19420/19420 [==============================] - 3s 169us/step - loss: 0.1382 - accuracy: 0.9560 - val_loss: 0.0999 - val_accuracy: 0.9586\n",
      "Epoch 80/200\n",
      "19420/19420 [==============================] - 3s 171us/step - loss: 0.1103 - accuracy: 0.9551 - val_loss: 0.1011 - val_accuracy: 0.9581\n",
      "Epoch 81/200\n",
      "19420/19420 [==============================] - 3s 171us/step - loss: 0.1281 - accuracy: 0.9568 - val_loss: 0.0994 - val_accuracy: 0.9581\n",
      "Epoch 82/200\n",
      "19420/19420 [==============================] - 4s 217us/step - loss: 0.1125 - accuracy: 0.9564 - val_loss: 0.1031 - val_accuracy: 0.9589\n",
      "Epoch 83/200\n",
      "19420/19420 [==============================] - 5s 258us/step - loss: 0.1102 - accuracy: 0.9563 - val_loss: 0.1033 - val_accuracy: 0.9574\n",
      "Epoch 84/200\n",
      "19420/19420 [==============================] - 4s 188us/step - loss: 0.1093 - accuracy: 0.9557 - val_loss: 0.1087 - val_accuracy: 0.9568\n",
      "Epoch 85/200\n",
      "19420/19420 [==============================] - 4s 186us/step - loss: 0.1066 - accuracy: 0.9559 - val_loss: 0.0985 - val_accuracy: 0.9595\n",
      "Epoch 86/200\n",
      "19420/19420 [==============================] - 4s 188us/step - loss: 0.1115 - accuracy: 0.9553 - val_loss: 0.1040 - val_accuracy: 0.9577\n",
      "Epoch 87/200\n",
      "19420/19420 [==============================] - 4s 185us/step - loss: 0.1107 - accuracy: 0.9544 - val_loss: 0.1013 - val_accuracy: 0.9558\n",
      "Epoch 88/200\n",
      "19420/19420 [==============================] - 4s 188us/step - loss: 0.1178 - accuracy: 0.9538 - val_loss: 0.1021 - val_accuracy: 0.9589\n",
      "Epoch 89/200\n",
      "19420/19420 [==============================] - 4s 188us/step - loss: 0.1118 - accuracy: 0.9557 - val_loss: 0.0970 - val_accuracy: 0.9590\n",
      "Epoch 90/200\n",
      "19420/19420 [==============================] - 4s 191us/step - loss: 0.1157 - accuracy: 0.9565 - val_loss: 0.1043 - val_accuracy: 0.9580\n",
      "Epoch 91/200\n",
      "19420/19420 [==============================] - 4s 191us/step - loss: 0.1069 - accuracy: 0.9570 - val_loss: 0.0970 - val_accuracy: 0.9581\n",
      "Epoch 92/200\n",
      "19420/19420 [==============================] - 4s 183us/step - loss: 0.1103 - accuracy: 0.9558 - val_loss: 0.1020 - val_accuracy: 0.9581\n",
      "Epoch 93/200\n",
      "19420/19420 [==============================] - 4s 198us/step - loss: 0.1136 - accuracy: 0.9556 - val_loss: 0.1047 - val_accuracy: 0.9581\n",
      "Epoch 94/200\n",
      "19420/19420 [==============================] - 4s 184us/step - loss: 0.5230 - accuracy: 0.9529 - val_loss: 0.1292 - val_accuracy: 0.9559\n",
      "Epoch 95/200\n",
      "19420/19420 [==============================] - 3s 179us/step - loss: 0.1303 - accuracy: 0.9550 - val_loss: 0.1022 - val_accuracy: 0.9582\n",
      "Epoch 96/200\n",
      "19420/19420 [==============================] - 3s 180us/step - loss: 0.1095 - accuracy: 0.9567 - val_loss: 0.1020 - val_accuracy: 0.9582\n",
      "Epoch 97/200\n",
      "19420/19420 [==============================] - 3s 177us/step - loss: 0.1112 - accuracy: 0.9559 - val_loss: 0.1008 - val_accuracy: 0.9577\n",
      "Epoch 98/200\n",
      "19420/19420 [==============================] - 3s 174us/step - loss: 0.1136 - accuracy: 0.9553 - val_loss: 0.1013 - val_accuracy: 0.9580\n",
      "Epoch 99/200\n",
      "19420/19420 [==============================] - 3s 176us/step - loss: 0.1111 - accuracy: 0.9549 - val_loss: 0.1010 - val_accuracy: 0.9570\n",
      "Epoch 100/200\n",
      "19420/19420 [==============================] - 3s 178us/step - loss: 0.1107 - accuracy: 0.9550 - val_loss: 0.1155 - val_accuracy: 0.9562\n",
      "Epoch 101/200\n",
      "19420/19420 [==============================] - 3s 178us/step - loss: 0.1600 - accuracy: 0.9550 - val_loss: 0.1759 - val_accuracy: 0.9510\n",
      "Epoch 102/200\n",
      "19420/19420 [==============================] - 3s 175us/step - loss: 0.2106 - accuracy: 0.9545 - val_loss: 0.1025 - val_accuracy: 0.9582\n",
      "Epoch 103/200\n",
      "19420/19420 [==============================] - 3s 175us/step - loss: 0.1096 - accuracy: 0.9568 - val_loss: 0.1000 - val_accuracy: 0.9593\n",
      "Epoch 104/200\n",
      "19420/19420 [==============================] - 3s 178us/step - loss: 0.1092 - accuracy: 0.9573 - val_loss: 0.1028 - val_accuracy: 0.9578\n",
      "Epoch 105/200\n",
      "19420/19420 [==============================] - 3s 175us/step - loss: 0.1137 - accuracy: 0.9558 - val_loss: 0.1044 - val_accuracy: 0.9593\n",
      "Epoch 106/200\n",
      "19420/19420 [==============================] - 3s 176us/step - loss: 0.1377 - accuracy: 0.9562 - val_loss: 0.1000 - val_accuracy: 0.9581\n",
      "Epoch 107/200\n",
      "19420/19420 [==============================] - 3s 177us/step - loss: 0.1128 - accuracy: 0.9568 - val_loss: 0.1253 - val_accuracy: 0.9582\n",
      "Epoch 108/200\n",
      "19420/19420 [==============================] - 3s 178us/step - loss: 0.1088 - accuracy: 0.9562 - val_loss: 0.1005 - val_accuracy: 0.9587\n",
      "Epoch 109/200\n"
     ]
    },
    {
     "name": "stdout",
     "output_type": "stream",
     "text": [
      "19420/19420 [==============================] - 3s 179us/step - loss: 0.1152 - accuracy: 0.9542 - val_loss: 0.0990 - val_accuracy: 0.9587\n",
      "Epoch 110/200\n",
      "19420/19420 [==============================] - 4s 182us/step - loss: 0.1128 - accuracy: 0.9564 - val_loss: 0.1011 - val_accuracy: 0.9590\n",
      "Epoch 111/200\n",
      "19420/19420 [==============================] - 4s 180us/step - loss: 0.1128 - accuracy: 0.9547 - val_loss: 0.0973 - val_accuracy: 0.9593\n",
      "Epoch 112/200\n",
      "19420/19420 [==============================] - 3s 179us/step - loss: 0.1142 - accuracy: 0.9551 - val_loss: 0.1029 - val_accuracy: 0.9558\n",
      "Epoch 113/200\n",
      "19420/19420 [==============================] - 3s 179us/step - loss: 0.1206 - accuracy: 0.9540 - val_loss: 0.1014 - val_accuracy: 0.9581\n",
      "Epoch 114/200\n",
      "19420/19420 [==============================] - 3s 176us/step - loss: 0.1130 - accuracy: 0.9544 - val_loss: 0.1087 - val_accuracy: 0.9572\n",
      "Epoch 00114: early stopping\n"
     ]
    },
    {
     "data": {
      "text/plain": [
       "<keras.callbacks.callbacks.History at 0x268f52a8c48>"
      ]
     },
     "execution_count": 25,
     "metadata": {},
     "output_type": "execute_result"
    }
   ],
   "source": [
    "classifier.fit(X_train, y_train, batch_size = 10, epochs = 200, validation_data = (X_test, y_test), callbacks=[early_stop] )"
   ]
  },
  {
   "cell_type": "code",
   "execution_count": 26,
   "metadata": {},
   "outputs": [
    {
     "name": "stderr",
     "output_type": "stream",
     "text": [
      "D:\\Anaconda\\lib\\site-packages\\ipykernel_launcher.py:1: UserWarning: Update your `Dense` call to the Keras 2 API: `Dense(input_dim=39, activation=\"relu\", units=20, kernel_initializer=\"uniform\")`\n",
      "  \"\"\"Entry point for launching an IPython kernel.\n",
      "D:\\Anaconda\\lib\\site-packages\\ipykernel_launcher.py:2: UserWarning: Update your `Dense` call to the Keras 2 API: `Dense(activation=\"relu\", units=20, kernel_initializer=\"uniform\")`\n",
      "  \n",
      "D:\\Anaconda\\lib\\site-packages\\ipykernel_launcher.py:3: UserWarning: Update your `Dense` call to the Keras 2 API: `Dense(activation=\"relu\", units=20, kernel_initializer=\"uniform\")`\n",
      "  This is separate from the ipykernel package so we can avoid doing imports until\n",
      "D:\\Anaconda\\lib\\site-packages\\ipykernel_launcher.py:4: UserWarning: Update your `Dense` call to the Keras 2 API: `Dense(activation=\"relu\", units=14, kernel_initializer=\"uniform\")`\n",
      "  after removing the cwd from sys.path.\n",
      "D:\\Anaconda\\lib\\site-packages\\ipykernel_launcher.py:5: UserWarning: Update your `Dense` call to the Keras 2 API: `Dense(activation=\"softmax\", units=7, kernel_initializer=\"uniform\")`\n",
      "  \"\"\"\n"
     ]
    }
   ],
   "source": [
    "classifier.add(Dense(input_dim = 39, output_dim = 20, init= \"uniform\", activation = \"relu\"))\n",
    "classifier.add(Dense(output_dim = 20, init= \"uniform\", activation = \"relu\"))\n",
    "classifier.add(Dense(output_dim = 20, init= \"uniform\", activation = \"relu\"))\n",
    "classifier.add(Dense(output_dim = 14, init= \"uniform\", activation = \"relu\"))\n",
    "classifier.add(Dense(output_dim = 7, init= \"uniform\", activation = \"softmax\"))"
   ]
  },
  {
   "cell_type": "code",
   "execution_count": 27,
   "metadata": {},
   "outputs": [],
   "source": [
    "early_stop = EarlyStopping(monitor= 'val_loss', mode='min', verbose=1, patience = 25)\n",
    "classifier.compile(optimizer = \"adam\", loss = \"categorical_crossentropy\", metrics = [\"accuracy\"])"
   ]
  },
  {
   "cell_type": "code",
   "execution_count": 28,
   "metadata": {},
   "outputs": [
    {
     "name": "stdout",
     "output_type": "stream",
     "text": [
      "Train on 19420 samples, validate on 8324 samples\n",
      "Epoch 1/200\n",
      "19420/19420 [==============================] - 5s 238us/step - loss: 0.7888 - accuracy: 0.7248 - val_loss: 0.8703 - val_accuracy: 0.9167\n",
      "Epoch 2/200\n",
      "19420/19420 [==============================] - 4s 228us/step - loss: 0.5101 - accuracy: 0.9074 - val_loss: 0.4005 - val_accuracy: 0.9124\n",
      "Epoch 3/200\n",
      "19420/19420 [==============================] - 4s 228us/step - loss: 0.4051 - accuracy: 0.9105 - val_loss: 0.3812 - val_accuracy: 0.9063\n",
      "Epoch 4/200\n",
      "19420/19420 [==============================] - 5s 232us/step - loss: 0.3511 - accuracy: 0.9009 - val_loss: 0.2893 - val_accuracy: 0.9087\n",
      "Epoch 5/200\n",
      "19420/19420 [==============================] - 4s 230us/step - loss: 0.3205 - accuracy: 0.9053 - val_loss: 0.2763 - val_accuracy: 0.9116\n",
      "Epoch 6/200\n",
      "19420/19420 [==============================] - 4s 213us/step - loss: 0.3014 - accuracy: 0.9056 - val_loss: 0.2680 - val_accuracy: 0.9185\n",
      "Epoch 7/200\n",
      "19420/19420 [==============================] - 4s 223us/step - loss: 0.3281 - accuracy: 0.9013 - val_loss: 0.2838 - val_accuracy: 0.9133\n",
      "Epoch 8/200\n",
      "19420/19420 [==============================] - 4s 226us/step - loss: 0.3382 - accuracy: 0.8977 - val_loss: 0.3154 - val_accuracy: 0.8980\n",
      "Epoch 9/200\n",
      "19420/19420 [==============================] - 4s 210us/step - loss: 0.3112 - accuracy: 0.8979 - val_loss: 0.3077 - val_accuracy: 0.9015\n",
      "Epoch 10/200\n",
      "19420/19420 [==============================] - 4s 214us/step - loss: 0.3203 - accuracy: 0.8946 - val_loss: 0.3032 - val_accuracy: 0.9051\n",
      "Epoch 11/200\n",
      "19420/19420 [==============================] - 4s 212us/step - loss: 0.3034 - accuracy: 0.9012 - val_loss: 0.2385 - val_accuracy: 0.9195\n",
      "Epoch 12/200\n",
      "19420/19420 [==============================] - 4s 214us/step - loss: 0.2818 - accuracy: 0.9046 - val_loss: 0.2425 - val_accuracy: 0.9107\n",
      "Epoch 13/200\n",
      "19420/19420 [==============================] - 4s 216us/step - loss: 0.2667 - accuracy: 0.9041 - val_loss: 0.2197 - val_accuracy: 0.9193\n",
      "Epoch 14/200\n",
      "19420/19420 [==============================] - 4s 212us/step - loss: 0.3341 - accuracy: 0.9140 - val_loss: 0.2417 - val_accuracy: 0.9236\n",
      "Epoch 15/200\n",
      "19420/19420 [==============================] - 4s 212us/step - loss: 0.2543 - accuracy: 0.9231 - val_loss: 0.2238 - val_accuracy: 0.9340\n",
      "Epoch 16/200\n",
      "19420/19420 [==============================] - 4s 212us/step - loss: 0.2805 - accuracy: 0.9261 - val_loss: 0.2549 - val_accuracy: 0.9290\n",
      "Epoch 17/200\n",
      "19420/19420 [==============================] - 4s 213us/step - loss: 0.2489 - accuracy: 0.9284 - val_loss: 0.2152 - val_accuracy: 0.9360\n",
      "Epoch 18/200\n",
      "19420/19420 [==============================] - 4s 215us/step - loss: 0.2453 - accuracy: 0.9275 - val_loss: 0.1853 - val_accuracy: 0.9397\n",
      "Epoch 19/200\n",
      "19420/19420 [==============================] - 4s 213us/step - loss: 0.2200 - accuracy: 0.9382 - val_loss: 0.1769 - val_accuracy: 0.9483\n",
      "Epoch 20/200\n",
      "19420/19420 [==============================] - 4s 212us/step - loss: 0.2004 - accuracy: 0.9413 - val_loss: 0.1930 - val_accuracy: 0.9384\n",
      "Epoch 21/200\n",
      "19420/19420 [==============================] - 4s 212us/step - loss: 0.2101 - accuracy: 0.9413 - val_loss: 0.1649 - val_accuracy: 0.9491\n",
      "Epoch 22/200\n",
      "19420/19420 [==============================] - 4s 212us/step - loss: 0.1888 - accuracy: 0.9440 - val_loss: 0.1715 - val_accuracy: 0.9445\n",
      "Epoch 23/200\n",
      "19420/19420 [==============================] - 4s 212us/step - loss: 0.2103 - accuracy: 0.9409 - val_loss: 0.1622 - val_accuracy: 0.9491\n",
      "Epoch 24/200\n",
      "19420/19420 [==============================] - 4s 213us/step - loss: 0.2111 - accuracy: 0.9406 - val_loss: 0.1880 - val_accuracy: 0.9461\n",
      "Epoch 25/200\n",
      "19420/19420 [==============================] - 4s 208us/step - loss: 0.1978 - accuracy: 0.9429 - val_loss: 0.1807 - val_accuracy: 0.9453\n",
      "Epoch 26/200\n",
      "19420/19420 [==============================] - 4s 208us/step - loss: 0.2029 - accuracy: 0.9432 - val_loss: 0.1797 - val_accuracy: 0.9475\n",
      "Epoch 27/200\n",
      "19420/19420 [==============================] - 4s 207us/step - loss: 0.2143 - accuracy: 0.9412 - val_loss: 0.1930 - val_accuracy: 0.9451\n",
      "Epoch 28/200\n",
      "19420/19420 [==============================] - 4s 209us/step - loss: 0.2072 - accuracy: 0.9427 - val_loss: 0.1928 - val_accuracy: 0.9434\n",
      "Epoch 29/200\n",
      "19420/19420 [==============================] - 4s 211us/step - loss: 0.2049 - accuracy: 0.9447 - val_loss: 0.1924 - val_accuracy: 0.9455\n",
      "Epoch 30/200\n",
      "19420/19420 [==============================] - 4s 208us/step - loss: 0.2027 - accuracy: 0.9433 - val_loss: 0.1838 - val_accuracy: 0.9457\n",
      "Epoch 31/200\n",
      "19420/19420 [==============================] - 4s 230us/step - loss: 0.1795 - accuracy: 0.9472 - val_loss: 0.1587 - val_accuracy: 0.9512\n",
      "Epoch 32/200\n",
      "19420/19420 [==============================] - 4s 227us/step - loss: 0.1730 - accuracy: 0.9479 - val_loss: 0.1744 - val_accuracy: 0.9477\n",
      "Epoch 33/200\n",
      "19420/19420 [==============================] - 4s 228us/step - loss: 0.4019 - accuracy: 0.8523 - val_loss: 0.4354 - val_accuracy: 0.8330\n",
      "Epoch 34/200\n",
      "19420/19420 [==============================] - 4s 223us/step - loss: 0.4648 - accuracy: 0.8279 - val_loss: 0.5112 - val_accuracy: 0.8339\n",
      "Epoch 35/200\n",
      "19420/19420 [==============================] - 4s 223us/step - loss: 0.6117 - accuracy: 0.8040 - val_loss: 0.6992 - val_accuracy: 0.7118\n",
      "Epoch 36/200\n",
      "19420/19420 [==============================] - 4s 230us/step - loss: 0.6988 - accuracy: 0.7427 - val_loss: 0.6042 - val_accuracy: 0.7750\n",
      "Epoch 37/200\n",
      "19420/19420 [==============================] - 4s 226us/step - loss: 0.6560 - accuracy: 0.7499 - val_loss: 0.6099 - val_accuracy: 0.7584\n",
      "Epoch 38/200\n",
      "19420/19420 [==============================] - 4s 224us/step - loss: 0.6426 - accuracy: 0.7441 - val_loss: 0.6067 - val_accuracy: 0.7594\n",
      "Epoch 39/200\n",
      "19420/19420 [==============================] - 4s 227us/step - loss: 0.6524 - accuracy: 0.7324 - val_loss: 0.6191 - val_accuracy: 0.7445\n",
      "Epoch 40/200\n",
      "19420/19420 [==============================] - 5s 245us/step - loss: 0.6612 - accuracy: 0.7275 - val_loss: 0.6309 - val_accuracy: 0.7356\n",
      "Epoch 41/200\n",
      "19420/19420 [==============================] - 4s 230us/step - loss: 0.6539 - accuracy: 0.7243 - val_loss: 0.6278 - val_accuracy: 0.7380\n",
      "Epoch 42/200\n",
      "19420/19420 [==============================] - 4s 228us/step - loss: 0.6495 - accuracy: 0.7290 - val_loss: 0.6046 - val_accuracy: 0.7459\n",
      "Epoch 43/200\n",
      "19420/19420 [==============================] - 4s 226us/step - loss: 0.6349 - accuracy: 0.7285 - val_loss: 0.6073 - val_accuracy: 0.7430\n",
      "Epoch 44/200\n",
      "19420/19420 [==============================] - 4s 228us/step - loss: 0.6398 - accuracy: 0.7256 - val_loss: 0.6040 - val_accuracy: 0.7421\n",
      "Epoch 45/200\n",
      "19420/19420 [==============================] - 4s 224us/step - loss: 0.6469 - accuracy: 0.7243 - val_loss: 0.6246 - val_accuracy: 0.7376\n",
      "Epoch 46/200\n",
      "19420/19420 [==============================] - 5s 232us/step - loss: 0.6433 - accuracy: 0.7224 - val_loss: 0.6423 - val_accuracy: 0.7349\n",
      "Epoch 47/200\n",
      "19420/19420 [==============================] - 4s 231us/step - loss: 0.6593 - accuracy: 0.7222 - val_loss: 0.6352 - val_accuracy: 0.7343\n",
      "Epoch 48/200\n",
      "19420/19420 [==============================] - 4s 230us/step - loss: 0.6564 - accuracy: 0.7251 - val_loss: 0.5603 - val_accuracy: 0.7542\n",
      "Epoch 49/200\n",
      "19420/19420 [==============================] - 4s 225us/step - loss: 0.5882 - accuracy: 0.7372 - val_loss: 0.5642 - val_accuracy: 0.7555\n",
      "Epoch 50/200\n",
      "19420/19420 [==============================] - 5s 252us/step - loss: 0.5891 - accuracy: 0.7383 - val_loss: 0.5592 - val_accuracy: 0.7572\n",
      "Epoch 51/200\n",
      "19420/19420 [==============================] - 4s 230us/step - loss: 0.5940 - accuracy: 0.7377 - val_loss: 0.5601 - val_accuracy: 0.7518\n",
      "Epoch 52/200\n",
      "19420/19420 [==============================] - 4s 228us/step - loss: 0.5820 - accuracy: 0.7397 - val_loss: 0.5567 - val_accuracy: 0.7514\n",
      "Epoch 53/200\n",
      "19420/19420 [==============================] - 5s 238us/step - loss: 0.5792 - accuracy: 0.7429 - val_loss: 0.5594 - val_accuracy: 0.7558\n",
      "Epoch 54/200\n",
      "19420/19420 [==============================] - 4s 229us/step - loss: 0.5817 - accuracy: 0.7441 - val_loss: 0.5480 - val_accuracy: 0.7571\n",
      "Epoch 55/200\n",
      "19420/19420 [==============================] - 4s 223us/step - loss: 0.6200 - accuracy: 0.7291 - val_loss: 0.6748 - val_accuracy: 0.7182\n",
      "Epoch 56/200\n",
      "19420/19420 [==============================] - 4s 225us/step - loss: 0.7103 - accuracy: 0.7119 - val_loss: 0.6968 - val_accuracy: 0.7222\n",
      "Epoch 00056: early stopping\n"
     ]
    },
    {
     "data": {
      "text/plain": [
       "<keras.callbacks.callbacks.History at 0x268f6140608>"
      ]
     },
     "execution_count": 28,
     "metadata": {},
     "output_type": "execute_result"
    }
   ],
   "source": [
    "classifier.fit(X_train, y_train, batch_size = 10, epochs = 200, validation_data = (X_test, y_test), callbacks=[early_stop] )"
   ]
  },
  {
   "cell_type": "code",
   "execution_count": 29,
   "metadata": {},
   "outputs": [
    {
     "data": {
      "text/plain": [
       "<matplotlib.axes._subplots.AxesSubplot at 0x268f7240c88>"
      ]
     },
     "execution_count": 29,
     "metadata": {},
     "output_type": "execute_result"
    },
    {
     "data": {
      "image/png": "[encoded data removed]",
      "text/plain": [
       "<Figure size 432x288 with 1 Axes>"
      ]
     },
     "metadata": {
      "needs_background": "light"
     },
     "output_type": "display_data"
    }
   ],
   "source": [
    "losses= pd.DataFrame(classifier.history.history)\n",
    "losses[['val_loss','loss']].plot()"
   ]
  },
  {
   "cell_type": "code",
   "execution_count": 30,
   "metadata": {},
   "outputs": [
    {
     "name": "stderr",
     "output_type": "stream",
     "text": [
      "D:\\Anaconda\\lib\\site-packages\\ipykernel_launcher.py:1: UserWarning: Update your `Dense` call to the Keras 2 API: `Dense(input_dim=39, activation=\"relu\", units=20, kernel_initializer=\"uniform\")`\n",
      "  \"\"\"Entry point for launching an IPython kernel.\n",
      "D:\\Anaconda\\lib\\site-packages\\ipykernel_launcher.py:2: UserWarning: Update your `Dense` call to the Keras 2 API: `Dense(activation=\"relu\", units=20, kernel_initializer=\"uniform\")`\n",
      "  \n",
      "D:\\Anaconda\\lib\\site-packages\\ipykernel_launcher.py:3: UserWarning: Update your `Dense` call to the Keras 2 API: `Dense(activation=\"relu\", units=14, kernel_initializer=\"uniform\")`\n",
      "  This is separate from the ipykernel package so we can avoid doing imports until\n",
      "D:\\Anaconda\\lib\\site-packages\\ipykernel_launcher.py:4: UserWarning: Update your `Dense` call to the Keras 2 API: `Dense(activation=\"softmax\", units=7, kernel_initializer=\"uniform\")`\n",
      "  after removing the cwd from sys.path.\n"
     ]
    }
   ],
   "source": [
    "classifier.add(Dense(input_dim = 39, output_dim = 20, init= \"uniform\", activation = \"relu\"))\n",
    "classifier.add(Dense(output_dim = 20, init= \"uniform\", activation = \"relu\"))\n",
    "classifier.add(Dense(output_dim = 14, init= \"uniform\", activation = \"relu\"))\n",
    "classifier.add(Dense(output_dim = 7, init= \"uniform\", activation = \"softmax\"))"
   ]
  },
  {
   "cell_type": "code",
   "execution_count": 31,
   "metadata": {},
   "outputs": [],
   "source": [
    "early_stop = EarlyStopping(monitor= 'val_loss', mode='min', verbose=1, patience = 25)\n",
    "classifier.compile(optimizer = \"adam\", loss = \"categorical_crossentropy\", metrics = [\"accuracy\"])"
   ]
  },
  {
   "cell_type": "code",
   "execution_count": 32,
   "metadata": {},
   "outputs": [
    {
     "name": "stdout",
     "output_type": "stream",
     "text": [
      "Train on 19420 samples, validate on 8324 samples\n",
      "Epoch 1/200\n",
      "19420/19420 [==============================] - 5s 265us/step - loss: 1.1822 - accuracy: 0.5291 - val_loss: 1.0428 - val_accuracy: 0.6110\n",
      "Epoch 2/200\n",
      "19420/19420 [==============================] - 5s 245us/step - loss: 1.0031 - accuracy: 0.5966 - val_loss: 0.8897 - val_accuracy: 0.6374\n",
      "Epoch 3/200\n",
      "19420/19420 [==============================] - 5s 252us/step - loss: 0.8770 - accuracy: 0.6627 - val_loss: 0.7949 - val_accuracy: 0.6933\n",
      "Epoch 4/200\n",
      "19420/19420 [==============================] - 5s 264us/step - loss: 0.7828 - accuracy: 0.6952 - val_loss: 0.7521 - val_accuracy: 0.6976\n",
      "Epoch 5/200\n",
      "19420/19420 [==============================] - 5s 233us/step - loss: 0.7383 - accuracy: 0.6963 - val_loss: 0.7108 - val_accuracy: 0.6981\n",
      "Epoch 6/200\n",
      "19420/19420 [==============================] - 5s 234us/step - loss: 0.7211 - accuracy: 0.6976 - val_loss: 0.7141 - val_accuracy: 0.6931\n",
      "Epoch 7/200\n",
      "19420/19420 [==============================] - 5s 232us/step - loss: 0.7848 - accuracy: 0.6824 - val_loss: 0.8433 - val_accuracy: 0.6629\n",
      "Epoch 8/200\n",
      "19420/19420 [==============================] - 5s 244us/step - loss: 0.8848 - accuracy: 0.6620 - val_loss: 0.8812 - val_accuracy: 0.6667\n",
      "Epoch 9/200\n",
      "19420/19420 [==============================] - 5s 259us/step - loss: 0.8856 - accuracy: 0.6644 - val_loss: 0.8814 - val_accuracy: 0.6722\n",
      "Epoch 10/200\n",
      "19420/19420 [==============================] - 5s 241us/step - loss: 0.8888 - accuracy: 0.6645 - val_loss: 0.8831 - val_accuracy: 0.6722\n",
      "Epoch 11/200\n",
      "19420/19420 [==============================] - 5s 233us/step - loss: 0.9186 - accuracy: 0.6492 - val_loss: 0.8838 - val_accuracy: 0.6720\n",
      "Epoch 12/200\n",
      "19420/19420 [==============================] - 6s 287us/step - loss: 0.8971 - accuracy: 0.6652 - val_loss: 1.0705 - val_accuracy: 0.6189\n",
      "Epoch 13/200\n",
      "19420/19420 [==============================] - 6s 292us/step - loss: 0.8876 - accuracy: 0.6711 - val_loss: 0.8185 - val_accuracy: 0.6993\n",
      "Epoch 14/200\n",
      "19420/19420 [==============================] - 6s 298us/step - loss: 0.8484 - accuracy: 0.6857 - val_loss: 0.7890 - val_accuracy: 0.6939\n",
      "Epoch 15/200\n",
      "19420/19420 [==============================] - 6s 287us/step - loss: 0.8278 - accuracy: 0.6840 - val_loss: 0.7814 - val_accuracy: 0.7068\n",
      "Epoch 16/200\n",
      "19420/19420 [==============================] - 5s 270us/step - loss: 0.8016 - accuracy: 0.6939 - val_loss: 0.7740 - val_accuracy: 0.6985\n",
      "Epoch 17/200\n",
      "19420/19420 [==============================] - 5s 250us/step - loss: 0.7877 - accuracy: 0.6905 - val_loss: 0.7584 - val_accuracy: 0.7117\n",
      "Epoch 18/200\n",
      "19420/19420 [==============================] - 5s 250us/step - loss: 0.7831 - accuracy: 0.6959 - val_loss: 0.7640 - val_accuracy: 0.7113\n",
      "Epoch 19/200\n",
      "19420/19420 [==============================] - 5s 270us/step - loss: 0.8582 - accuracy: 0.6381 - val_loss: 0.8510 - val_accuracy: 0.6362\n",
      "Epoch 20/200\n",
      "19420/19420 [==============================] - 5s 278us/step - loss: 0.8702 - accuracy: 0.6115 - val_loss: 0.8468 - val_accuracy: 0.6277\n",
      "Epoch 21/200\n",
      "19420/19420 [==============================] - 5s 245us/step - loss: 0.8696 - accuracy: 0.6132 - val_loss: 0.8493 - val_accuracy: 0.6246\n",
      "Epoch 22/200\n",
      "19420/19420 [==============================] - 4s 228us/step - loss: 0.8493 - accuracy: 0.6585 - val_loss: 0.7921 - val_accuracy: 0.7048\n",
      "Epoch 23/200\n",
      "19420/19420 [==============================] - 5s 249us/step - loss: 0.8106 - accuracy: 0.6852 - val_loss: 0.7752 - val_accuracy: 0.6993\n",
      "Epoch 24/200\n",
      "19420/19420 [==============================] - 4s 223us/step - loss: 0.8418 - accuracy: 0.6700 - val_loss: 0.7417 - val_accuracy: 0.7188\n",
      "Epoch 25/200\n",
      "19420/19420 [==============================] - 4s 220us/step - loss: 0.7721 - accuracy: 0.7008 - val_loss: 0.7340 - val_accuracy: 0.7180\n",
      "Epoch 26/200\n",
      "19420/19420 [==============================] - 12s 620us/step - loss: 0.7459 - accuracy: 0.7079 - val_loss: 0.6898 - val_accuracy: 0.7260\n",
      "Epoch 27/200\n",
      "19420/19420 [==============================] - 13s 677us/step - loss: 0.7188 - accuracy: 0.7148 - val_loss: 0.7262 - val_accuracy: 0.7191\n",
      "Epoch 28/200\n",
      "19420/19420 [==============================] - 13s 695us/step - loss: 0.7366 - accuracy: 0.7052 - val_loss: 0.6870 - val_accuracy: 0.7179\n",
      "Epoch 29/200\n",
      "19420/19420 [==============================] - 13s 686us/step - loss: 0.7054 - accuracy: 0.7090 - val_loss: 0.6859 - val_accuracy: 0.7177\n",
      "Epoch 30/200\n",
      "19420/19420 [==============================] - 13s 663us/step - loss: 0.7020 - accuracy: 0.7070 - val_loss: 0.6835 - val_accuracy: 0.7178\n",
      "Epoch 31/200\n",
      "19420/19420 [==============================] - 14s 701us/step - loss: 0.7015 - accuracy: 0.7125 - val_loss: 0.6872 - val_accuracy: 0.7178\n",
      "Epoch 32/200\n",
      "19420/19420 [==============================] - 14s 700us/step - loss: 0.6990 - accuracy: 0.7094 - val_loss: 0.6818 - val_accuracy: 0.7209\n",
      "Epoch 33/200\n",
      "19420/19420 [==============================] - 13s 688us/step - loss: 0.6973 - accuracy: 0.7104 - val_loss: 0.6803 - val_accuracy: 0.7179\n",
      "Epoch 34/200\n",
      "19420/19420 [==============================] - 14s 697us/step - loss: 0.6988 - accuracy: 0.7120 - val_loss: 0.6833 - val_accuracy: 0.7179\n",
      "Epoch 35/200\n",
      "19420/19420 [==============================] - 13s 677us/step - loss: 0.6973 - accuracy: 0.7080 - val_loss: 0.6816 - val_accuracy: 0.7179\n",
      "Epoch 36/200\n",
      "19420/19420 [==============================] - 13s 693us/step - loss: 0.6964 - accuracy: 0.7110 - val_loss: 0.6807 - val_accuracy: 0.7179\n",
      "Epoch 37/200\n",
      "19420/19420 [==============================] - 13s 695us/step - loss: 0.6990 - accuracy: 0.7134 - val_loss: 0.6906 - val_accuracy: 0.7179\n",
      "Epoch 38/200\n",
      "19420/19420 [==============================] - 13s 680us/step - loss: 0.6950 - accuracy: 0.7119 - val_loss: 0.6939 - val_accuracy: 0.7179\n",
      "Epoch 39/200\n",
      "19420/19420 [==============================] - 13s 669us/step - loss: 0.6936 - accuracy: 0.7118 - val_loss: 0.6898 - val_accuracy: 0.7208\n",
      "Epoch 40/200\n",
      "19420/19420 [==============================] - 14s 696us/step - loss: 0.6966 - accuracy: 0.7094 - val_loss: 0.6831 - val_accuracy: 0.7210\n",
      "Epoch 41/200\n",
      "19420/19420 [==============================] - 13s 693us/step - loss: 0.6909 - accuracy: 0.7098 - val_loss: 0.6817 - val_accuracy: 0.7179\n",
      "Epoch 42/200\n",
      "19420/19420 [==============================] - 13s 686us/step - loss: 0.6926 - accuracy: 0.7073 - val_loss: 0.6788 - val_accuracy: 0.7188\n",
      "Epoch 43/200\n",
      "19420/19420 [==============================] - 14s 698us/step - loss: 0.6928 - accuracy: 0.7104 - val_loss: 0.6842 - val_accuracy: 0.7182\n",
      "Epoch 44/200\n",
      "19420/19420 [==============================] - 13s 671us/step - loss: 0.6879 - accuracy: 0.7123 - val_loss: 0.6762 - val_accuracy: 0.7188\n",
      "Epoch 45/200\n",
      "19420/19420 [==============================] - 13s 663us/step - loss: 0.7038 - accuracy: 0.7036 - val_loss: 0.7003 - val_accuracy: 0.7116\n",
      "Epoch 46/200\n",
      "19420/19420 [==============================] - 13s 676us/step - loss: 0.7140 - accuracy: 0.7028 - val_loss: 0.7028 - val_accuracy: 0.7116\n",
      "Epoch 47/200\n",
      "19420/19420 [==============================] - 13s 674us/step - loss: 0.7077 - accuracy: 0.7040 - val_loss: 0.6949 - val_accuracy: 0.7099\n",
      "Epoch 48/200\n",
      "19420/19420 [==============================] - 13s 688us/step - loss: 0.7029 - accuracy: 0.7052 - val_loss: 0.6920 - val_accuracy: 0.7147\n",
      "Epoch 49/200\n",
      "19420/19420 [==============================] - 14s 718us/step - loss: 0.7048 - accuracy: 0.7011 - val_loss: 0.7592 - val_accuracy: 0.7017\n",
      "Epoch 50/200\n",
      "19420/19420 [==============================] - 11s 588us/step - loss: 0.7269 - accuracy: 0.6953 - val_loss: 0.7103 - val_accuracy: 0.7036\n",
      "Epoch 51/200\n",
      "19420/19420 [==============================] - 11s 582us/step - loss: 0.7193 - accuracy: 0.6956 - val_loss: 0.7104 - val_accuracy: 0.7036\n",
      "Epoch 52/200\n",
      "19420/19420 [==============================] - 12s 599us/step - loss: 0.7215 - accuracy: 0.6970 - val_loss: 0.7160 - val_accuracy: 0.7048\n",
      "Epoch 53/200\n",
      "19420/19420 [==============================] - 12s 609us/step - loss: 0.7246 - accuracy: 0.6908 - val_loss: 0.7211 - val_accuracy: 0.7017\n",
      "Epoch 54/200\n",
      "19420/19420 [==============================] - 11s 590us/step - loss: 0.7052 - accuracy: 0.7023 - val_loss: 0.6947 - val_accuracy: 0.7120\n",
      "Epoch 55/200\n",
      "19420/19420 [==============================] - 19s 957us/step - loss: 0.7040 - accuracy: 0.7024 - val_loss: 0.6964 - val_accuracy: 0.7120\n",
      "Epoch 56/200\n",
      "19420/19420 [==============================] - 18s 940us/step - loss: 0.7048 - accuracy: 0.7014 - val_loss: 0.6997 - val_accuracy: 0.7084\n",
      "Epoch 57/200\n",
      "19420/19420 [==============================] - 17s 859us/step - loss: 0.7070 - accuracy: 0.6996 - val_loss: 0.6966 - val_accuracy: 0.7116\n",
      "Epoch 58/200\n",
      "19420/19420 [==============================] - 17s 890us/step - loss: 0.7069 - accuracy: 0.7018 - val_loss: 0.6968 - val_accuracy: 0.7080\n",
      "Epoch 59/200\n",
      "19420/19420 [==============================] - 18s 927us/step - loss: 0.7043 - accuracy: 0.7023 - val_loss: 0.6964 - val_accuracy: 0.7080\n",
      "Epoch 60/200\n",
      "19420/19420 [==============================] - 17s 853us/step - loss: 0.6944 - accuracy: 0.7065 - val_loss: 0.6857 - val_accuracy: 0.7183\n",
      "Epoch 61/200\n",
      "19420/19420 [==============================] - 18s 942us/step - loss: 0.6880 - accuracy: 0.7112 - val_loss: 0.6821 - val_accuracy: 0.7150\n",
      "Epoch 62/200\n",
      "19420/19420 [==============================] - 18s 910us/step - loss: 0.6928 - accuracy: 0.7090 - val_loss: 0.6794 - val_accuracy: 0.7190\n",
      "Epoch 63/200\n",
      "19420/19420 [==============================] - 18s 920us/step - loss: 0.6850 - accuracy: 0.7074 - val_loss: 0.6779 - val_accuracy: 0.7156\n",
      "Epoch 64/200\n",
      "19420/19420 [==============================] - 17s 892us/step - loss: 0.6880 - accuracy: 0.7099 - val_loss: 0.6796 - val_accuracy: 0.7156\n",
      "Epoch 65/200\n",
      "19420/19420 [==============================] - 18s 916us/step - loss: 0.6862 - accuracy: 0.7126 - val_loss: 0.6809 - val_accuracy: 0.7190\n",
      "Epoch 66/200\n",
      "19420/19420 [==============================] - 17s 893us/step - loss: 0.6850 - accuracy: 0.7074 - val_loss: 0.6791 - val_accuracy: 0.7156\n",
      "Epoch 67/200\n",
      "19420/19420 [==============================] - 15s 760us/step - loss: 0.6849 - accuracy: 0.7091 - val_loss: 0.6791 - val_accuracy: 0.7190\n",
      "Epoch 68/200\n",
      "19420/19420 [==============================] - 15s 775us/step - loss: 0.6878 - accuracy: 0.7074 - val_loss: 0.6778 - val_accuracy: 0.7190\n",
      "Epoch 69/200\n",
      "19420/19420 [==============================] - 13s 673us/step - loss: 0.7747 - accuracy: 0.6883 - val_loss: 0.7924 - val_accuracy: 0.6902\n",
      "Epoch 00069: early stopping\n"
     ]
    },
    {
     "data": {
      "text/plain": [
       "<keras.callbacks.callbacks.History at 0x268f8728c08>"
      ]
     },
     "execution_count": 32,
     "metadata": {},
     "output_type": "execute_result"
    }
   ],
   "source": [
    "classifier.fit(X_train, y_train, batch_size = 10, epochs = 200, validation_data = (X_test, y_test), callbacks=[early_stop] )"
   ]
  },
  {
   "cell_type": "code",
   "execution_count": null,
   "metadata": {},
   "outputs": [],
   "source": []
  }
 ],
 "metadata": {
  "kernelspec": {
   "display_name": "Python 3",
   "language": "python",
   "name": "python3"
  },
  "language_info": {
   "codemirror_mode": {
    "name": "ipython",
    "version": 3
   },
   "file_extension": ".py",
   "mimetype": "text/x-python",
   "name": "python",
   "nbconvert_exporter": "python",
   "pygments_lexer": "ipython3",
   "version": "3.7.5"
  }
 },
 "nbformat": 4,
 "nbformat_minor": 4
}
